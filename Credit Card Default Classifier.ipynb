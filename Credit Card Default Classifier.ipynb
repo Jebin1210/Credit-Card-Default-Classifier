{
 "cells": [
  {
   "cell_type": "code",
   "execution_count": null,
   "metadata": {},
   "outputs": [],
   "source": [
    "#Reading the data"
   ]
  },
  {
   "cell_type": "code",
   "execution_count": 22,
   "metadata": {},
   "outputs": [],
   "source": [
    "import pandas as pd\n",
    "import numpy as np"
   ]
  },
  {
   "cell_type": "code",
   "execution_count": 23,
   "metadata": {},
   "outputs": [],
   "source": [
    "data = pd.read_csv(\"Quiz.txt\")"
   ]
  },
  {
   "cell_type": "code",
   "execution_count": 24,
   "metadata": {},
   "outputs": [
    {
     "data": {
      "text/html": [
       "<div>\n",
       "<style scoped>\n",
       "    .dataframe tbody tr th:only-of-type {\n",
       "        vertical-align: middle;\n",
       "    }\n",
       "\n",
       "    .dataframe tbody tr th {\n",
       "        vertical-align: top;\n",
       "    }\n",
       "\n",
       "    .dataframe thead th {\n",
       "        text-align: right;\n",
       "    }\n",
       "</style>\n",
       "<table border=\"1\" class=\"dataframe\">\n",
       "  <thead>\n",
       "    <tr style=\"text-align: right;\">\n",
       "      <th></th>\n",
       "      <th>checking_balance</th>\n",
       "      <th>months_loan_duration</th>\n",
       "      <th>credit_history</th>\n",
       "      <th>purpose</th>\n",
       "      <th>amount</th>\n",
       "      <th>savings_balance</th>\n",
       "      <th>employment_length</th>\n",
       "      <th>installment_rate</th>\n",
       "      <th>personal_status</th>\n",
       "      <th>other_debtors</th>\n",
       "      <th>...</th>\n",
       "      <th>property</th>\n",
       "      <th>age</th>\n",
       "      <th>installment_plan</th>\n",
       "      <th>housing</th>\n",
       "      <th>existing_credits</th>\n",
       "      <th>default</th>\n",
       "      <th>dependents</th>\n",
       "      <th>telephone</th>\n",
       "      <th>foreign_worker</th>\n",
       "      <th>job</th>\n",
       "    </tr>\n",
       "  </thead>\n",
       "  <tbody>\n",
       "    <tr>\n",
       "      <th>0</th>\n",
       "      <td>&lt; 0 DM</td>\n",
       "      <td>6</td>\n",
       "      <td>critical</td>\n",
       "      <td>radio/tv</td>\n",
       "      <td>1169</td>\n",
       "      <td>unknown</td>\n",
       "      <td>&gt; 7 yrs</td>\n",
       "      <td>4</td>\n",
       "      <td>single male</td>\n",
       "      <td>none</td>\n",
       "      <td>...</td>\n",
       "      <td>real estate</td>\n",
       "      <td>67</td>\n",
       "      <td>none</td>\n",
       "      <td>own</td>\n",
       "      <td>2</td>\n",
       "      <td>1</td>\n",
       "      <td>1</td>\n",
       "      <td>yes</td>\n",
       "      <td>yes</td>\n",
       "      <td>skilled employee</td>\n",
       "    </tr>\n",
       "    <tr>\n",
       "      <th>1</th>\n",
       "      <td>1 - 200 DM</td>\n",
       "      <td>48</td>\n",
       "      <td>repaid</td>\n",
       "      <td>radio/tv</td>\n",
       "      <td>5951</td>\n",
       "      <td>&lt; 100 DM</td>\n",
       "      <td>1 - 4 yrs</td>\n",
       "      <td>2</td>\n",
       "      <td>female</td>\n",
       "      <td>none</td>\n",
       "      <td>...</td>\n",
       "      <td>real estate</td>\n",
       "      <td>22</td>\n",
       "      <td>none</td>\n",
       "      <td>own</td>\n",
       "      <td>1</td>\n",
       "      <td>2</td>\n",
       "      <td>1</td>\n",
       "      <td>none</td>\n",
       "      <td>yes</td>\n",
       "      <td>skilled employee</td>\n",
       "    </tr>\n",
       "    <tr>\n",
       "      <th>2</th>\n",
       "      <td>unknown</td>\n",
       "      <td>12</td>\n",
       "      <td>critical</td>\n",
       "      <td>education</td>\n",
       "      <td>2096</td>\n",
       "      <td>&lt; 100 DM</td>\n",
       "      <td>4 - 7 yrs</td>\n",
       "      <td>2</td>\n",
       "      <td>single male</td>\n",
       "      <td>none</td>\n",
       "      <td>...</td>\n",
       "      <td>real estate</td>\n",
       "      <td>49</td>\n",
       "      <td>none</td>\n",
       "      <td>own</td>\n",
       "      <td>1</td>\n",
       "      <td>1</td>\n",
       "      <td>2</td>\n",
       "      <td>none</td>\n",
       "      <td>yes</td>\n",
       "      <td>unskilled resident</td>\n",
       "    </tr>\n",
       "    <tr>\n",
       "      <th>3</th>\n",
       "      <td>&lt; 0 DM</td>\n",
       "      <td>42</td>\n",
       "      <td>repaid</td>\n",
       "      <td>furniture</td>\n",
       "      <td>7882</td>\n",
       "      <td>&lt; 100 DM</td>\n",
       "      <td>4 - 7 yrs</td>\n",
       "      <td>2</td>\n",
       "      <td>single male</td>\n",
       "      <td>guarantor</td>\n",
       "      <td>...</td>\n",
       "      <td>building society savings</td>\n",
       "      <td>45</td>\n",
       "      <td>none</td>\n",
       "      <td>for free</td>\n",
       "      <td>1</td>\n",
       "      <td>1</td>\n",
       "      <td>2</td>\n",
       "      <td>none</td>\n",
       "      <td>yes</td>\n",
       "      <td>skilled employee</td>\n",
       "    </tr>\n",
       "    <tr>\n",
       "      <th>4</th>\n",
       "      <td>&lt; 0 DM</td>\n",
       "      <td>24</td>\n",
       "      <td>delayed</td>\n",
       "      <td>car (new)</td>\n",
       "      <td>4870</td>\n",
       "      <td>&lt; 100 DM</td>\n",
       "      <td>1 - 4 yrs</td>\n",
       "      <td>3</td>\n",
       "      <td>single male</td>\n",
       "      <td>none</td>\n",
       "      <td>...</td>\n",
       "      <td>unknown/none</td>\n",
       "      <td>53</td>\n",
       "      <td>none</td>\n",
       "      <td>for free</td>\n",
       "      <td>2</td>\n",
       "      <td>2</td>\n",
       "      <td>2</td>\n",
       "      <td>none</td>\n",
       "      <td>yes</td>\n",
       "      <td>skilled employee</td>\n",
       "    </tr>\n",
       "  </tbody>\n",
       "</table>\n",
       "<p>5 rows × 21 columns</p>\n",
       "</div>"
      ],
      "text/plain": [
       "  checking_balance  months_loan_duration credit_history    purpose  amount  \\\n",
       "0           < 0 DM                     6       critical   radio/tv    1169   \n",
       "1       1 - 200 DM                    48         repaid   radio/tv    5951   \n",
       "2          unknown                    12       critical  education    2096   \n",
       "3           < 0 DM                    42         repaid  furniture    7882   \n",
       "4           < 0 DM                    24        delayed  car (new)    4870   \n",
       "\n",
       "  savings_balance employment_length  installment_rate personal_status  \\\n",
       "0         unknown           > 7 yrs                 4     single male   \n",
       "1        < 100 DM         1 - 4 yrs                 2          female   \n",
       "2        < 100 DM         4 - 7 yrs                 2     single male   \n",
       "3        < 100 DM         4 - 7 yrs                 2     single male   \n",
       "4        < 100 DM         1 - 4 yrs                 3     single male   \n",
       "\n",
       "  other_debtors  ...                  property age  installment_plan  \\\n",
       "0          none  ...               real estate  67              none   \n",
       "1          none  ...               real estate  22              none   \n",
       "2          none  ...               real estate  49              none   \n",
       "3     guarantor  ...  building society savings  45              none   \n",
       "4          none  ...              unknown/none  53              none   \n",
       "\n",
       "    housing existing_credits  default  dependents  telephone foreign_worker  \\\n",
       "0       own                2        1           1        yes            yes   \n",
       "1       own                1        2           1       none            yes   \n",
       "2       own                1        1           2       none            yes   \n",
       "3  for free                1        1           2       none            yes   \n",
       "4  for free                2        2           2       none            yes   \n",
       "\n",
       "                  job  \n",
       "0    skilled employee  \n",
       "1    skilled employee  \n",
       "2  unskilled resident  \n",
       "3    skilled employee  \n",
       "4    skilled employee  \n",
       "\n",
       "[5 rows x 21 columns]"
      ]
     },
     "execution_count": 24,
     "metadata": {},
     "output_type": "execute_result"
    }
   ],
   "source": [
    "data.head()"
   ]
  },
  {
   "cell_type": "code",
   "execution_count": 25,
   "metadata": {},
   "outputs": [
    {
     "data": {
      "text/plain": [
       "array([1, 2], dtype=int64)"
      ]
     },
     "execution_count": 25,
     "metadata": {},
     "output_type": "execute_result"
    }
   ],
   "source": [
    "data.default.unique()"
   ]
  },
  {
   "cell_type": "code",
   "execution_count": 26,
   "metadata": {},
   "outputs": [
    {
     "data": {
      "text/plain": [
       "unknown       394\n",
       "< 0 DM        274\n",
       "1 - 200 DM    269\n",
       "> 200 DM       63\n",
       "Name: checking_balance, dtype: int64"
      ]
     },
     "execution_count": 26,
     "metadata": {},
     "output_type": "execute_result"
    }
   ],
   "source": [
    "data.checking_balance.value_counts()"
   ]
  },
  {
   "cell_type": "code",
   "execution_count": 27,
   "metadata": {},
   "outputs": [
    {
     "data": {
      "text/plain": [
       "< 100 DM         603\n",
       "unknown          183\n",
       "101 - 500 DM     103\n",
       "501 - 1000 DM     63\n",
       "> 1000 DM         48\n",
       "Name: savings_balance, dtype: int64"
      ]
     },
     "execution_count": 27,
     "metadata": {},
     "output_type": "execute_result"
    }
   ],
   "source": [
    "data.savings_balance.value_counts()"
   ]
  },
  {
   "cell_type": "code",
   "execution_count": 28,
   "metadata": {},
   "outputs": [],
   "source": [
    "out = data.default"
   ]
  },
  {
   "cell_type": "code",
   "execution_count": 29,
   "metadata": {},
   "outputs": [],
   "source": [
    "inp = data.drop(columns = \"default\", axis =1)"
   ]
  },
  {
   "cell_type": "code",
   "execution_count": 30,
   "metadata": {},
   "outputs": [
    {
     "data": {
      "text/plain": [
       "(1000, 20)"
      ]
     },
     "execution_count": 30,
     "metadata": {},
     "output_type": "execute_result"
    }
   ],
   "source": [
    "inp.shape"
   ]
  },
  {
   "cell_type": "code",
   "execution_count": 31,
   "metadata": {},
   "outputs": [
    {
     "data": {
      "text/plain": [
       "(1000, 21)"
      ]
     },
     "execution_count": 31,
     "metadata": {},
     "output_type": "execute_result"
    }
   ],
   "source": [
    "data.shape"
   ]
  },
  {
   "cell_type": "code",
   "execution_count": 138,
   "metadata": {},
   "outputs": [],
   "source": [
    "#Splitting the data into ouput and input columns"
   ]
  },
  {
   "cell_type": "code",
   "execution_count": 32,
   "metadata": {},
   "outputs": [],
   "source": [
    "from sklearn.model_selection import train_test_split"
   ]
  },
  {
   "cell_type": "code",
   "execution_count": 48,
   "metadata": {},
   "outputs": [],
   "source": [
    "xtrain,xtest,ytrain,ytest = train_test_split(inp, out, test_size=0.3,random_state = 100)"
   ]
  },
  {
   "cell_type": "code",
   "execution_count": 34,
   "metadata": {},
   "outputs": [
    {
     "name": "stdout",
     "output_type": "stream",
     "text": [
      "(700, 20)\n",
      "(700,)\n",
      "(300, 20)\n"
     ]
    },
    {
     "data": {
      "text/plain": [
       "(300,)"
      ]
     },
     "execution_count": 34,
     "metadata": {},
     "output_type": "execute_result"
    }
   ],
   "source": [
    "print(xtrain.shape)\n",
    "print(ytrain.shape)\n",
    "print(xtest.shape)\n",
    "ytest.shape"
   ]
  },
  {
   "cell_type": "code",
   "execution_count": 46,
   "metadata": {},
   "outputs": [],
   "source": [
    "inp = pd.get_dummies(inp)"
   ]
  },
  {
   "cell_type": "code",
   "execution_count": 47,
   "metadata": {},
   "outputs": [
    {
     "data": {
      "text/html": [
       "<div>\n",
       "<style scoped>\n",
       "    .dataframe tbody tr th:only-of-type {\n",
       "        vertical-align: middle;\n",
       "    }\n",
       "\n",
       "    .dataframe tbody tr th {\n",
       "        vertical-align: top;\n",
       "    }\n",
       "\n",
       "    .dataframe thead th {\n",
       "        text-align: right;\n",
       "    }\n",
       "</style>\n",
       "<table border=\"1\" class=\"dataframe\">\n",
       "  <thead>\n",
       "    <tr style=\"text-align: right;\">\n",
       "      <th></th>\n",
       "      <th>months_loan_duration</th>\n",
       "      <th>amount</th>\n",
       "      <th>installment_rate</th>\n",
       "      <th>residence_history</th>\n",
       "      <th>age</th>\n",
       "      <th>existing_credits</th>\n",
       "      <th>dependents</th>\n",
       "      <th>checking_balance_1 - 200 DM</th>\n",
       "      <th>checking_balance_&lt; 0 DM</th>\n",
       "      <th>checking_balance_&gt; 200 DM</th>\n",
       "      <th>...</th>\n",
       "      <th>housing_own</th>\n",
       "      <th>housing_rent</th>\n",
       "      <th>telephone_none</th>\n",
       "      <th>telephone_yes</th>\n",
       "      <th>foreign_worker_no</th>\n",
       "      <th>foreign_worker_yes</th>\n",
       "      <th>job_mangement self-employed</th>\n",
       "      <th>job_skilled employee</th>\n",
       "      <th>job_unemployed non-resident</th>\n",
       "      <th>job_unskilled resident</th>\n",
       "    </tr>\n",
       "  </thead>\n",
       "  <tbody>\n",
       "    <tr>\n",
       "      <th>0</th>\n",
       "      <td>6</td>\n",
       "      <td>1169</td>\n",
       "      <td>4</td>\n",
       "      <td>4</td>\n",
       "      <td>67</td>\n",
       "      <td>2</td>\n",
       "      <td>1</td>\n",
       "      <td>0</td>\n",
       "      <td>1</td>\n",
       "      <td>0</td>\n",
       "      <td>...</td>\n",
       "      <td>1</td>\n",
       "      <td>0</td>\n",
       "      <td>0</td>\n",
       "      <td>1</td>\n",
       "      <td>0</td>\n",
       "      <td>1</td>\n",
       "      <td>0</td>\n",
       "      <td>1</td>\n",
       "      <td>0</td>\n",
       "      <td>0</td>\n",
       "    </tr>\n",
       "    <tr>\n",
       "      <th>1</th>\n",
       "      <td>48</td>\n",
       "      <td>5951</td>\n",
       "      <td>2</td>\n",
       "      <td>2</td>\n",
       "      <td>22</td>\n",
       "      <td>1</td>\n",
       "      <td>1</td>\n",
       "      <td>1</td>\n",
       "      <td>0</td>\n",
       "      <td>0</td>\n",
       "      <td>...</td>\n",
       "      <td>1</td>\n",
       "      <td>0</td>\n",
       "      <td>1</td>\n",
       "      <td>0</td>\n",
       "      <td>0</td>\n",
       "      <td>1</td>\n",
       "      <td>0</td>\n",
       "      <td>1</td>\n",
       "      <td>0</td>\n",
       "      <td>0</td>\n",
       "    </tr>\n",
       "    <tr>\n",
       "      <th>2</th>\n",
       "      <td>12</td>\n",
       "      <td>2096</td>\n",
       "      <td>2</td>\n",
       "      <td>3</td>\n",
       "      <td>49</td>\n",
       "      <td>1</td>\n",
       "      <td>2</td>\n",
       "      <td>0</td>\n",
       "      <td>0</td>\n",
       "      <td>0</td>\n",
       "      <td>...</td>\n",
       "      <td>1</td>\n",
       "      <td>0</td>\n",
       "      <td>1</td>\n",
       "      <td>0</td>\n",
       "      <td>0</td>\n",
       "      <td>1</td>\n",
       "      <td>0</td>\n",
       "      <td>0</td>\n",
       "      <td>0</td>\n",
       "      <td>1</td>\n",
       "    </tr>\n",
       "    <tr>\n",
       "      <th>3</th>\n",
       "      <td>42</td>\n",
       "      <td>7882</td>\n",
       "      <td>2</td>\n",
       "      <td>4</td>\n",
       "      <td>45</td>\n",
       "      <td>1</td>\n",
       "      <td>2</td>\n",
       "      <td>0</td>\n",
       "      <td>1</td>\n",
       "      <td>0</td>\n",
       "      <td>...</td>\n",
       "      <td>0</td>\n",
       "      <td>0</td>\n",
       "      <td>1</td>\n",
       "      <td>0</td>\n",
       "      <td>0</td>\n",
       "      <td>1</td>\n",
       "      <td>0</td>\n",
       "      <td>1</td>\n",
       "      <td>0</td>\n",
       "      <td>0</td>\n",
       "    </tr>\n",
       "    <tr>\n",
       "      <th>4</th>\n",
       "      <td>24</td>\n",
       "      <td>4870</td>\n",
       "      <td>3</td>\n",
       "      <td>4</td>\n",
       "      <td>53</td>\n",
       "      <td>2</td>\n",
       "      <td>2</td>\n",
       "      <td>0</td>\n",
       "      <td>1</td>\n",
       "      <td>0</td>\n",
       "      <td>...</td>\n",
       "      <td>0</td>\n",
       "      <td>0</td>\n",
       "      <td>1</td>\n",
       "      <td>0</td>\n",
       "      <td>0</td>\n",
       "      <td>1</td>\n",
       "      <td>0</td>\n",
       "      <td>1</td>\n",
       "      <td>0</td>\n",
       "      <td>0</td>\n",
       "    </tr>\n",
       "  </tbody>\n",
       "</table>\n",
       "<p>5 rows × 61 columns</p>\n",
       "</div>"
      ],
      "text/plain": [
       "   months_loan_duration  amount  installment_rate  residence_history  age  \\\n",
       "0                     6    1169                 4                  4   67   \n",
       "1                    48    5951                 2                  2   22   \n",
       "2                    12    2096                 2                  3   49   \n",
       "3                    42    7882                 2                  4   45   \n",
       "4                    24    4870                 3                  4   53   \n",
       "\n",
       "   existing_credits  dependents  checking_balance_1 - 200 DM  \\\n",
       "0                 2           1                            0   \n",
       "1                 1           1                            1   \n",
       "2                 1           2                            0   \n",
       "3                 1           2                            0   \n",
       "4                 2           2                            0   \n",
       "\n",
       "   checking_balance_< 0 DM  checking_balance_> 200 DM  ...  housing_own  \\\n",
       "0                        1                          0  ...            1   \n",
       "1                        0                          0  ...            1   \n",
       "2                        0                          0  ...            1   \n",
       "3                        1                          0  ...            0   \n",
       "4                        1                          0  ...            0   \n",
       "\n",
       "   housing_rent  telephone_none  telephone_yes  foreign_worker_no  \\\n",
       "0             0               0              1                  0   \n",
       "1             0               1              0                  0   \n",
       "2             0               1              0                  0   \n",
       "3             0               1              0                  0   \n",
       "4             0               1              0                  0   \n",
       "\n",
       "   foreign_worker_yes  job_mangement self-employed  job_skilled employee  \\\n",
       "0                   1                            0                     1   \n",
       "1                   1                            0                     1   \n",
       "2                   1                            0                     0   \n",
       "3                   1                            0                     1   \n",
       "4                   1                            0                     1   \n",
       "\n",
       "   job_unemployed non-resident  job_unskilled resident  \n",
       "0                            0                       0  \n",
       "1                            0                       0  \n",
       "2                            0                       1  \n",
       "3                            0                       0  \n",
       "4                            0                       0  \n",
       "\n",
       "[5 rows x 61 columns]"
      ]
     },
     "execution_count": 47,
     "metadata": {},
     "output_type": "execute_result"
    }
   ],
   "source": [
    "inp.head()"
   ]
  },
  {
   "cell_type": "code",
   "execution_count": 139,
   "metadata": {},
   "outputs": [],
   "source": [
    "#Applying Decision Tree Classifier"
   ]
  },
  {
   "cell_type": "code",
   "execution_count": 42,
   "metadata": {},
   "outputs": [],
   "source": [
    "from sklearn.tree import DecisionTreeClassifier"
   ]
  },
  {
   "cell_type": "code",
   "execution_count": 43,
   "metadata": {},
   "outputs": [],
   "source": [
    "model_DT = DecisionTreeClassifier()"
   ]
  },
  {
   "cell_type": "code",
   "execution_count": 49,
   "metadata": {},
   "outputs": [
    {
     "data": {
      "text/plain": [
       "DecisionTreeClassifier(class_weight=None, criterion='gini', max_depth=None,\n",
       "            max_features=None, max_leaf_nodes=None,\n",
       "            min_impurity_decrease=0.0, min_impurity_split=None,\n",
       "            min_samples_leaf=1, min_samples_split=2,\n",
       "            min_weight_fraction_leaf=0.0, presort=False, random_state=None,\n",
       "            splitter='best')"
      ]
     },
     "execution_count": 49,
     "metadata": {},
     "output_type": "execute_result"
    }
   ],
   "source": [
    "model_DT.fit(xtrain,ytrain)"
   ]
  },
  {
   "cell_type": "code",
   "execution_count": 50,
   "metadata": {},
   "outputs": [],
   "source": [
    "ypred = model_DT.predict(xtest)"
   ]
  },
  {
   "cell_type": "code",
   "execution_count": 51,
   "metadata": {},
   "outputs": [
    {
     "data": {
      "text/plain": [
       "array([1, 2, 1, 1, 1, 2, 1, 1, 1, 1, 1, 2, 1, 2, 2, 2, 1, 1, 2, 1, 2, 1,\n",
       "       1, 2, 1, 2, 1, 1, 2, 1, 1, 1, 2, 1, 1, 1, 2, 1, 1, 2, 1, 1, 2, 2,\n",
       "       1, 2, 1, 1, 2, 1, 1, 2, 2, 2, 1, 1, 2, 1, 1, 1, 1, 1, 2, 1, 2, 2,\n",
       "       1, 2, 1, 2, 1, 2, 1, 1, 1, 2, 1, 1, 1, 1, 2, 1, 2, 1, 1, 1, 1, 2,\n",
       "       1, 1, 1, 1, 1, 1, 2, 1, 1, 2, 2, 2, 1, 1, 1, 1, 1, 1, 1, 1, 2, 1,\n",
       "       1, 1, 1, 2, 1, 1, 1, 1, 1, 2, 2, 1, 1, 2, 1, 2, 1, 1, 1, 1, 2, 2,\n",
       "       2, 1, 1, 1, 1, 2, 1, 2, 1, 1, 2, 1, 1, 1, 2, 1, 1, 1, 1, 2, 1, 2,\n",
       "       1, 1, 1, 1, 1, 1, 1, 2, 2, 1, 1, 2, 1, 1, 1, 2, 1, 1, 1, 1, 1, 2,\n",
       "       1, 2, 1, 2, 1, 2, 1, 2, 2, 2, 1, 1, 2, 1, 1, 1, 2, 1, 2, 2, 1, 1,\n",
       "       1, 2, 1, 1, 1, 1, 2, 2, 1, 1, 1, 1, 2, 1, 1, 2, 2, 2, 1, 1, 1, 1,\n",
       "       1, 1, 2, 2, 1, 2, 2, 1, 1, 2, 1, 1, 2, 1, 1, 2, 1, 2, 1, 1, 1, 1,\n",
       "       1, 1, 2, 1, 2, 1, 2, 2, 1, 1, 2, 2, 1, 1, 1, 1, 2, 1, 1, 1, 2, 1,\n",
       "       2, 1, 2, 2, 1, 1, 1, 1, 1, 1, 1, 1, 1, 1, 1, 2, 1, 1, 1, 1, 1, 1,\n",
       "       1, 1, 2, 2, 1, 1, 1, 1, 2, 1, 2, 1, 1, 1], dtype=int64)"
      ]
     },
     "execution_count": 51,
     "metadata": {},
     "output_type": "execute_result"
    }
   ],
   "source": [
    "ypred"
   ]
  },
  {
   "cell_type": "code",
   "execution_count": 140,
   "metadata": {},
   "outputs": [],
   "source": [
    "#Finding the classification report"
   ]
  },
  {
   "cell_type": "code",
   "execution_count": 52,
   "metadata": {},
   "outputs": [],
   "source": [
    "from sklearn.metrics import accuracy_score,confusion_matrix,classification_report"
   ]
  },
  {
   "cell_type": "code",
   "execution_count": 53,
   "metadata": {},
   "outputs": [
    {
     "name": "stdout",
     "output_type": "stream",
     "text": [
      "              precision    recall  f1-score   support\n",
      "\n",
      "           1       0.81      0.75      0.78       219\n",
      "           2       0.43      0.52      0.47        81\n",
      "\n",
      "   micro avg       0.69      0.69      0.69       300\n",
      "   macro avg       0.62      0.63      0.62       300\n",
      "weighted avg       0.71      0.69      0.69       300\n",
      "\n"
     ]
    }
   ],
   "source": [
    "print(classification_report(ytest,ypred))"
   ]
  },
  {
   "cell_type": "code",
   "execution_count": 141,
   "metadata": {},
   "outputs": [],
   "source": [
    "#Performing hyper parametric tuning to the model"
   ]
  },
  {
   "cell_type": "code",
   "execution_count": 54,
   "metadata": {},
   "outputs": [
    {
     "data": {
      "text/plain": [
       "GridSearchCV(cv=KFold(n_splits=5, random_state=100, shuffle=True),\n",
       "       error_score='raise-deprecating',\n",
       "       estimator=DecisionTreeClassifier(class_weight=None, criterion='gini', max_depth=None,\n",
       "            max_features=None, max_leaf_nodes=None,\n",
       "            min_impurity_decrease=0.0, min_impurity_split=None,\n",
       "            min_samples_leaf=1, min_samples_split=2,\n",
       "            min_weight_fraction_leaf=0.0, presort=False, random_state=None,\n",
       "            splitter='best'),\n",
       "       fit_params=None, iid='warn', n_jobs=None,\n",
       "       param_grid=[{'criterion': ['gini', 'entropy'], 'max_depth': [10, 20, 30, 40], 'min_samples_split': [10, 20, 30, 40], 'min_samples_leaf': [20, 30, 40]}],\n",
       "       pre_dispatch='2*n_jobs', refit=True, return_train_score='warn',\n",
       "       scoring='f1', verbose=0)"
      ]
     },
     "execution_count": 54,
     "metadata": {},
     "output_type": "execute_result"
    }
   ],
   "source": [
    "from sklearn.model_selection import GridSearchCV\n",
    "from sklearn.model_selection import KFold\n",
    "\n",
    "folds = KFold(n_splits = 5,shuffle = True, random_state =100)\n",
    "hyper_params = [{'criterion': [\"gini\",\"entropy\"],'max_depth':[10,20,30,40],'min_samples_split' :[10,20,30,40], \"max_depth\": [10,20,30,40], \"min_samples_leaf\":[20,30,40]}]\n",
    "model_DTH = GridSearchCV(model_DT,param_grid=hyper_params,scoring = 'f1', cv = folds)\n",
    "model_DTH.fit(xtrain,ytrain)"
   ]
  },
  {
   "cell_type": "code",
   "execution_count": 55,
   "metadata": {},
   "outputs": [],
   "source": [
    "ypred_DTH = model_DTH.predict(xtest)"
   ]
  },
  {
   "cell_type": "code",
   "execution_count": 56,
   "metadata": {},
   "outputs": [
    {
     "name": "stdout",
     "output_type": "stream",
     "text": [
      "              precision    recall  f1-score   support\n",
      "\n",
      "           1       0.78      0.91      0.84       219\n",
      "           2       0.55      0.30      0.38        81\n",
      "\n",
      "   micro avg       0.74      0.74      0.74       300\n",
      "   macro avg       0.66      0.60      0.61       300\n",
      "weighted avg       0.71      0.74      0.72       300\n",
      "\n"
     ]
    }
   ],
   "source": [
    "print(classification_report(ytest,ypred_DTH))"
   ]
  },
  {
   "cell_type": "code",
   "execution_count": 57,
   "metadata": {},
   "outputs": [
    {
     "name": "stdout",
     "output_type": "stream",
     "text": [
      "{'criterion': 'gini', 'max_depth': 10, 'min_samples_leaf': 40, 'min_samples_split': 10}\n"
     ]
    }
   ],
   "source": [
    "print(model_DTH.best_params_)"
   ]
  },
  {
   "cell_type": "code",
   "execution_count": 58,
   "metadata": {},
   "outputs": [
    {
     "data": {
      "text/plain": [
       "array([[199,  20],\n",
       "       [ 57,  24]], dtype=int64)"
      ]
     },
     "execution_count": 58,
     "metadata": {},
     "output_type": "execute_result"
    }
   ],
   "source": [
    "confusion_matrix(ytest,ypred_DTH)"
   ]
  },
  {
   "cell_type": "code",
   "execution_count": 142,
   "metadata": {},
   "outputs": [],
   "source": [
    "#Find the probability values of predicted values and limiting the threshold"
   ]
  },
  {
   "cell_type": "code",
   "execution_count": 59,
   "metadata": {},
   "outputs": [],
   "source": [
    "n = model_DTH.predict_proba(xtest)"
   ]
  },
  {
   "cell_type": "code",
   "execution_count": 60,
   "metadata": {},
   "outputs": [],
   "source": [
    "n = pd.DataFrame(n)"
   ]
  },
  {
   "cell_type": "code",
   "execution_count": 61,
   "metadata": {},
   "outputs": [
    {
     "data": {
      "text/html": [
       "<div>\n",
       "<style scoped>\n",
       "    .dataframe tbody tr th:only-of-type {\n",
       "        vertical-align: middle;\n",
       "    }\n",
       "\n",
       "    .dataframe tbody tr th {\n",
       "        vertical-align: top;\n",
       "    }\n",
       "\n",
       "    .dataframe thead th {\n",
       "        text-align: right;\n",
       "    }\n",
       "</style>\n",
       "<table border=\"1\" class=\"dataframe\">\n",
       "  <thead>\n",
       "    <tr style=\"text-align: right;\">\n",
       "      <th></th>\n",
       "      <th>0</th>\n",
       "      <th>1</th>\n",
       "    </tr>\n",
       "  </thead>\n",
       "  <tbody>\n",
       "    <tr>\n",
       "      <th>0</th>\n",
       "      <td>0.876923</td>\n",
       "      <td>0.123077</td>\n",
       "    </tr>\n",
       "    <tr>\n",
       "      <th>1</th>\n",
       "      <td>0.541667</td>\n",
       "      <td>0.458333</td>\n",
       "    </tr>\n",
       "    <tr>\n",
       "      <th>2</th>\n",
       "      <td>0.902439</td>\n",
       "      <td>0.097561</td>\n",
       "    </tr>\n",
       "    <tr>\n",
       "      <th>3</th>\n",
       "      <td>0.803922</td>\n",
       "      <td>0.196078</td>\n",
       "    </tr>\n",
       "    <tr>\n",
       "      <th>4</th>\n",
       "      <td>0.545455</td>\n",
       "      <td>0.454545</td>\n",
       "    </tr>\n",
       "  </tbody>\n",
       "</table>\n",
       "</div>"
      ],
      "text/plain": [
       "          0         1\n",
       "0  0.876923  0.123077\n",
       "1  0.541667  0.458333\n",
       "2  0.902439  0.097561\n",
       "3  0.803922  0.196078\n",
       "4  0.545455  0.454545"
      ]
     },
     "execution_count": 61,
     "metadata": {},
     "output_type": "execute_result"
    }
   ],
   "source": [
    "n.head()"
   ]
  },
  {
   "cell_type": "code",
   "execution_count": 62,
   "metadata": {},
   "outputs": [],
   "source": [
    "lst = []\n",
    "for i in n[0]:\n",
    "    if(i>0.3):\n",
    "        lst.append(1)\n",
    "    else:\n",
    "        lst.append(2)\n",
    "        \n",
    "n[\"Values\"] = lst"
   ]
  },
  {
   "cell_type": "code",
   "execution_count": 63,
   "metadata": {},
   "outputs": [
    {
     "data": {
      "text/html": [
       "<div>\n",
       "<style scoped>\n",
       "    .dataframe tbody tr th:only-of-type {\n",
       "        vertical-align: middle;\n",
       "    }\n",
       "\n",
       "    .dataframe tbody tr th {\n",
       "        vertical-align: top;\n",
       "    }\n",
       "\n",
       "    .dataframe thead th {\n",
       "        text-align: right;\n",
       "    }\n",
       "</style>\n",
       "<table border=\"1\" class=\"dataframe\">\n",
       "  <thead>\n",
       "    <tr style=\"text-align: right;\">\n",
       "      <th></th>\n",
       "      <th>0</th>\n",
       "      <th>1</th>\n",
       "      <th>Values</th>\n",
       "    </tr>\n",
       "  </thead>\n",
       "  <tbody>\n",
       "    <tr>\n",
       "      <th>0</th>\n",
       "      <td>0.876923</td>\n",
       "      <td>0.123077</td>\n",
       "      <td>1</td>\n",
       "    </tr>\n",
       "    <tr>\n",
       "      <th>1</th>\n",
       "      <td>0.541667</td>\n",
       "      <td>0.458333</td>\n",
       "      <td>1</td>\n",
       "    </tr>\n",
       "    <tr>\n",
       "      <th>2</th>\n",
       "      <td>0.902439</td>\n",
       "      <td>0.097561</td>\n",
       "      <td>1</td>\n",
       "    </tr>\n",
       "    <tr>\n",
       "      <th>3</th>\n",
       "      <td>0.803922</td>\n",
       "      <td>0.196078</td>\n",
       "      <td>1</td>\n",
       "    </tr>\n",
       "    <tr>\n",
       "      <th>4</th>\n",
       "      <td>0.545455</td>\n",
       "      <td>0.454545</td>\n",
       "      <td>1</td>\n",
       "    </tr>\n",
       "  </tbody>\n",
       "</table>\n",
       "</div>"
      ],
      "text/plain": [
       "          0         1  Values\n",
       "0  0.876923  0.123077       1\n",
       "1  0.541667  0.458333       1\n",
       "2  0.902439  0.097561       1\n",
       "3  0.803922  0.196078       1\n",
       "4  0.545455  0.454545       1"
      ]
     },
     "execution_count": 63,
     "metadata": {},
     "output_type": "execute_result"
    }
   ],
   "source": [
    "n.head()"
   ]
  },
  {
   "cell_type": "code",
   "execution_count": 64,
   "metadata": {},
   "outputs": [
    {
     "data": {
      "text/plain": [
       "1    271\n",
       "2     29\n",
       "Name: Values, dtype: int64"
      ]
     },
     "execution_count": 64,
     "metadata": {},
     "output_type": "execute_result"
    }
   ],
   "source": [
    "n.Values.value_counts()"
   ]
  },
  {
   "cell_type": "code",
   "execution_count": 65,
   "metadata": {},
   "outputs": [
    {
     "name": "stdout",
     "output_type": "stream",
     "text": [
      "              precision    recall  f1-score   support\n",
      "\n",
      "           1       0.77      0.95      0.85       219\n",
      "           2       0.62      0.22      0.33        81\n",
      "\n",
      "   micro avg       0.75      0.75      0.75       300\n",
      "   macro avg       0.69      0.59      0.59       300\n",
      "weighted avg       0.73      0.75      0.71       300\n",
      "\n"
     ]
    }
   ],
   "source": [
    "print(classification_report(ytest,n.Values))"
   ]
  },
  {
   "cell_type": "code",
   "execution_count": 66,
   "metadata": {},
   "outputs": [
    {
     "name": "stdout",
     "output_type": "stream",
     "text": [
      "[[208  11]\n",
      " [ 63  18]]\n",
      "0.7533333333333333\n",
      "0.9497716894977168\n",
      "0.2222222222222222\n"
     ]
    }
   ],
   "source": [
    "con_DF =confusion_matrix(ytest,n.Values)\n",
    "print(con_DF)\n",
    "total_DF = sum(sum(con_DF))\n",
    "acc_DF = (con_DF[0,0]+con_DF[1,1])/total_DF\n",
    "print(acc_DF)\n",
    "sen_DF = con_DF[0,0]/(con_DF[0,0]+con_DF[0,1])\n",
    "print(sen_DF)\n",
    "spec_DF= con_DF[1,1]/(con_DF[1,0]+con_DF[1,1])\n",
    "print(spec_DF)"
   ]
  },
  {
   "cell_type": "code",
   "execution_count": 143,
   "metadata": {},
   "outputs": [],
   "source": [
    "#Plotiing the ROC curve for the model"
   ]
  },
  {
   "cell_type": "code",
   "execution_count": 67,
   "metadata": {},
   "outputs": [],
   "source": [
    "from sklearn.metrics import roc_curve, roc_auc_score"
   ]
  },
  {
   "cell_type": "code",
   "execution_count": 69,
   "metadata": {},
   "outputs": [
    {
     "data": {
      "image/png": "[encoded data removed]",
      "text/plain": [
       "<Figure size 432x288 with 1 Axes>"
      ]
     },
     "metadata": {
      "needs_background": "light"
     },
     "output_type": "display_data"
    }
   ],
   "source": [
    "import matplotlib.pyplot as plt\n",
    "%matplotlib inline\n",
    "fpr,tpr,threshold = roc_curve(ytest,n.Values,pos_label =2)\n",
    "plt.plot(fpr,tpr)\n",
    "plt.xlim([0.0,1.0])\n",
    "plt.ylim([0.0,1.0])\n",
    "plt.xlabel(\"False Positive Rate\")\n",
    "plt.ylabel(\"True Positive Rate\")\n",
    "plt.show()"
   ]
  },
  {
   "cell_type": "code",
   "execution_count": 144,
   "metadata": {},
   "outputs": [],
   "source": [
    "#Applying Random Forest Classifier"
   ]
  },
  {
   "cell_type": "code",
   "execution_count": 70,
   "metadata": {},
   "outputs": [
    {
     "name": "stderr",
     "output_type": "stream",
     "text": [
      "C:\\Users\\Alwin\\Anaconda3\\lib\\importlib\\_bootstrap.py:219: RuntimeWarning: numpy.ufunc size changed, may indicate binary incompatibility. Expected 192 from C header, got 216 from PyObject\n",
      "  return f(*args, **kwds)\n"
     ]
    }
   ],
   "source": [
    "from sklearn.ensemble import RandomForestClassifier"
   ]
  },
  {
   "cell_type": "code",
   "execution_count": 71,
   "metadata": {},
   "outputs": [],
   "source": [
    "model_RF = RandomForestClassifier()"
   ]
  },
  {
   "cell_type": "code",
   "execution_count": 72,
   "metadata": {
    "scrolled": true
   },
   "outputs": [
    {
     "name": "stderr",
     "output_type": "stream",
     "text": [
      "C:\\Users\\Alwin\\Anaconda3\\lib\\site-packages\\sklearn\\ensemble\\forest.py:246: FutureWarning: The default value of n_estimators will change from 10 in version 0.20 to 100 in 0.22.\n",
      "  \"10 in version 0.20 to 100 in 0.22.\", FutureWarning)\n"
     ]
    },
    {
     "data": {
      "text/plain": [
       "RandomForestClassifier(bootstrap=True, class_weight=None, criterion='gini',\n",
       "            max_depth=None, max_features='auto', max_leaf_nodes=None,\n",
       "            min_impurity_decrease=0.0, min_impurity_split=None,\n",
       "            min_samples_leaf=1, min_samples_split=2,\n",
       "            min_weight_fraction_leaf=0.0, n_estimators=10, n_jobs=None,\n",
       "            oob_score=False, random_state=None, verbose=0,\n",
       "            warm_start=False)"
      ]
     },
     "execution_count": 72,
     "metadata": {},
     "output_type": "execute_result"
    }
   ],
   "source": [
    "model_RF.fit(xtrain,ytrain)"
   ]
  },
  {
   "cell_type": "code",
   "execution_count": 73,
   "metadata": {},
   "outputs": [
    {
     "data": {
      "text/plain": [
       "array([1, 2, 1, 1, 2, 1, 1, 1, 1, 2, 1, 1, 1, 1, 1, 2, 1, 1, 2, 1, 1, 1,\n",
       "       2, 1, 1, 1, 1, 1, 1, 1, 1, 1, 2, 1, 1, 2, 2, 1, 1, 1, 1, 1, 2, 1,\n",
       "       1, 2, 1, 1, 1, 1, 1, 1, 2, 2, 1, 2, 2, 1, 1, 1, 1, 1, 1, 1, 1, 2,\n",
       "       1, 1, 1, 1, 1, 1, 1, 1, 1, 1, 1, 1, 1, 1, 1, 1, 1, 1, 1, 1, 1, 2,\n",
       "       1, 2, 2, 1, 1, 1, 2, 1, 2, 1, 2, 1, 1, 1, 1, 1, 1, 2, 1, 1, 1, 1,\n",
       "       1, 1, 1, 1, 1, 1, 1, 1, 1, 2, 1, 1, 1, 2, 1, 1, 1, 1, 1, 1, 1, 2,\n",
       "       1, 1, 1, 1, 1, 1, 1, 1, 1, 1, 1, 1, 1, 1, 1, 1, 1, 1, 1, 1, 1, 1,\n",
       "       1, 1, 1, 1, 1, 1, 1, 2, 1, 1, 1, 2, 1, 1, 1, 1, 1, 1, 1, 1, 1, 1,\n",
       "       1, 1, 1, 1, 1, 2, 1, 1, 1, 1, 1, 1, 2, 1, 2, 1, 1, 1, 2, 2, 1, 1,\n",
       "       1, 1, 1, 1, 1, 1, 2, 1, 1, 1, 1, 1, 1, 1, 1, 2, 1, 1, 2, 1, 1, 2,\n",
       "       1, 1, 2, 1, 2, 1, 1, 1, 1, 2, 1, 1, 1, 1, 1, 1, 1, 2, 1, 1, 1, 1,\n",
       "       1, 1, 1, 1, 2, 1, 1, 1, 1, 2, 2, 1, 1, 1, 1, 1, 2, 2, 2, 1, 1, 2,\n",
       "       2, 1, 2, 1, 1, 1, 1, 1, 1, 1, 1, 1, 1, 1, 1, 1, 1, 1, 2, 1, 1, 1,\n",
       "       1, 1, 1, 2, 1, 1, 1, 1, 2, 1, 1, 1, 1, 1], dtype=int64)"
      ]
     },
     "execution_count": 73,
     "metadata": {},
     "output_type": "execute_result"
    }
   ],
   "source": [
    "ypred_RF = model_RF.predict(xtest)\n",
    "ypred_RF"
   ]
  },
  {
   "cell_type": "code",
   "execution_count": 145,
   "metadata": {},
   "outputs": [],
   "source": [
    "#Generating the classification report the model"
   ]
  },
  {
   "cell_type": "code",
   "execution_count": 74,
   "metadata": {},
   "outputs": [
    {
     "name": "stdout",
     "output_type": "stream",
     "text": [
      "              precision    recall  f1-score   support\n",
      "\n",
      "           1       0.77      0.87      0.82       219\n",
      "           2       0.47      0.31      0.37        81\n",
      "\n",
      "   micro avg       0.72      0.72      0.72       300\n",
      "   macro avg       0.62      0.59      0.60       300\n",
      "weighted avg       0.69      0.72      0.70       300\n",
      "\n"
     ]
    }
   ],
   "source": [
    "print(classification_report(ytest,ypred_RF))"
   ]
  },
  {
   "cell_type": "code",
   "execution_count": null,
   "metadata": {},
   "outputs": [],
   "source": [
    "#Applying hypermetric tuning to the model"
   ]
  },
  {
   "cell_type": "code",
   "execution_count": 75,
   "metadata": {},
   "outputs": [
    {
     "data": {
      "text/plain": [
       "GridSearchCV(cv=KFold(n_splits=5, random_state=100, shuffle=True),\n",
       "       error_score='raise-deprecating',\n",
       "       estimator=RandomForestClassifier(bootstrap=True, class_weight=None, criterion='gini',\n",
       "            max_depth=None, max_features='auto', max_leaf_nodes=None,\n",
       "            min_impurity_decrease=0.0, min_impurity_split=None,\n",
       "            min_samples_leaf=1, min_samples_split=2,\n",
       "            min_weight_fraction_leaf=0.0, n_estimators=10, n_jobs=None,\n",
       "            oob_score=False, random_state=None, verbose=0,\n",
       "            warm_start=False),\n",
       "       fit_params=None, iid='warn', n_jobs=None,\n",
       "       param_grid=[{'n_estimators': [10, 20, 30, 40, 50], 'criterion': ['gini', 'entropy'], 'max_depth': [10, 20, 30, 40], 'min_samples_split': [10, 20, 30, 40]}],\n",
       "       pre_dispatch='2*n_jobs', refit=True, return_train_score='warn',\n",
       "       scoring='f1', verbose=0)"
      ]
     },
     "execution_count": 75,
     "metadata": {},
     "output_type": "execute_result"
    }
   ],
   "source": [
    "from sklearn.model_selection import GridSearchCV\n",
    "from sklearn.model_selection import KFold\n",
    "\n",
    "folds = KFold(n_splits = 5,shuffle = True, random_state =100)\n",
    "hyper_params = [{\"n_estimators\" : [10,20,30,40,50], 'criterion': [\"gini\",\"entropy\"],'max_depth':[10,20,30,40],'min_samples_split' :[10,20,30,40]}]\n",
    "model_RFH = GridSearchCV(model_RF,param_grid=hyper_params,scoring = 'f1', cv = folds)\n",
    "model_RFH.fit(xtrain,ytrain)"
   ]
  },
  {
   "cell_type": "code",
   "execution_count": 76,
   "metadata": {},
   "outputs": [],
   "source": [
    "ypred_RDH = model_RFH.predict(xtest)"
   ]
  },
  {
   "cell_type": "code",
   "execution_count": 77,
   "metadata": {
    "scrolled": false
   },
   "outputs": [
    {
     "name": "stdout",
     "output_type": "stream",
     "text": [
      "              precision    recall  f1-score   support\n",
      "\n",
      "           1       0.78      0.88      0.83       219\n",
      "           2       0.50      0.32      0.39        81\n",
      "\n",
      "   micro avg       0.73      0.73      0.73       300\n",
      "   macro avg       0.64      0.60      0.61       300\n",
      "weighted avg       0.70      0.73      0.71       300\n",
      "\n"
     ]
    }
   ],
   "source": [
    "print(classification_report(ytest,ypred_RDH))"
   ]
  },
  {
   "cell_type": "code",
   "execution_count": 78,
   "metadata": {},
   "outputs": [
    {
     "name": "stdout",
     "output_type": "stream",
     "text": [
      "{'criterion': 'gini', 'max_depth': 40, 'min_samples_split': 10, 'n_estimators': 30}\n"
     ]
    }
   ],
   "source": [
    "print(model_RFH.best_params_)"
   ]
  },
  {
   "cell_type": "code",
   "execution_count": 79,
   "metadata": {},
   "outputs": [
    {
     "data": {
      "text/plain": [
       "array([[193,  26],\n",
       "       [ 55,  26]], dtype=int64)"
      ]
     },
     "execution_count": 79,
     "metadata": {},
     "output_type": "execute_result"
    }
   ],
   "source": [
    "confusion_matrix(ytest,ypred_RDH)"
   ]
  },
  {
   "cell_type": "code",
   "execution_count": 80,
   "metadata": {},
   "outputs": [
    {
     "data": {
      "text/html": [
       "<div>\n",
       "<style scoped>\n",
       "    .dataframe tbody tr th:only-of-type {\n",
       "        vertical-align: middle;\n",
       "    }\n",
       "\n",
       "    .dataframe tbody tr th {\n",
       "        vertical-align: top;\n",
       "    }\n",
       "\n",
       "    .dataframe thead th {\n",
       "        text-align: right;\n",
       "    }\n",
       "</style>\n",
       "<table border=\"1\" class=\"dataframe\">\n",
       "  <thead>\n",
       "    <tr style=\"text-align: right;\">\n",
       "      <th></th>\n",
       "      <th>0</th>\n",
       "      <th>1</th>\n",
       "    </tr>\n",
       "  </thead>\n",
       "  <tbody>\n",
       "    <tr>\n",
       "      <th>0</th>\n",
       "      <td>0.757726</td>\n",
       "      <td>0.242274</td>\n",
       "    </tr>\n",
       "    <tr>\n",
       "      <th>1</th>\n",
       "      <td>0.343062</td>\n",
       "      <td>0.656938</td>\n",
       "    </tr>\n",
       "    <tr>\n",
       "      <th>2</th>\n",
       "      <td>0.763317</td>\n",
       "      <td>0.236683</td>\n",
       "    </tr>\n",
       "    <tr>\n",
       "      <th>3</th>\n",
       "      <td>0.756761</td>\n",
       "      <td>0.243239</td>\n",
       "    </tr>\n",
       "    <tr>\n",
       "      <th>4</th>\n",
       "      <td>0.680823</td>\n",
       "      <td>0.319177</td>\n",
       "    </tr>\n",
       "  </tbody>\n",
       "</table>\n",
       "</div>"
      ],
      "text/plain": [
       "          0         1\n",
       "0  0.757726  0.242274\n",
       "1  0.343062  0.656938\n",
       "2  0.763317  0.236683\n",
       "3  0.756761  0.243239\n",
       "4  0.680823  0.319177"
      ]
     },
     "execution_count": 80,
     "metadata": {},
     "output_type": "execute_result"
    }
   ],
   "source": [
    "n_rf = model_RFH.predict_proba(xtest)\n",
    "n_rf = pd.DataFrame(n_rf)\n",
    "n_rf.head()"
   ]
  },
  {
   "cell_type": "code",
   "execution_count": 81,
   "metadata": {},
   "outputs": [],
   "source": [
    "lst = []\n",
    "for i in n_rf[0]:\n",
    "    if(i>0.5):\n",
    "        lst.append(1)\n",
    "    else:\n",
    "        lst.append(2)\n",
    "        \n",
    "n_rf[\"Values\"] = lst"
   ]
  },
  {
   "cell_type": "code",
   "execution_count": 82,
   "metadata": {},
   "outputs": [
    {
     "data": {
      "text/plain": [
       "1    248\n",
       "2     52\n",
       "Name: Values, dtype: int64"
      ]
     },
     "execution_count": 82,
     "metadata": {},
     "output_type": "execute_result"
    }
   ],
   "source": [
    "n_rf.Values.value_counts()"
   ]
  },
  {
   "cell_type": "code",
   "execution_count": 83,
   "metadata": {},
   "outputs": [
    {
     "name": "stdout",
     "output_type": "stream",
     "text": [
      "              precision    recall  f1-score   support\n",
      "\n",
      "           1       0.78      0.88      0.83       219\n",
      "           2       0.50      0.32      0.39        81\n",
      "\n",
      "   micro avg       0.73      0.73      0.73       300\n",
      "   macro avg       0.64      0.60      0.61       300\n",
      "weighted avg       0.70      0.73      0.71       300\n",
      "\n"
     ]
    }
   ],
   "source": [
    "print(classification_report(ytest,n_rf.Values))"
   ]
  },
  {
   "cell_type": "code",
   "execution_count": 84,
   "metadata": {
    "scrolled": true
   },
   "outputs": [
    {
     "name": "stdout",
     "output_type": "stream",
     "text": [
      "[[193  26]\n",
      " [ 55  26]]\n",
      "0.73\n",
      "0.8812785388127854\n",
      "0.32098765432098764\n"
     ]
    }
   ],
   "source": [
    "con_RF =confusion_matrix(ytest,n_rf.Values)\n",
    "print(con_RF)\n",
    "total_RF = sum(sum(con_RF))\n",
    "acc_RF = (con_RF[0,0]+con_RF[1,1])/total_RF\n",
    "print(acc_RF)\n",
    "sen_RF = con_RF[0,0]/(con_RF[0,0]+con_RF[0,1])\n",
    "print(sen_RF)\n",
    "spec_RF= con_RF[1,1]/(con_RF[1,0]+con_RF[1,1])\n",
    "print(spec_RF)"
   ]
  },
  {
   "cell_type": "code",
   "execution_count": 146,
   "metadata": {},
   "outputs": [],
   "source": [
    "#Plotting ROC Curve for the same"
   ]
  },
  {
   "cell_type": "code",
   "execution_count": 85,
   "metadata": {},
   "outputs": [
    {
     "data": {
      "image/png": "[encoded data removed]",
      "text/plain": [
       "<Figure size 432x288 with 1 Axes>"
      ]
     },
     "metadata": {
      "needs_background": "light"
     },
     "output_type": "display_data"
    }
   ],
   "source": [
    "import matplotlib.pyplot as plt\n",
    "%matplotlib inline\n",
    "fpr,tpr,threshold = roc_curve(ytest,ypred_RDH,pos_label =2)\n",
    "plt.plot(fpr,tpr)\n",
    "plt.xlim([0.0,1.0])\n",
    "plt.ylim([0.0,1.0])\n",
    "plt.xlabel(\"False Positive Rate\")\n",
    "plt.ylabel(\"True Positive Rate\")\n",
    "plt.show()"
   ]
  },
  {
   "cell_type": "code",
   "execution_count": null,
   "metadata": {},
   "outputs": [],
   "source": []
  },
  {
   "cell_type": "code",
   "execution_count": 63,
   "metadata": {},
   "outputs": [],
   "source": [
    "from catboost import CatBoostClassifier"
   ]
  },
  {
   "cell_type": "code",
   "execution_count": 64,
   "metadata": {},
   "outputs": [],
   "source": [
    "model_CB = CatBoostClassifier()"
   ]
  },
  {
   "cell_type": "code",
   "execution_count": 65,
   "metadata": {},
   "outputs": [
    {
     "name": "stdout",
     "output_type": "stream",
     "text": [
      "Learning rate set to 0.015146\n",
      "0:\tlearn: 0.6863491\ttotal: 68.1ms\tremaining: 1m 8s\n",
      "1:\tlearn: 0.6803360\ttotal: 120ms\tremaining: 60s\n",
      "2:\tlearn: 0.6738670\ttotal: 166ms\tremaining: 55.2s\n",
      "3:\tlearn: 0.6680402\ttotal: 205ms\tremaining: 50.9s\n",
      "4:\tlearn: 0.6626471\ttotal: 258ms\tremaining: 51.4s\n",
      "5:\tlearn: 0.6562723\ttotal: 310ms\tremaining: 51.3s\n",
      "6:\tlearn: 0.6504860\ttotal: 351ms\tremaining: 49.8s\n",
      "7:\tlearn: 0.6459329\ttotal: 390ms\tremaining: 48.4s\n",
      "8:\tlearn: 0.6408341\ttotal: 459ms\tremaining: 50.5s\n",
      "9:\tlearn: 0.6366868\ttotal: 526ms\tremaining: 52s\n",
      "10:\tlearn: 0.6316277\ttotal: 575ms\tremaining: 51.7s\n",
      "11:\tlearn: 0.6268706\ttotal: 639ms\tremaining: 52.6s\n",
      "12:\tlearn: 0.6220552\ttotal: 698ms\tremaining: 53s\n",
      "13:\tlearn: 0.6171646\ttotal: 753ms\tremaining: 53s\n",
      "14:\tlearn: 0.6118185\ttotal: 800ms\tremaining: 52.5s\n",
      "15:\tlearn: 0.6080719\ttotal: 865ms\tremaining: 53.2s\n",
      "16:\tlearn: 0.6040887\ttotal: 939ms\tremaining: 54.3s\n",
      "17:\tlearn: 0.6020442\ttotal: 1.05s\tremaining: 57.3s\n",
      "18:\tlearn: 0.5975333\ttotal: 1.17s\tremaining: 1m\n",
      "19:\tlearn: 0.5939204\ttotal: 1.3s\tremaining: 1m 3s\n",
      "20:\tlearn: 0.5910555\ttotal: 1.54s\tremaining: 1m 11s\n",
      "21:\tlearn: 0.5872987\ttotal: 1.6s\tremaining: 1m 11s\n",
      "22:\tlearn: 0.5845538\ttotal: 1.68s\tremaining: 1m 11s\n",
      "23:\tlearn: 0.5810522\ttotal: 1.74s\tremaining: 1m 10s\n",
      "24:\tlearn: 0.5790515\ttotal: 1.79s\tremaining: 1m 9s\n",
      "25:\tlearn: 0.5761055\ttotal: 1.86s\tremaining: 1m 9s\n",
      "26:\tlearn: 0.5740215\ttotal: 1.92s\tremaining: 1m 9s\n",
      "27:\tlearn: 0.5707813\ttotal: 2s\tremaining: 1m 9s\n",
      "28:\tlearn: 0.5674769\ttotal: 2.06s\tremaining: 1m 9s\n",
      "29:\tlearn: 0.5649408\ttotal: 2.12s\tremaining: 1m 8s\n",
      "30:\tlearn: 0.5622757\ttotal: 2.18s\tremaining: 1m 8s\n",
      "31:\tlearn: 0.5601233\ttotal: 2.25s\tremaining: 1m 8s\n",
      "32:\tlearn: 0.5564361\ttotal: 2.3s\tremaining: 1m 7s\n",
      "33:\tlearn: 0.5537115\ttotal: 2.38s\tremaining: 1m 7s\n",
      "34:\tlearn: 0.5516403\ttotal: 2.44s\tremaining: 1m 7s\n",
      "35:\tlearn: 0.5498699\ttotal: 2.48s\tremaining: 1m 6s\n",
      "36:\tlearn: 0.5475957\ttotal: 2.54s\tremaining: 1m 6s\n",
      "37:\tlearn: 0.5448074\ttotal: 2.59s\tremaining: 1m 5s\n",
      "38:\tlearn: 0.5432900\ttotal: 2.63s\tremaining: 1m 4s\n",
      "39:\tlearn: 0.5413823\ttotal: 2.68s\tremaining: 1m 4s\n",
      "40:\tlearn: 0.5398007\ttotal: 2.74s\tremaining: 1m 4s\n",
      "41:\tlearn: 0.5370198\ttotal: 2.82s\tremaining: 1m 4s\n",
      "42:\tlearn: 0.5344407\ttotal: 2.88s\tremaining: 1m 4s\n",
      "43:\tlearn: 0.5319167\ttotal: 2.96s\tremaining: 1m 4s\n",
      "44:\tlearn: 0.5300718\ttotal: 3.01s\tremaining: 1m 3s\n",
      "45:\tlearn: 0.5286503\ttotal: 3.07s\tremaining: 1m 3s\n",
      "46:\tlearn: 0.5262896\ttotal: 3.14s\tremaining: 1m 3s\n",
      "47:\tlearn: 0.5245573\ttotal: 3.2s\tremaining: 1m 3s\n",
      "48:\tlearn: 0.5230852\ttotal: 3.25s\tremaining: 1m 3s\n",
      "49:\tlearn: 0.5220901\ttotal: 3.3s\tremaining: 1m 2s\n",
      "50:\tlearn: 0.5201743\ttotal: 3.37s\tremaining: 1m 2s\n",
      "51:\tlearn: 0.5189691\ttotal: 3.44s\tremaining: 1m 2s\n",
      "52:\tlearn: 0.5171507\ttotal: 3.48s\tremaining: 1m 2s\n",
      "53:\tlearn: 0.5148945\ttotal: 3.57s\tremaining: 1m 2s\n",
      "54:\tlearn: 0.5133140\ttotal: 3.63s\tremaining: 1m 2s\n",
      "55:\tlearn: 0.5113984\ttotal: 3.69s\tremaining: 1m 2s\n",
      "56:\tlearn: 0.5094070\ttotal: 3.74s\tremaining: 1m 1s\n",
      "57:\tlearn: 0.5075912\ttotal: 3.78s\tremaining: 1m 1s\n",
      "58:\tlearn: 0.5057901\ttotal: 3.85s\tremaining: 1m 1s\n",
      "59:\tlearn: 0.5041943\ttotal: 3.9s\tremaining: 1m 1s\n",
      "60:\tlearn: 0.5017853\ttotal: 3.96s\tremaining: 1m\n",
      "61:\tlearn: 0.5007610\ttotal: 4s\tremaining: 1m\n",
      "62:\tlearn: 0.4996259\ttotal: 4.05s\tremaining: 1m\n",
      "63:\tlearn: 0.4978424\ttotal: 4.1s\tremaining: 60s\n",
      "64:\tlearn: 0.4961011\ttotal: 4.15s\tremaining: 59.8s\n",
      "65:\tlearn: 0.4946244\ttotal: 4.2s\tremaining: 59.4s\n",
      "66:\tlearn: 0.4927410\ttotal: 4.24s\tremaining: 59s\n",
      "67:\tlearn: 0.4908507\ttotal: 4.29s\tremaining: 58.7s\n",
      "68:\tlearn: 0.4896119\ttotal: 4.34s\tremaining: 58.5s\n",
      "69:\tlearn: 0.4883228\ttotal: 4.39s\tremaining: 58.3s\n",
      "70:\tlearn: 0.4872301\ttotal: 4.42s\tremaining: 57.9s\n",
      "71:\tlearn: 0.4861907\ttotal: 4.47s\tremaining: 57.6s\n",
      "72:\tlearn: 0.4850392\ttotal: 4.52s\tremaining: 57.4s\n",
      "73:\tlearn: 0.4839942\ttotal: 4.56s\tremaining: 57.1s\n",
      "74:\tlearn: 0.4833572\ttotal: 4.61s\tremaining: 56.8s\n",
      "75:\tlearn: 0.4820160\ttotal: 4.66s\tremaining: 56.6s\n",
      "76:\tlearn: 0.4806025\ttotal: 4.71s\tremaining: 56.4s\n",
      "77:\tlearn: 0.4794976\ttotal: 4.78s\tremaining: 56.5s\n",
      "78:\tlearn: 0.4787085\ttotal: 4.82s\tremaining: 56.2s\n",
      "79:\tlearn: 0.4774345\ttotal: 4.88s\tremaining: 56.1s\n",
      "80:\tlearn: 0.4766350\ttotal: 4.93s\tremaining: 56s\n",
      "81:\tlearn: 0.4756689\ttotal: 4.98s\tremaining: 55.7s\n",
      "82:\tlearn: 0.4748550\ttotal: 5.02s\tremaining: 55.4s\n",
      "83:\tlearn: 0.4738389\ttotal: 5.07s\tremaining: 55.3s\n",
      "84:\tlearn: 0.4730628\ttotal: 5.12s\tremaining: 55.1s\n",
      "85:\tlearn: 0.4716778\ttotal: 5.18s\tremaining: 55.1s\n",
      "86:\tlearn: 0.4702686\ttotal: 5.23s\tremaining: 54.9s\n",
      "87:\tlearn: 0.4690439\ttotal: 5.27s\tremaining: 54.7s\n",
      "88:\tlearn: 0.4681444\ttotal: 5.33s\tremaining: 54.5s\n",
      "89:\tlearn: 0.4672934\ttotal: 5.39s\tremaining: 54.6s\n",
      "90:\tlearn: 0.4663491\ttotal: 5.44s\tremaining: 54.4s\n",
      "91:\tlearn: 0.4652481\ttotal: 5.49s\tremaining: 54.2s\n",
      "92:\tlearn: 0.4640884\ttotal: 5.54s\tremaining: 54.1s\n",
      "93:\tlearn: 0.4629297\ttotal: 5.6s\tremaining: 53.9s\n",
      "94:\tlearn: 0.4619411\ttotal: 5.64s\tremaining: 53.8s\n",
      "95:\tlearn: 0.4610982\ttotal: 5.69s\tremaining: 53.6s\n",
      "96:\tlearn: 0.4605846\ttotal: 5.72s\tremaining: 53.3s\n",
      "97:\tlearn: 0.4599628\ttotal: 5.77s\tremaining: 53.2s\n",
      "98:\tlearn: 0.4588167\ttotal: 5.83s\tremaining: 53s\n",
      "99:\tlearn: 0.4577887\ttotal: 5.87s\tremaining: 52.8s\n",
      "100:\tlearn: 0.4566747\ttotal: 5.93s\tremaining: 52.8s\n",
      "101:\tlearn: 0.4554261\ttotal: 5.99s\tremaining: 52.7s\n",
      "102:\tlearn: 0.4545344\ttotal: 6.03s\tremaining: 52.5s\n",
      "103:\tlearn: 0.4537426\ttotal: 6.07s\tremaining: 52.3s\n",
      "104:\tlearn: 0.4529234\ttotal: 6.11s\tremaining: 52.1s\n",
      "105:\tlearn: 0.4521379\ttotal: 6.17s\tremaining: 52.1s\n",
      "106:\tlearn: 0.4512635\ttotal: 6.24s\tremaining: 52.1s\n",
      "107:\tlearn: 0.4500175\ttotal: 6.31s\tremaining: 52.1s\n",
      "108:\tlearn: 0.4492040\ttotal: 6.36s\tremaining: 52s\n",
      "109:\tlearn: 0.4482620\ttotal: 6.41s\tremaining: 51.9s\n",
      "110:\tlearn: 0.4475777\ttotal: 6.46s\tremaining: 51.7s\n",
      "111:\tlearn: 0.4466581\ttotal: 6.51s\tremaining: 51.6s\n",
      "112:\tlearn: 0.4456645\ttotal: 6.55s\tremaining: 51.5s\n",
      "113:\tlearn: 0.4451605\ttotal: 6.61s\tremaining: 51.4s\n",
      "114:\tlearn: 0.4446592\ttotal: 6.66s\tremaining: 51.3s\n",
      "115:\tlearn: 0.4438857\ttotal: 6.71s\tremaining: 51.1s\n",
      "116:\tlearn: 0.4433252\ttotal: 6.76s\tremaining: 51s\n",
      "117:\tlearn: 0.4427254\ttotal: 6.81s\tremaining: 50.9s\n",
      "118:\tlearn: 0.4423049\ttotal: 6.88s\tremaining: 50.9s\n",
      "119:\tlearn: 0.4418811\ttotal: 6.92s\tremaining: 50.8s\n",
      "120:\tlearn: 0.4410262\ttotal: 6.99s\tremaining: 50.8s\n",
      "121:\tlearn: 0.4406775\ttotal: 7.02s\tremaining: 50.5s\n",
      "122:\tlearn: 0.4400010\ttotal: 7.06s\tremaining: 50.4s\n",
      "123:\tlearn: 0.4393798\ttotal: 7.11s\tremaining: 50.2s\n",
      "124:\tlearn: 0.4383727\ttotal: 7.15s\tremaining: 50s\n",
      "125:\tlearn: 0.4376796\ttotal: 7.21s\tremaining: 50s\n",
      "126:\tlearn: 0.4367822\ttotal: 7.26s\tremaining: 49.9s\n",
      "127:\tlearn: 0.4361203\ttotal: 7.31s\tremaining: 49.8s\n",
      "128:\tlearn: 0.4351805\ttotal: 7.36s\tremaining: 49.7s\n",
      "129:\tlearn: 0.4343845\ttotal: 7.42s\tremaining: 49.6s\n",
      "130:\tlearn: 0.4334425\ttotal: 7.46s\tremaining: 49.5s\n",
      "131:\tlearn: 0.4328238\ttotal: 7.51s\tremaining: 49.4s\n",
      "132:\tlearn: 0.4320854\ttotal: 7.56s\tremaining: 49.3s\n",
      "133:\tlearn: 0.4317451\ttotal: 7.6s\tremaining: 49.1s\n",
      "134:\tlearn: 0.4308694\ttotal: 7.65s\tremaining: 49s\n",
      "135:\tlearn: 0.4302491\ttotal: 7.69s\tremaining: 48.9s\n",
      "136:\tlearn: 0.4294097\ttotal: 7.77s\tremaining: 48.9s\n",
      "137:\tlearn: 0.4288624\ttotal: 7.83s\tremaining: 48.9s\n",
      "138:\tlearn: 0.4280922\ttotal: 7.88s\tremaining: 48.8s\n",
      "139:\tlearn: 0.4275931\ttotal: 7.96s\tremaining: 48.9s\n",
      "140:\tlearn: 0.4268046\ttotal: 8.01s\tremaining: 48.8s\n",
      "141:\tlearn: 0.4263778\ttotal: 8.04s\tremaining: 48.6s\n",
      "142:\tlearn: 0.4256510\ttotal: 8.1s\tremaining: 48.5s\n",
      "143:\tlearn: 0.4246687\ttotal: 8.16s\tremaining: 48.5s\n",
      "144:\tlearn: 0.4240538\ttotal: 8.21s\tremaining: 48.4s\n",
      "145:\tlearn: 0.4233815\ttotal: 8.25s\tremaining: 48.3s\n",
      "146:\tlearn: 0.4224172\ttotal: 8.29s\tremaining: 48.1s\n",
      "147:\tlearn: 0.4217516\ttotal: 8.35s\tremaining: 48s\n",
      "148:\tlearn: 0.4213245\ttotal: 8.4s\tremaining: 48s\n",
      "149:\tlearn: 0.4206718\ttotal: 8.45s\tremaining: 47.9s\n",
      "150:\tlearn: 0.4203050\ttotal: 8.5s\tremaining: 47.8s\n",
      "151:\tlearn: 0.4194968\ttotal: 8.55s\tremaining: 47.7s\n",
      "152:\tlearn: 0.4186607\ttotal: 8.6s\tremaining: 47.6s\n",
      "153:\tlearn: 0.4176692\ttotal: 8.65s\tremaining: 47.5s\n",
      "154:\tlearn: 0.4171733\ttotal: 8.7s\tremaining: 47.4s\n",
      "155:\tlearn: 0.4167685\ttotal: 8.75s\tremaining: 47.4s\n",
      "156:\tlearn: 0.4162018\ttotal: 8.8s\tremaining: 47.3s\n",
      "157:\tlearn: 0.4155305\ttotal: 8.85s\tremaining: 47.2s\n",
      "158:\tlearn: 0.4149399\ttotal: 8.9s\tremaining: 47.1s\n",
      "159:\tlearn: 0.4141405\ttotal: 8.96s\tremaining: 47s\n",
      "160:\tlearn: 0.4134516\ttotal: 9.01s\tremaining: 46.9s\n",
      "161:\tlearn: 0.4126957\ttotal: 9.05s\tremaining: 46.8s\n",
      "162:\tlearn: 0.4123714\ttotal: 9.09s\tremaining: 46.7s\n"
     ]
    },
    {
     "name": "stdout",
     "output_type": "stream",
     "text": [
      "163:\tlearn: 0.4121247\ttotal: 9.15s\tremaining: 46.6s\n",
      "164:\tlearn: 0.4113532\ttotal: 9.19s\tremaining: 46.5s\n",
      "165:\tlearn: 0.4108962\ttotal: 9.23s\tremaining: 46.4s\n",
      "166:\tlearn: 0.4102527\ttotal: 9.28s\tremaining: 46.3s\n",
      "167:\tlearn: 0.4099828\ttotal: 9.32s\tremaining: 46.2s\n",
      "168:\tlearn: 0.4091614\ttotal: 9.36s\tremaining: 46s\n",
      "169:\tlearn: 0.4088530\ttotal: 9.4s\tremaining: 45.9s\n",
      "170:\tlearn: 0.4084559\ttotal: 9.45s\tremaining: 45.8s\n",
      "171:\tlearn: 0.4078160\ttotal: 9.5s\tremaining: 45.7s\n",
      "172:\tlearn: 0.4074087\ttotal: 9.55s\tremaining: 45.7s\n",
      "173:\tlearn: 0.4066624\ttotal: 9.59s\tremaining: 45.5s\n",
      "174:\tlearn: 0.4063237\ttotal: 9.64s\tremaining: 45.4s\n",
      "175:\tlearn: 0.4058621\ttotal: 9.68s\tremaining: 45.3s\n",
      "176:\tlearn: 0.4049993\ttotal: 9.74s\tremaining: 45.3s\n",
      "177:\tlearn: 0.4044274\ttotal: 9.78s\tremaining: 45.1s\n",
      "178:\tlearn: 0.4038498\ttotal: 9.82s\tremaining: 45s\n",
      "179:\tlearn: 0.4032817\ttotal: 9.87s\tremaining: 45s\n",
      "180:\tlearn: 0.4027129\ttotal: 9.93s\tremaining: 44.9s\n",
      "181:\tlearn: 0.4023111\ttotal: 9.99s\tremaining: 44.9s\n",
      "182:\tlearn: 0.4016915\ttotal: 10s\tremaining: 44.8s\n",
      "183:\tlearn: 0.4006723\ttotal: 10.1s\tremaining: 44.7s\n",
      "184:\tlearn: 0.3997744\ttotal: 10.1s\tremaining: 44.7s\n",
      "185:\tlearn: 0.3991950\ttotal: 10.2s\tremaining: 44.5s\n",
      "186:\tlearn: 0.3988584\ttotal: 10.2s\tremaining: 44.4s\n",
      "187:\tlearn: 0.3984847\ttotal: 10.3s\tremaining: 44.3s\n",
      "188:\tlearn: 0.3978311\ttotal: 10.3s\tremaining: 44.3s\n",
      "189:\tlearn: 0.3973189\ttotal: 10.4s\tremaining: 44.2s\n",
      "190:\tlearn: 0.3967683\ttotal: 10.4s\tremaining: 44.1s\n",
      "191:\tlearn: 0.3963786\ttotal: 10.5s\tremaining: 44.1s\n",
      "192:\tlearn: 0.3961023\ttotal: 10.5s\tremaining: 44s\n",
      "193:\tlearn: 0.3955370\ttotal: 10.6s\tremaining: 43.9s\n",
      "194:\tlearn: 0.3951767\ttotal: 10.6s\tremaining: 43.8s\n",
      "195:\tlearn: 0.3945100\ttotal: 10.7s\tremaining: 43.7s\n",
      "196:\tlearn: 0.3936153\ttotal: 10.7s\tremaining: 43.7s\n",
      "197:\tlearn: 0.3929706\ttotal: 10.8s\tremaining: 43.7s\n",
      "198:\tlearn: 0.3922203\ttotal: 10.8s\tremaining: 43.6s\n",
      "199:\tlearn: 0.3917117\ttotal: 10.9s\tremaining: 43.6s\n",
      "200:\tlearn: 0.3909873\ttotal: 10.9s\tremaining: 43.5s\n",
      "201:\tlearn: 0.3905664\ttotal: 11s\tremaining: 43.4s\n",
      "202:\tlearn: 0.3901291\ttotal: 11s\tremaining: 43.3s\n",
      "203:\tlearn: 0.3897589\ttotal: 11.1s\tremaining: 43.3s\n",
      "204:\tlearn: 0.3891882\ttotal: 11.1s\tremaining: 43.2s\n",
      "205:\tlearn: 0.3887845\ttotal: 11.2s\tremaining: 43.1s\n",
      "206:\tlearn: 0.3878986\ttotal: 11.2s\tremaining: 43s\n",
      "207:\tlearn: 0.3873022\ttotal: 11.3s\tremaining: 43s\n",
      "208:\tlearn: 0.3867055\ttotal: 11.3s\tremaining: 42.9s\n",
      "209:\tlearn: 0.3861981\ttotal: 11.4s\tremaining: 42.9s\n",
      "210:\tlearn: 0.3856749\ttotal: 11.4s\tremaining: 42.8s\n",
      "211:\tlearn: 0.3849272\ttotal: 11.5s\tremaining: 42.7s\n",
      "212:\tlearn: 0.3843699\ttotal: 11.5s\tremaining: 42.7s\n",
      "213:\tlearn: 0.3839834\ttotal: 11.6s\tremaining: 42.6s\n",
      "214:\tlearn: 0.3834392\ttotal: 11.6s\tremaining: 42.5s\n",
      "215:\tlearn: 0.3830624\ttotal: 11.7s\tremaining: 42.4s\n",
      "216:\tlearn: 0.3827802\ttotal: 11.7s\tremaining: 42.3s\n",
      "217:\tlearn: 0.3825180\ttotal: 11.8s\tremaining: 42.3s\n",
      "218:\tlearn: 0.3816719\ttotal: 11.8s\tremaining: 42.2s\n",
      "219:\tlearn: 0.3812371\ttotal: 11.9s\tremaining: 42.1s\n",
      "220:\tlearn: 0.3805120\ttotal: 11.9s\tremaining: 42s\n",
      "221:\tlearn: 0.3802082\ttotal: 12s\tremaining: 41.9s\n",
      "222:\tlearn: 0.3800971\ttotal: 12s\tremaining: 41.8s\n",
      "223:\tlearn: 0.3796041\ttotal: 12.1s\tremaining: 41.8s\n",
      "224:\tlearn: 0.3793408\ttotal: 12.1s\tremaining: 41.7s\n",
      "225:\tlearn: 0.3788479\ttotal: 12.2s\tremaining: 41.6s\n",
      "226:\tlearn: 0.3784948\ttotal: 12.2s\tremaining: 41.6s\n",
      "227:\tlearn: 0.3781440\ttotal: 12.3s\tremaining: 41.5s\n",
      "228:\tlearn: 0.3775755\ttotal: 12.3s\tremaining: 41.4s\n",
      "229:\tlearn: 0.3768233\ttotal: 12.3s\tremaining: 41.3s\n",
      "230:\tlearn: 0.3765851\ttotal: 12.4s\tremaining: 41.2s\n",
      "231:\tlearn: 0.3758364\ttotal: 12.4s\tremaining: 41.2s\n",
      "232:\tlearn: 0.3754091\ttotal: 12.5s\tremaining: 41.1s\n",
      "233:\tlearn: 0.3745485\ttotal: 12.5s\tremaining: 41s\n",
      "234:\tlearn: 0.3739974\ttotal: 12.6s\tremaining: 40.9s\n",
      "235:\tlearn: 0.3738336\ttotal: 12.6s\tremaining: 40.8s\n",
      "236:\tlearn: 0.3732346\ttotal: 12.7s\tremaining: 40.8s\n",
      "237:\tlearn: 0.3732052\ttotal: 12.7s\tremaining: 40.7s\n",
      "238:\tlearn: 0.3724314\ttotal: 12.8s\tremaining: 40.6s\n",
      "239:\tlearn: 0.3721682\ttotal: 12.8s\tremaining: 40.5s\n",
      "240:\tlearn: 0.3719479\ttotal: 12.8s\tremaining: 40.5s\n",
      "241:\tlearn: 0.3713557\ttotal: 12.9s\tremaining: 40.5s\n",
      "242:\tlearn: 0.3708541\ttotal: 13s\tremaining: 40.4s\n",
      "243:\tlearn: 0.3705387\ttotal: 13s\tremaining: 40.3s\n",
      "244:\tlearn: 0.3697585\ttotal: 13.1s\tremaining: 40.3s\n",
      "245:\tlearn: 0.3692719\ttotal: 13.1s\tremaining: 40.2s\n",
      "246:\tlearn: 0.3684666\ttotal: 13.2s\tremaining: 40.2s\n",
      "247:\tlearn: 0.3678294\ttotal: 13.2s\tremaining: 40.1s\n",
      "248:\tlearn: 0.3674723\ttotal: 13.3s\tremaining: 40s\n",
      "249:\tlearn: 0.3672259\ttotal: 13.3s\tremaining: 40s\n",
      "250:\tlearn: 0.3667602\ttotal: 13.4s\tremaining: 39.9s\n",
      "251:\tlearn: 0.3662511\ttotal: 13.4s\tremaining: 39.8s\n",
      "252:\tlearn: 0.3655366\ttotal: 13.5s\tremaining: 39.8s\n",
      "253:\tlearn: 0.3653725\ttotal: 13.5s\tremaining: 39.7s\n",
      "254:\tlearn: 0.3649972\ttotal: 13.5s\tremaining: 39.6s\n",
      "255:\tlearn: 0.3641617\ttotal: 13.6s\tremaining: 39.5s\n",
      "256:\tlearn: 0.3639522\ttotal: 13.6s\tremaining: 39.4s\n",
      "257:\tlearn: 0.3637847\ttotal: 13.7s\tremaining: 39.3s\n",
      "258:\tlearn: 0.3636599\ttotal: 13.7s\tremaining: 39.3s\n",
      "259:\tlearn: 0.3633918\ttotal: 13.8s\tremaining: 39.2s\n",
      "260:\tlearn: 0.3631201\ttotal: 13.8s\tremaining: 39.2s\n",
      "261:\tlearn: 0.3627422\ttotal: 13.9s\tremaining: 39.1s\n",
      "262:\tlearn: 0.3622089\ttotal: 14s\tremaining: 39.1s\n",
      "263:\tlearn: 0.3618188\ttotal: 14s\tremaining: 39s\n",
      "264:\tlearn: 0.3614362\ttotal: 14.1s\tremaining: 39s\n",
      "265:\tlearn: 0.3611093\ttotal: 14.1s\tremaining: 38.9s\n",
      "266:\tlearn: 0.3608146\ttotal: 14.1s\tremaining: 38.8s\n",
      "267:\tlearn: 0.3606643\ttotal: 14.2s\tremaining: 38.8s\n",
      "268:\tlearn: 0.3602979\ttotal: 14.2s\tremaining: 38.7s\n",
      "269:\tlearn: 0.3598746\ttotal: 14.3s\tremaining: 38.7s\n",
      "270:\tlearn: 0.3594698\ttotal: 14.3s\tremaining: 38.6s\n",
      "271:\tlearn: 0.3590918\ttotal: 14.4s\tremaining: 38.5s\n",
      "272:\tlearn: 0.3587498\ttotal: 14.4s\tremaining: 38.4s\n",
      "273:\tlearn: 0.3581283\ttotal: 14.5s\tremaining: 38.4s\n",
      "274:\tlearn: 0.3578874\ttotal: 14.5s\tremaining: 38.3s\n",
      "275:\tlearn: 0.3578138\ttotal: 14.6s\tremaining: 38.2s\n",
      "276:\tlearn: 0.3572845\ttotal: 14.6s\tremaining: 38.1s\n",
      "277:\tlearn: 0.3570588\ttotal: 14.7s\tremaining: 38s\n",
      "278:\tlearn: 0.3568199\ttotal: 14.7s\tremaining: 38s\n",
      "279:\tlearn: 0.3562994\ttotal: 14.8s\tremaining: 37.9s\n",
      "280:\tlearn: 0.3560599\ttotal: 14.8s\tremaining: 37.9s\n",
      "281:\tlearn: 0.3558687\ttotal: 14.9s\tremaining: 37.9s\n",
      "282:\tlearn: 0.3555773\ttotal: 14.9s\tremaining: 37.8s\n",
      "283:\tlearn: 0.3552451\ttotal: 15s\tremaining: 37.8s\n",
      "284:\tlearn: 0.3546064\ttotal: 15s\tremaining: 37.7s\n",
      "285:\tlearn: 0.3539183\ttotal: 15.1s\tremaining: 37.6s\n",
      "286:\tlearn: 0.3538283\ttotal: 15.1s\tremaining: 37.5s\n",
      "287:\tlearn: 0.3536999\ttotal: 15.1s\tremaining: 37.4s\n",
      "288:\tlearn: 0.3536035\ttotal: 15.2s\tremaining: 37.4s\n",
      "289:\tlearn: 0.3532219\ttotal: 15.2s\tremaining: 37.3s\n",
      "290:\tlearn: 0.3527110\ttotal: 15.3s\tremaining: 37.2s\n",
      "291:\tlearn: 0.3523408\ttotal: 15.3s\tremaining: 37.1s\n",
      "292:\tlearn: 0.3519934\ttotal: 15.4s\tremaining: 37.1s\n",
      "293:\tlearn: 0.3517423\ttotal: 15.4s\tremaining: 37s\n",
      "294:\tlearn: 0.3514138\ttotal: 15.5s\tremaining: 36.9s\n",
      "295:\tlearn: 0.3511189\ttotal: 15.5s\tremaining: 36.9s\n",
      "296:\tlearn: 0.3507689\ttotal: 15.5s\tremaining: 36.8s\n",
      "297:\tlearn: 0.3503489\ttotal: 15.6s\tremaining: 36.7s\n",
      "298:\tlearn: 0.3501097\ttotal: 15.6s\tremaining: 36.6s\n",
      "299:\tlearn: 0.3499104\ttotal: 15.7s\tremaining: 36.6s\n",
      "300:\tlearn: 0.3493570\ttotal: 15.7s\tremaining: 36.5s\n",
      "301:\tlearn: 0.3491580\ttotal: 15.8s\tremaining: 36.5s\n",
      "302:\tlearn: 0.3486914\ttotal: 15.8s\tremaining: 36.4s\n",
      "303:\tlearn: 0.3483353\ttotal: 15.9s\tremaining: 36.4s\n",
      "304:\tlearn: 0.3480494\ttotal: 15.9s\tremaining: 36.3s\n",
      "305:\tlearn: 0.3478621\ttotal: 16s\tremaining: 36.2s\n",
      "306:\tlearn: 0.3477426\ttotal: 16s\tremaining: 36.2s\n",
      "307:\tlearn: 0.3473884\ttotal: 16.1s\tremaining: 36.1s\n",
      "308:\tlearn: 0.3467234\ttotal: 16.1s\tremaining: 36s\n",
      "309:\tlearn: 0.3463870\ttotal: 16.2s\tremaining: 36s\n",
      "310:\tlearn: 0.3460361\ttotal: 16.2s\tremaining: 35.9s\n",
      "311:\tlearn: 0.3456237\ttotal: 16.3s\tremaining: 35.9s\n",
      "312:\tlearn: 0.3454779\ttotal: 16.3s\tremaining: 35.8s\n",
      "313:\tlearn: 0.3452503\ttotal: 16.4s\tremaining: 35.8s\n",
      "314:\tlearn: 0.3449229\ttotal: 16.4s\tremaining: 35.7s\n",
      "315:\tlearn: 0.3447375\ttotal: 16.5s\tremaining: 35.6s\n",
      "316:\tlearn: 0.3442118\ttotal: 16.5s\tremaining: 35.6s\n",
      "317:\tlearn: 0.3440041\ttotal: 16.6s\tremaining: 35.5s\n",
      "318:\tlearn: 0.3432473\ttotal: 16.6s\tremaining: 35.5s\n",
      "319:\tlearn: 0.3429665\ttotal: 16.6s\tremaining: 35.4s\n",
      "320:\tlearn: 0.3426068\ttotal: 16.7s\tremaining: 35.3s\n",
      "321:\tlearn: 0.3420586\ttotal: 16.8s\tremaining: 35.3s\n",
      "322:\tlearn: 0.3412778\ttotal: 16.8s\tremaining: 35.2s\n",
      "323:\tlearn: 0.3409903\ttotal: 16.9s\tremaining: 35.2s\n"
     ]
    },
    {
     "name": "stdout",
     "output_type": "stream",
     "text": [
      "324:\tlearn: 0.3401856\ttotal: 16.9s\tremaining: 35.1s\n",
      "325:\tlearn: 0.3400281\ttotal: 17s\tremaining: 35s\n",
      "326:\tlearn: 0.3398251\ttotal: 17s\tremaining: 35s\n",
      "327:\tlearn: 0.3393921\ttotal: 17.1s\tremaining: 35s\n",
      "328:\tlearn: 0.3390128\ttotal: 17.1s\tremaining: 34.9s\n",
      "329:\tlearn: 0.3387350\ttotal: 17.2s\tremaining: 34.9s\n",
      "330:\tlearn: 0.3384456\ttotal: 17.2s\tremaining: 34.8s\n",
      "331:\tlearn: 0.3380663\ttotal: 17.3s\tremaining: 34.7s\n",
      "332:\tlearn: 0.3377494\ttotal: 17.3s\tremaining: 34.7s\n",
      "333:\tlearn: 0.3373153\ttotal: 17.4s\tremaining: 34.6s\n",
      "334:\tlearn: 0.3372687\ttotal: 17.4s\tremaining: 34.5s\n",
      "335:\tlearn: 0.3371575\ttotal: 17.4s\tremaining: 34.4s\n",
      "336:\tlearn: 0.3364348\ttotal: 17.5s\tremaining: 34.4s\n",
      "337:\tlearn: 0.3363097\ttotal: 17.5s\tremaining: 34.3s\n",
      "338:\tlearn: 0.3360839\ttotal: 17.6s\tremaining: 34.3s\n",
      "339:\tlearn: 0.3355386\ttotal: 17.6s\tremaining: 34.2s\n",
      "340:\tlearn: 0.3353802\ttotal: 17.7s\tremaining: 34.1s\n",
      "341:\tlearn: 0.3349744\ttotal: 17.7s\tremaining: 34.1s\n",
      "342:\tlearn: 0.3345190\ttotal: 17.8s\tremaining: 34s\n",
      "343:\tlearn: 0.3343878\ttotal: 17.8s\tremaining: 33.9s\n",
      "344:\tlearn: 0.3340557\ttotal: 17.8s\tremaining: 33.9s\n",
      "345:\tlearn: 0.3336151\ttotal: 17.9s\tremaining: 33.8s\n",
      "346:\tlearn: 0.3331737\ttotal: 17.9s\tremaining: 33.8s\n",
      "347:\tlearn: 0.3327846\ttotal: 18s\tremaining: 33.7s\n",
      "348:\tlearn: 0.3325918\ttotal: 18s\tremaining: 33.7s\n",
      "349:\tlearn: 0.3323513\ttotal: 18.1s\tremaining: 33.6s\n",
      "350:\tlearn: 0.3321889\ttotal: 18.1s\tremaining: 33.5s\n",
      "351:\tlearn: 0.3317992\ttotal: 18.2s\tremaining: 33.5s\n",
      "352:\tlearn: 0.3315537\ttotal: 18.3s\tremaining: 33.5s\n",
      "353:\tlearn: 0.3313459\ttotal: 18.3s\tremaining: 33.4s\n",
      "354:\tlearn: 0.3313302\ttotal: 18.3s\tremaining: 33.3s\n",
      "355:\tlearn: 0.3309494\ttotal: 18.4s\tremaining: 33.2s\n",
      "356:\tlearn: 0.3306216\ttotal: 18.4s\tremaining: 33.2s\n",
      "357:\tlearn: 0.3300174\ttotal: 18.5s\tremaining: 33.1s\n",
      "358:\tlearn: 0.3294949\ttotal: 18.5s\tremaining: 33.1s\n",
      "359:\tlearn: 0.3290750\ttotal: 18.6s\tremaining: 33s\n",
      "360:\tlearn: 0.3288027\ttotal: 18.6s\tremaining: 32.9s\n",
      "361:\tlearn: 0.3282557\ttotal: 18.7s\tremaining: 32.9s\n",
      "362:\tlearn: 0.3280909\ttotal: 18.7s\tremaining: 32.8s\n",
      "363:\tlearn: 0.3277012\ttotal: 18.8s\tremaining: 32.8s\n",
      "364:\tlearn: 0.3271725\ttotal: 18.8s\tremaining: 32.7s\n",
      "365:\tlearn: 0.3267991\ttotal: 18.8s\tremaining: 32.6s\n",
      "366:\tlearn: 0.3264967\ttotal: 18.9s\tremaining: 32.6s\n",
      "367:\tlearn: 0.3264530\ttotal: 18.9s\tremaining: 32.5s\n",
      "368:\tlearn: 0.3262020\ttotal: 19s\tremaining: 32.5s\n",
      "369:\tlearn: 0.3259084\ttotal: 19s\tremaining: 32.4s\n",
      "370:\tlearn: 0.3256826\ttotal: 19.1s\tremaining: 32.3s\n",
      "371:\tlearn: 0.3255732\ttotal: 19.1s\tremaining: 32.3s\n",
      "372:\tlearn: 0.3253122\ttotal: 19.2s\tremaining: 32.2s\n",
      "373:\tlearn: 0.3251188\ttotal: 19.2s\tremaining: 32.2s\n",
      "374:\tlearn: 0.3247635\ttotal: 19.3s\tremaining: 32.1s\n",
      "375:\tlearn: 0.3244761\ttotal: 19.3s\tremaining: 32s\n",
      "376:\tlearn: 0.3241036\ttotal: 19.4s\tremaining: 32s\n",
      "377:\tlearn: 0.3237995\ttotal: 19.4s\tremaining: 31.9s\n",
      "378:\tlearn: 0.3235757\ttotal: 19.5s\tremaining: 31.9s\n",
      "379:\tlearn: 0.3233126\ttotal: 19.5s\tremaining: 31.8s\n",
      "380:\tlearn: 0.3231620\ttotal: 19.5s\tremaining: 31.7s\n",
      "381:\tlearn: 0.3228669\ttotal: 19.6s\tremaining: 31.7s\n",
      "382:\tlearn: 0.3224066\ttotal: 19.6s\tremaining: 31.6s\n",
      "383:\tlearn: 0.3220244\ttotal: 19.7s\tremaining: 31.6s\n",
      "384:\tlearn: 0.3217006\ttotal: 19.7s\tremaining: 31.5s\n",
      "385:\tlearn: 0.3212152\ttotal: 19.8s\tremaining: 31.5s\n",
      "386:\tlearn: 0.3210703\ttotal: 19.8s\tremaining: 31.4s\n",
      "387:\tlearn: 0.3209087\ttotal: 19.9s\tremaining: 31.4s\n",
      "388:\tlearn: 0.3207855\ttotal: 19.9s\tremaining: 31.3s\n",
      "389:\tlearn: 0.3205477\ttotal: 20s\tremaining: 31.2s\n",
      "390:\tlearn: 0.3199944\ttotal: 20s\tremaining: 31.1s\n",
      "391:\tlearn: 0.3197167\ttotal: 20s\tremaining: 31.1s\n",
      "392:\tlearn: 0.3196476\ttotal: 20.1s\tremaining: 31s\n",
      "393:\tlearn: 0.3190804\ttotal: 20.2s\tremaining: 31s\n",
      "394:\tlearn: 0.3187757\ttotal: 20.2s\tremaining: 30.9s\n",
      "395:\tlearn: 0.3185805\ttotal: 20.2s\tremaining: 30.9s\n",
      "396:\tlearn: 0.3180995\ttotal: 20.3s\tremaining: 30.8s\n",
      "397:\tlearn: 0.3176207\ttotal: 20.3s\tremaining: 30.8s\n",
      "398:\tlearn: 0.3174727\ttotal: 20.4s\tremaining: 30.7s\n",
      "399:\tlearn: 0.3170805\ttotal: 20.4s\tremaining: 30.6s\n",
      "400:\tlearn: 0.3166765\ttotal: 20.5s\tremaining: 30.6s\n",
      "401:\tlearn: 0.3165051\ttotal: 20.5s\tremaining: 30.5s\n",
      "402:\tlearn: 0.3163222\ttotal: 20.6s\tremaining: 30.5s\n",
      "403:\tlearn: 0.3161410\ttotal: 20.6s\tremaining: 30.4s\n",
      "404:\tlearn: 0.3157869\ttotal: 20.7s\tremaining: 30.4s\n",
      "405:\tlearn: 0.3155581\ttotal: 20.7s\tremaining: 30.3s\n",
      "406:\tlearn: 0.3151984\ttotal: 20.8s\tremaining: 30.2s\n",
      "407:\tlearn: 0.3149189\ttotal: 20.8s\tremaining: 30.2s\n",
      "408:\tlearn: 0.3139791\ttotal: 20.8s\tremaining: 30.1s\n",
      "409:\tlearn: 0.3135744\ttotal: 20.9s\tremaining: 30.1s\n",
      "410:\tlearn: 0.3132827\ttotal: 20.9s\tremaining: 30s\n",
      "411:\tlearn: 0.3130759\ttotal: 21s\tremaining: 29.9s\n",
      "412:\tlearn: 0.3129620\ttotal: 21s\tremaining: 29.9s\n",
      "413:\tlearn: 0.3128105\ttotal: 21.1s\tremaining: 29.8s\n",
      "414:\tlearn: 0.3126209\ttotal: 21.1s\tremaining: 29.8s\n",
      "415:\tlearn: 0.3120375\ttotal: 21.2s\tremaining: 29.7s\n",
      "416:\tlearn: 0.3118637\ttotal: 21.2s\tremaining: 29.6s\n",
      "417:\tlearn: 0.3114940\ttotal: 21.3s\tremaining: 29.6s\n",
      "418:\tlearn: 0.3113767\ttotal: 21.3s\tremaining: 29.6s\n",
      "419:\tlearn: 0.3111856\ttotal: 21.4s\tremaining: 29.5s\n",
      "420:\tlearn: 0.3108834\ttotal: 21.4s\tremaining: 29.4s\n",
      "421:\tlearn: 0.3104376\ttotal: 21.4s\tremaining: 29.4s\n",
      "422:\tlearn: 0.3101380\ttotal: 21.5s\tremaining: 29.3s\n",
      "423:\tlearn: 0.3097652\ttotal: 21.5s\tremaining: 29.3s\n",
      "424:\tlearn: 0.3094287\ttotal: 21.6s\tremaining: 29.2s\n",
      "425:\tlearn: 0.3091567\ttotal: 21.6s\tremaining: 29.1s\n",
      "426:\tlearn: 0.3088273\ttotal: 21.7s\tremaining: 29.1s\n",
      "427:\tlearn: 0.3086783\ttotal: 21.8s\tremaining: 29.1s\n",
      "428:\tlearn: 0.3083914\ttotal: 21.8s\tremaining: 29s\n",
      "429:\tlearn: 0.3079822\ttotal: 21.8s\tremaining: 29s\n",
      "430:\tlearn: 0.3078569\ttotal: 21.9s\tremaining: 28.9s\n",
      "431:\tlearn: 0.3075443\ttotal: 21.9s\tremaining: 28.9s\n",
      "432:\tlearn: 0.3074216\ttotal: 22s\tremaining: 28.8s\n",
      "433:\tlearn: 0.3072383\ttotal: 22s\tremaining: 28.7s\n",
      "434:\tlearn: 0.3071046\ttotal: 22.1s\tremaining: 28.7s\n",
      "435:\tlearn: 0.3066847\ttotal: 22.1s\tremaining: 28.6s\n",
      "436:\tlearn: 0.3065990\ttotal: 22.2s\tremaining: 28.6s\n",
      "437:\tlearn: 0.3062668\ttotal: 22.2s\tremaining: 28.5s\n",
      "438:\tlearn: 0.3061305\ttotal: 22.3s\tremaining: 28.5s\n",
      "439:\tlearn: 0.3059524\ttotal: 22.3s\tremaining: 28.4s\n",
      "440:\tlearn: 0.3055039\ttotal: 22.4s\tremaining: 28.3s\n",
      "441:\tlearn: 0.3051531\ttotal: 22.4s\tremaining: 28.3s\n",
      "442:\tlearn: 0.3048364\ttotal: 22.5s\tremaining: 28.2s\n",
      "443:\tlearn: 0.3046817\ttotal: 22.5s\tremaining: 28.2s\n",
      "444:\tlearn: 0.3044127\ttotal: 22.6s\tremaining: 28.1s\n",
      "445:\tlearn: 0.3040410\ttotal: 22.6s\tremaining: 28.1s\n",
      "446:\tlearn: 0.3038158\ttotal: 22.7s\tremaining: 28s\n",
      "447:\tlearn: 0.3035560\ttotal: 22.7s\tremaining: 28s\n",
      "448:\tlearn: 0.3032333\ttotal: 22.8s\tremaining: 27.9s\n",
      "449:\tlearn: 0.3030066\ttotal: 22.8s\tremaining: 27.9s\n",
      "450:\tlearn: 0.3026880\ttotal: 22.9s\tremaining: 27.8s\n",
      "451:\tlearn: 0.3021511\ttotal: 22.9s\tremaining: 27.8s\n",
      "452:\tlearn: 0.3017412\ttotal: 23s\tremaining: 27.7s\n",
      "453:\tlearn: 0.3016097\ttotal: 23s\tremaining: 27.7s\n",
      "454:\tlearn: 0.3015879\ttotal: 23s\tremaining: 27.6s\n",
      "455:\tlearn: 0.3010247\ttotal: 23.1s\tremaining: 27.6s\n",
      "456:\tlearn: 0.3007834\ttotal: 23.1s\tremaining: 27.5s\n",
      "457:\tlearn: 0.3004838\ttotal: 23.2s\tremaining: 27.4s\n",
      "458:\tlearn: 0.3000333\ttotal: 23.2s\tremaining: 27.4s\n",
      "459:\tlearn: 0.2996811\ttotal: 23.3s\tremaining: 27.3s\n",
      "460:\tlearn: 0.2995461\ttotal: 23.3s\tremaining: 27.3s\n",
      "461:\tlearn: 0.2991316\ttotal: 23.4s\tremaining: 27.2s\n",
      "462:\tlearn: 0.2988046\ttotal: 23.4s\tremaining: 27.2s\n",
      "463:\tlearn: 0.2985967\ttotal: 23.5s\tremaining: 27.1s\n",
      "464:\tlearn: 0.2983562\ttotal: 23.5s\tremaining: 27s\n",
      "465:\tlearn: 0.2981026\ttotal: 23.6s\tremaining: 27s\n",
      "466:\tlearn: 0.2978470\ttotal: 23.6s\tremaining: 26.9s\n",
      "467:\tlearn: 0.2973760\ttotal: 23.7s\tremaining: 26.9s\n",
      "468:\tlearn: 0.2970167\ttotal: 23.7s\tremaining: 26.8s\n",
      "469:\tlearn: 0.2969008\ttotal: 23.7s\tremaining: 26.8s\n",
      "470:\tlearn: 0.2966581\ttotal: 23.8s\tremaining: 26.7s\n",
      "471:\tlearn: 0.2963038\ttotal: 23.8s\tremaining: 26.7s\n",
      "472:\tlearn: 0.2960579\ttotal: 23.9s\tremaining: 26.6s\n",
      "473:\tlearn: 0.2956756\ttotal: 23.9s\tremaining: 26.6s\n",
      "474:\tlearn: 0.2953859\ttotal: 24s\tremaining: 26.5s\n",
      "475:\tlearn: 0.2953248\ttotal: 24s\tremaining: 26.5s\n",
      "476:\tlearn: 0.2953044\ttotal: 24.1s\tremaining: 26.4s\n",
      "477:\tlearn: 0.2947354\ttotal: 24.1s\tremaining: 26.3s\n",
      "478:\tlearn: 0.2944020\ttotal: 24.2s\tremaining: 26.3s\n",
      "479:\tlearn: 0.2937464\ttotal: 24.2s\tremaining: 26.3s\n",
      "480:\tlearn: 0.2934407\ttotal: 24.3s\tremaining: 26.2s\n",
      "481:\tlearn: 0.2932952\ttotal: 24.3s\tremaining: 26.2s\n",
      "482:\tlearn: 0.2930934\ttotal: 24.4s\tremaining: 26.1s\n",
      "483:\tlearn: 0.2927412\ttotal: 24.4s\tremaining: 26.1s\n",
      "484:\tlearn: 0.2923393\ttotal: 24.5s\tremaining: 26s\n",
      "485:\tlearn: 0.2920216\ttotal: 24.5s\tremaining: 25.9s\n",
      "486:\tlearn: 0.2918571\ttotal: 24.6s\tremaining: 25.9s\n"
     ]
    },
    {
     "name": "stdout",
     "output_type": "stream",
     "text": [
      "487:\tlearn: 0.2916395\ttotal: 24.6s\tremaining: 25.9s\n",
      "488:\tlearn: 0.2915469\ttotal: 24.7s\tremaining: 25.8s\n",
      "489:\tlearn: 0.2912880\ttotal: 24.7s\tremaining: 25.7s\n",
      "490:\tlearn: 0.2911623\ttotal: 24.8s\tremaining: 25.7s\n",
      "491:\tlearn: 0.2908787\ttotal: 24.8s\tremaining: 25.6s\n",
      "492:\tlearn: 0.2903905\ttotal: 24.9s\tremaining: 25.6s\n",
      "493:\tlearn: 0.2901776\ttotal: 24.9s\tremaining: 25.5s\n",
      "494:\tlearn: 0.2899926\ttotal: 25s\tremaining: 25.5s\n",
      "495:\tlearn: 0.2898152\ttotal: 25s\tremaining: 25.4s\n",
      "496:\tlearn: 0.2897335\ttotal: 25.1s\tremaining: 25.4s\n",
      "497:\tlearn: 0.2895730\ttotal: 25.1s\tremaining: 25.3s\n",
      "498:\tlearn: 0.2893886\ttotal: 25.2s\tremaining: 25.3s\n",
      "499:\tlearn: 0.2891076\ttotal: 25.2s\tremaining: 25.2s\n",
      "500:\tlearn: 0.2889862\ttotal: 25.3s\tremaining: 25.2s\n",
      "501:\tlearn: 0.2885912\ttotal: 25.3s\tremaining: 25.1s\n",
      "502:\tlearn: 0.2883954\ttotal: 25.4s\tremaining: 25.1s\n",
      "503:\tlearn: 0.2881074\ttotal: 25.4s\tremaining: 25s\n",
      "504:\tlearn: 0.2880308\ttotal: 25.5s\tremaining: 25s\n",
      "505:\tlearn: 0.2878597\ttotal: 25.5s\tremaining: 24.9s\n",
      "506:\tlearn: 0.2877423\ttotal: 25.6s\tremaining: 24.8s\n",
      "507:\tlearn: 0.2876467\ttotal: 25.6s\tremaining: 24.8s\n",
      "508:\tlearn: 0.2873792\ttotal: 25.7s\tremaining: 24.8s\n",
      "509:\tlearn: 0.2869794\ttotal: 25.7s\tremaining: 24.7s\n",
      "510:\tlearn: 0.2867832\ttotal: 25.8s\tremaining: 24.6s\n",
      "511:\tlearn: 0.2865554\ttotal: 25.8s\tremaining: 24.6s\n",
      "512:\tlearn: 0.2862764\ttotal: 25.9s\tremaining: 24.6s\n",
      "513:\tlearn: 0.2860637\ttotal: 25.9s\tremaining: 24.5s\n",
      "514:\tlearn: 0.2856899\ttotal: 26s\tremaining: 24.4s\n",
      "515:\tlearn: 0.2853122\ttotal: 26s\tremaining: 24.4s\n",
      "516:\tlearn: 0.2850968\ttotal: 26.1s\tremaining: 24.3s\n",
      "517:\tlearn: 0.2848753\ttotal: 26.1s\tremaining: 24.3s\n",
      "518:\tlearn: 0.2846984\ttotal: 26.1s\tremaining: 24.2s\n",
      "519:\tlearn: 0.2844649\ttotal: 26.2s\tremaining: 24.2s\n",
      "520:\tlearn: 0.2841551\ttotal: 26.2s\tremaining: 24.1s\n",
      "521:\tlearn: 0.2839535\ttotal: 26.3s\tremaining: 24.1s\n",
      "522:\tlearn: 0.2837650\ttotal: 26.3s\tremaining: 24s\n",
      "523:\tlearn: 0.2836221\ttotal: 26.4s\tremaining: 24s\n",
      "524:\tlearn: 0.2832381\ttotal: 26.4s\tremaining: 23.9s\n",
      "525:\tlearn: 0.2829471\ttotal: 26.5s\tremaining: 23.9s\n",
      "526:\tlearn: 0.2826809\ttotal: 26.5s\tremaining: 23.8s\n",
      "527:\tlearn: 0.2822076\ttotal: 26.6s\tremaining: 23.8s\n",
      "528:\tlearn: 0.2819943\ttotal: 26.6s\tremaining: 23.7s\n",
      "529:\tlearn: 0.2817518\ttotal: 26.7s\tremaining: 23.7s\n",
      "530:\tlearn: 0.2816779\ttotal: 26.7s\tremaining: 23.6s\n",
      "531:\tlearn: 0.2813246\ttotal: 26.8s\tremaining: 23.5s\n",
      "532:\tlearn: 0.2809138\ttotal: 26.8s\tremaining: 23.5s\n",
      "533:\tlearn: 0.2805180\ttotal: 26.9s\tremaining: 23.4s\n",
      "534:\tlearn: 0.2803267\ttotal: 26.9s\tremaining: 23.4s\n",
      "535:\tlearn: 0.2801383\ttotal: 27s\tremaining: 23.3s\n",
      "536:\tlearn: 0.2796859\ttotal: 27s\tremaining: 23.3s\n",
      "537:\tlearn: 0.2793620\ttotal: 27.1s\tremaining: 23.2s\n",
      "538:\tlearn: 0.2792854\ttotal: 27.1s\tremaining: 23.2s\n",
      "539:\tlearn: 0.2791153\ttotal: 27.1s\tremaining: 23.1s\n",
      "540:\tlearn: 0.2787980\ttotal: 27.2s\tremaining: 23.1s\n",
      "541:\tlearn: 0.2786488\ttotal: 27.2s\tremaining: 23s\n",
      "542:\tlearn: 0.2785912\ttotal: 27.3s\tremaining: 23s\n",
      "543:\tlearn: 0.2782488\ttotal: 27.3s\tremaining: 22.9s\n",
      "544:\tlearn: 0.2779036\ttotal: 27.4s\tremaining: 22.9s\n",
      "545:\tlearn: 0.2774609\ttotal: 27.5s\tremaining: 22.8s\n",
      "546:\tlearn: 0.2773932\ttotal: 27.5s\tremaining: 22.8s\n",
      "547:\tlearn: 0.2770494\ttotal: 27.5s\tremaining: 22.7s\n",
      "548:\tlearn: 0.2765561\ttotal: 27.6s\tremaining: 22.7s\n",
      "549:\tlearn: 0.2764363\ttotal: 27.6s\tremaining: 22.6s\n",
      "550:\tlearn: 0.2762251\ttotal: 27.7s\tremaining: 22.6s\n",
      "551:\tlearn: 0.2760656\ttotal: 27.7s\tremaining: 22.5s\n",
      "552:\tlearn: 0.2758375\ttotal: 27.8s\tremaining: 22.5s\n",
      "553:\tlearn: 0.2756439\ttotal: 27.8s\tremaining: 22.4s\n",
      "554:\tlearn: 0.2755177\ttotal: 27.9s\tremaining: 22.3s\n",
      "555:\tlearn: 0.2751815\ttotal: 27.9s\tremaining: 22.3s\n",
      "556:\tlearn: 0.2750531\ttotal: 28s\tremaining: 22.2s\n",
      "557:\tlearn: 0.2748974\ttotal: 28s\tremaining: 22.2s\n",
      "558:\tlearn: 0.2747457\ttotal: 28.1s\tremaining: 22.1s\n",
      "559:\tlearn: 0.2744604\ttotal: 28.1s\tremaining: 22.1s\n",
      "560:\tlearn: 0.2741068\ttotal: 28.2s\tremaining: 22s\n",
      "561:\tlearn: 0.2734943\ttotal: 28.2s\tremaining: 22s\n",
      "562:\tlearn: 0.2733141\ttotal: 28.3s\tremaining: 22s\n",
      "563:\tlearn: 0.2732409\ttotal: 28.3s\tremaining: 21.9s\n",
      "564:\tlearn: 0.2731128\ttotal: 28.4s\tremaining: 21.9s\n",
      "565:\tlearn: 0.2728167\ttotal: 28.4s\tremaining: 21.8s\n",
      "566:\tlearn: 0.2725497\ttotal: 28.5s\tremaining: 21.7s\n",
      "567:\tlearn: 0.2722477\ttotal: 28.5s\tremaining: 21.7s\n",
      "568:\tlearn: 0.2721271\ttotal: 28.6s\tremaining: 21.6s\n",
      "569:\tlearn: 0.2718518\ttotal: 28.6s\tremaining: 21.6s\n",
      "570:\tlearn: 0.2716344\ttotal: 28.7s\tremaining: 21.5s\n",
      "571:\tlearn: 0.2715918\ttotal: 28.7s\tremaining: 21.5s\n",
      "572:\tlearn: 0.2713546\ttotal: 28.8s\tremaining: 21.5s\n",
      "573:\tlearn: 0.2712483\ttotal: 28.8s\tremaining: 21.4s\n",
      "574:\tlearn: 0.2706234\ttotal: 28.9s\tremaining: 21.4s\n",
      "575:\tlearn: 0.2703869\ttotal: 28.9s\tremaining: 21.3s\n",
      "576:\tlearn: 0.2700464\ttotal: 29s\tremaining: 21.2s\n",
      "577:\tlearn: 0.2696046\ttotal: 29s\tremaining: 21.2s\n",
      "578:\tlearn: 0.2695072\ttotal: 29.1s\tremaining: 21.1s\n",
      "579:\tlearn: 0.2694176\ttotal: 29.1s\tremaining: 21.1s\n",
      "580:\tlearn: 0.2688537\ttotal: 29.2s\tremaining: 21s\n",
      "581:\tlearn: 0.2684939\ttotal: 29.2s\tremaining: 21s\n",
      "582:\tlearn: 0.2681928\ttotal: 29.3s\tremaining: 20.9s\n",
      "583:\tlearn: 0.2678172\ttotal: 29.3s\tremaining: 20.9s\n",
      "584:\tlearn: 0.2676235\ttotal: 29.4s\tremaining: 20.8s\n",
      "585:\tlearn: 0.2674179\ttotal: 29.4s\tremaining: 20.8s\n",
      "586:\tlearn: 0.2671643\ttotal: 29.5s\tremaining: 20.7s\n",
      "587:\tlearn: 0.2668867\ttotal: 29.5s\tremaining: 20.7s\n",
      "588:\tlearn: 0.2665794\ttotal: 29.6s\tremaining: 20.6s\n",
      "589:\tlearn: 0.2663778\ttotal: 29.6s\tremaining: 20.6s\n",
      "590:\tlearn: 0.2659391\ttotal: 29.7s\tremaining: 20.5s\n",
      "591:\tlearn: 0.2654871\ttotal: 29.7s\tremaining: 20.5s\n",
      "592:\tlearn: 0.2652648\ttotal: 29.8s\tremaining: 20.4s\n",
      "593:\tlearn: 0.2651645\ttotal: 29.8s\tremaining: 20.4s\n",
      "594:\tlearn: 0.2649828\ttotal: 29.9s\tremaining: 20.3s\n",
      "595:\tlearn: 0.2642182\ttotal: 29.9s\tremaining: 20.3s\n",
      "596:\tlearn: 0.2640787\ttotal: 30s\tremaining: 20.2s\n",
      "597:\tlearn: 0.2640252\ttotal: 30s\tremaining: 20.2s\n",
      "598:\tlearn: 0.2638238\ttotal: 30.1s\tremaining: 20.1s\n",
      "599:\tlearn: 0.2636020\ttotal: 30.1s\tremaining: 20.1s\n",
      "600:\tlearn: 0.2632075\ttotal: 30.1s\tremaining: 20s\n",
      "601:\tlearn: 0.2629989\ttotal: 30.2s\tremaining: 20s\n",
      "602:\tlearn: 0.2629289\ttotal: 30.3s\tremaining: 19.9s\n",
      "603:\tlearn: 0.2626135\ttotal: 30.3s\tremaining: 19.9s\n",
      "604:\tlearn: 0.2622955\ttotal: 30.4s\tremaining: 19.8s\n",
      "605:\tlearn: 0.2621264\ttotal: 30.4s\tremaining: 19.8s\n",
      "606:\tlearn: 0.2618102\ttotal: 30.4s\tremaining: 19.7s\n",
      "607:\tlearn: 0.2615410\ttotal: 30.5s\tremaining: 19.7s\n",
      "608:\tlearn: 0.2611338\ttotal: 30.5s\tremaining: 19.6s\n",
      "609:\tlearn: 0.2606451\ttotal: 30.6s\tremaining: 19.6s\n",
      "610:\tlearn: 0.2604650\ttotal: 30.6s\tremaining: 19.5s\n",
      "611:\tlearn: 0.2602494\ttotal: 30.7s\tremaining: 19.5s\n",
      "612:\tlearn: 0.2600283\ttotal: 30.7s\tremaining: 19.4s\n",
      "613:\tlearn: 0.2594523\ttotal: 30.8s\tremaining: 19.4s\n",
      "614:\tlearn: 0.2592938\ttotal: 30.8s\tremaining: 19.3s\n",
      "615:\tlearn: 0.2589750\ttotal: 30.9s\tremaining: 19.2s\n",
      "616:\tlearn: 0.2588712\ttotal: 30.9s\tremaining: 19.2s\n",
      "617:\tlearn: 0.2587096\ttotal: 31s\tremaining: 19.1s\n",
      "618:\tlearn: 0.2583367\ttotal: 31s\tremaining: 19.1s\n",
      "619:\tlearn: 0.2581435\ttotal: 31.1s\tremaining: 19s\n",
      "620:\tlearn: 0.2580213\ttotal: 31.1s\tremaining: 19s\n",
      "621:\tlearn: 0.2579270\ttotal: 31.1s\tremaining: 18.9s\n",
      "622:\tlearn: 0.2576312\ttotal: 31.2s\tremaining: 18.9s\n",
      "623:\tlearn: 0.2571967\ttotal: 31.2s\tremaining: 18.8s\n",
      "624:\tlearn: 0.2569398\ttotal: 31.3s\tremaining: 18.8s\n",
      "625:\tlearn: 0.2565544\ttotal: 31.3s\tremaining: 18.7s\n",
      "626:\tlearn: 0.2561305\ttotal: 31.4s\tremaining: 18.7s\n",
      "627:\tlearn: 0.2560373\ttotal: 31.4s\tremaining: 18.6s\n",
      "628:\tlearn: 0.2558743\ttotal: 31.5s\tremaining: 18.6s\n",
      "629:\tlearn: 0.2554601\ttotal: 31.5s\tremaining: 18.5s\n",
      "630:\tlearn: 0.2553681\ttotal: 31.6s\tremaining: 18.5s\n",
      "631:\tlearn: 0.2549142\ttotal: 31.6s\tremaining: 18.4s\n",
      "632:\tlearn: 0.2544983\ttotal: 31.7s\tremaining: 18.4s\n",
      "633:\tlearn: 0.2542933\ttotal: 31.7s\tremaining: 18.3s\n",
      "634:\tlearn: 0.2540939\ttotal: 31.8s\tremaining: 18.3s\n",
      "635:\tlearn: 0.2538177\ttotal: 31.8s\tremaining: 18.2s\n",
      "636:\tlearn: 0.2535031\ttotal: 31.9s\tremaining: 18.2s\n",
      "637:\tlearn: 0.2533502\ttotal: 31.9s\tremaining: 18.1s\n",
      "638:\tlearn: 0.2532368\ttotal: 32s\tremaining: 18.1s\n",
      "639:\tlearn: 0.2531006\ttotal: 32s\tremaining: 18s\n",
      "640:\tlearn: 0.2528933\ttotal: 32.1s\tremaining: 18s\n",
      "641:\tlearn: 0.2525942\ttotal: 32.1s\tremaining: 17.9s\n",
      "642:\tlearn: 0.2524668\ttotal: 32.2s\tremaining: 17.9s\n",
      "643:\tlearn: 0.2521272\ttotal: 32.2s\tremaining: 17.8s\n",
      "644:\tlearn: 0.2518899\ttotal: 32.3s\tremaining: 17.8s\n",
      "645:\tlearn: 0.2517257\ttotal: 32.3s\tremaining: 17.7s\n",
      "646:\tlearn: 0.2514499\ttotal: 32.4s\tremaining: 17.7s\n",
      "647:\tlearn: 0.2513969\ttotal: 32.4s\tremaining: 17.6s\n",
      "648:\tlearn: 0.2513557\ttotal: 32.5s\tremaining: 17.6s\n",
      "649:\tlearn: 0.2511058\ttotal: 32.5s\tremaining: 17.5s\n"
     ]
    },
    {
     "name": "stdout",
     "output_type": "stream",
     "text": [
      "650:\tlearn: 0.2509499\ttotal: 32.6s\tremaining: 17.5s\n",
      "651:\tlearn: 0.2506892\ttotal: 32.6s\tremaining: 17.4s\n",
      "652:\tlearn: 0.2505269\ttotal: 32.7s\tremaining: 17.4s\n",
      "653:\tlearn: 0.2500326\ttotal: 32.7s\tremaining: 17.3s\n",
      "654:\tlearn: 0.2498349\ttotal: 32.8s\tremaining: 17.3s\n",
      "655:\tlearn: 0.2496610\ttotal: 32.8s\tremaining: 17.2s\n",
      "656:\tlearn: 0.2494096\ttotal: 32.9s\tremaining: 17.2s\n",
      "657:\tlearn: 0.2491799\ttotal: 32.9s\tremaining: 17.1s\n",
      "658:\tlearn: 0.2489466\ttotal: 33s\tremaining: 17.1s\n",
      "659:\tlearn: 0.2487738\ttotal: 33s\tremaining: 17s\n",
      "660:\tlearn: 0.2485079\ttotal: 33.1s\tremaining: 17s\n",
      "661:\tlearn: 0.2483203\ttotal: 33.1s\tremaining: 16.9s\n",
      "662:\tlearn: 0.2480069\ttotal: 33.2s\tremaining: 16.9s\n",
      "663:\tlearn: 0.2478868\ttotal: 33.2s\tremaining: 16.8s\n",
      "664:\tlearn: 0.2474678\ttotal: 33.3s\tremaining: 16.8s\n",
      "665:\tlearn: 0.2471796\ttotal: 33.3s\tremaining: 16.7s\n",
      "666:\tlearn: 0.2467854\ttotal: 33.4s\tremaining: 16.7s\n",
      "667:\tlearn: 0.2464753\ttotal: 33.4s\tremaining: 16.6s\n",
      "668:\tlearn: 0.2460946\ttotal: 33.5s\tremaining: 16.6s\n",
      "669:\tlearn: 0.2459288\ttotal: 33.5s\tremaining: 16.5s\n",
      "670:\tlearn: 0.2457519\ttotal: 33.6s\tremaining: 16.5s\n",
      "671:\tlearn: 0.2455563\ttotal: 33.6s\tremaining: 16.4s\n",
      "672:\tlearn: 0.2453453\ttotal: 33.7s\tremaining: 16.4s\n",
      "673:\tlearn: 0.2448972\ttotal: 33.7s\tremaining: 16.3s\n",
      "674:\tlearn: 0.2444329\ttotal: 33.8s\tremaining: 16.3s\n",
      "675:\tlearn: 0.2443230\ttotal: 33.8s\tremaining: 16.2s\n",
      "676:\tlearn: 0.2441903\ttotal: 33.9s\tremaining: 16.2s\n",
      "677:\tlearn: 0.2439861\ttotal: 33.9s\tremaining: 16.1s\n",
      "678:\tlearn: 0.2438222\ttotal: 34s\tremaining: 16.1s\n",
      "679:\tlearn: 0.2435660\ttotal: 34s\tremaining: 16s\n",
      "680:\tlearn: 0.2435131\ttotal: 34s\tremaining: 15.9s\n",
      "681:\tlearn: 0.2433754\ttotal: 34.1s\tremaining: 15.9s\n",
      "682:\tlearn: 0.2432624\ttotal: 34.1s\tremaining: 15.8s\n",
      "683:\tlearn: 0.2431613\ttotal: 34.2s\tremaining: 15.8s\n",
      "684:\tlearn: 0.2428244\ttotal: 34.2s\tremaining: 15.7s\n",
      "685:\tlearn: 0.2426564\ttotal: 34.3s\tremaining: 15.7s\n",
      "686:\tlearn: 0.2423302\ttotal: 34.4s\tremaining: 15.7s\n",
      "687:\tlearn: 0.2420797\ttotal: 34.4s\tremaining: 15.6s\n",
      "688:\tlearn: 0.2418264\ttotal: 34.5s\tremaining: 15.6s\n",
      "689:\tlearn: 0.2414101\ttotal: 34.5s\tremaining: 15.5s\n",
      "690:\tlearn: 0.2411407\ttotal: 34.6s\tremaining: 15.5s\n",
      "691:\tlearn: 0.2410872\ttotal: 34.6s\tremaining: 15.4s\n",
      "692:\tlearn: 0.2408683\ttotal: 34.7s\tremaining: 15.4s\n",
      "693:\tlearn: 0.2407889\ttotal: 34.7s\tremaining: 15.3s\n",
      "694:\tlearn: 0.2405589\ttotal: 34.8s\tremaining: 15.3s\n",
      "695:\tlearn: 0.2404316\ttotal: 34.8s\tremaining: 15.2s\n",
      "696:\tlearn: 0.2402359\ttotal: 34.9s\tremaining: 15.2s\n",
      "697:\tlearn: 0.2399686\ttotal: 34.9s\tremaining: 15.1s\n",
      "698:\tlearn: 0.2396315\ttotal: 35s\tremaining: 15.1s\n",
      "699:\tlearn: 0.2392407\ttotal: 35s\tremaining: 15s\n",
      "700:\tlearn: 0.2390544\ttotal: 35.1s\tremaining: 15s\n",
      "701:\tlearn: 0.2389472\ttotal: 35.1s\tremaining: 14.9s\n",
      "702:\tlearn: 0.2386387\ttotal: 35.2s\tremaining: 14.9s\n",
      "703:\tlearn: 0.2383402\ttotal: 35.2s\tremaining: 14.8s\n",
      "704:\tlearn: 0.2380991\ttotal: 35.3s\tremaining: 14.8s\n",
      "705:\tlearn: 0.2376274\ttotal: 35.3s\tremaining: 14.7s\n",
      "706:\tlearn: 0.2371203\ttotal: 35.3s\tremaining: 14.6s\n",
      "707:\tlearn: 0.2366784\ttotal: 35.4s\tremaining: 14.6s\n",
      "708:\tlearn: 0.2364074\ttotal: 35.4s\tremaining: 14.5s\n",
      "709:\tlearn: 0.2362673\ttotal: 35.5s\tremaining: 14.5s\n",
      "710:\tlearn: 0.2361555\ttotal: 35.5s\tremaining: 14.4s\n",
      "711:\tlearn: 0.2356862\ttotal: 35.6s\tremaining: 14.4s\n",
      "712:\tlearn: 0.2356408\ttotal: 35.6s\tremaining: 14.3s\n",
      "713:\tlearn: 0.2355759\ttotal: 35.7s\tremaining: 14.3s\n",
      "714:\tlearn: 0.2354430\ttotal: 35.7s\tremaining: 14.2s\n",
      "715:\tlearn: 0.2351858\ttotal: 35.7s\tremaining: 14.2s\n",
      "716:\tlearn: 0.2347856\ttotal: 35.8s\tremaining: 14.1s\n",
      "717:\tlearn: 0.2346547\ttotal: 35.8s\tremaining: 14.1s\n",
      "718:\tlearn: 0.2341978\ttotal: 35.9s\tremaining: 14s\n",
      "719:\tlearn: 0.2340167\ttotal: 36s\tremaining: 14s\n",
      "720:\tlearn: 0.2339326\ttotal: 36s\tremaining: 13.9s\n",
      "721:\tlearn: 0.2335842\ttotal: 36.1s\tremaining: 13.9s\n",
      "722:\tlearn: 0.2332718\ttotal: 36.1s\tremaining: 13.8s\n",
      "723:\tlearn: 0.2329205\ttotal: 36.1s\tremaining: 13.8s\n",
      "724:\tlearn: 0.2325087\ttotal: 36.2s\tremaining: 13.7s\n",
      "725:\tlearn: 0.2322515\ttotal: 36.2s\tremaining: 13.7s\n",
      "726:\tlearn: 0.2320511\ttotal: 36.3s\tremaining: 13.6s\n",
      "727:\tlearn: 0.2316458\ttotal: 36.4s\tremaining: 13.6s\n",
      "728:\tlearn: 0.2315204\ttotal: 36.4s\tremaining: 13.5s\n",
      "729:\tlearn: 0.2311104\ttotal: 36.5s\tremaining: 13.5s\n",
      "730:\tlearn: 0.2309872\ttotal: 36.5s\tremaining: 13.4s\n",
      "731:\tlearn: 0.2309263\ttotal: 36.6s\tremaining: 13.4s\n",
      "732:\tlearn: 0.2307851\ttotal: 36.6s\tremaining: 13.3s\n",
      "733:\tlearn: 0.2301757\ttotal: 36.7s\tremaining: 13.3s\n",
      "734:\tlearn: 0.2300272\ttotal: 36.7s\tremaining: 13.2s\n",
      "735:\tlearn: 0.2294695\ttotal: 36.8s\tremaining: 13.2s\n",
      "736:\tlearn: 0.2292646\ttotal: 36.8s\tremaining: 13.1s\n",
      "737:\tlearn: 0.2291218\ttotal: 36.9s\tremaining: 13.1s\n",
      "738:\tlearn: 0.2290124\ttotal: 36.9s\tremaining: 13s\n",
      "739:\tlearn: 0.2287108\ttotal: 37s\tremaining: 13s\n",
      "740:\tlearn: 0.2281497\ttotal: 37s\tremaining: 12.9s\n",
      "741:\tlearn: 0.2279774\ttotal: 37s\tremaining: 12.9s\n",
      "742:\tlearn: 0.2278415\ttotal: 37.1s\tremaining: 12.8s\n",
      "743:\tlearn: 0.2277324\ttotal: 37.2s\tremaining: 12.8s\n",
      "744:\tlearn: 0.2274615\ttotal: 37.2s\tremaining: 12.7s\n",
      "745:\tlearn: 0.2271769\ttotal: 37.3s\tremaining: 12.7s\n",
      "746:\tlearn: 0.2270020\ttotal: 37.3s\tremaining: 12.6s\n",
      "747:\tlearn: 0.2268333\ttotal: 37.4s\tremaining: 12.6s\n",
      "748:\tlearn: 0.2263927\ttotal: 37.4s\tremaining: 12.5s\n",
      "749:\tlearn: 0.2260994\ttotal: 37.5s\tremaining: 12.5s\n",
      "750:\tlearn: 0.2258608\ttotal: 37.5s\tremaining: 12.4s\n",
      "751:\tlearn: 0.2257423\ttotal: 37.6s\tremaining: 12.4s\n",
      "752:\tlearn: 0.2252288\ttotal: 37.6s\tremaining: 12.3s\n",
      "753:\tlearn: 0.2248319\ttotal: 37.7s\tremaining: 12.3s\n",
      "754:\tlearn: 0.2245833\ttotal: 37.7s\tremaining: 12.2s\n",
      "755:\tlearn: 0.2245239\ttotal: 37.8s\tremaining: 12.2s\n",
      "756:\tlearn: 0.2243171\ttotal: 37.8s\tremaining: 12.1s\n",
      "757:\tlearn: 0.2241485\ttotal: 37.9s\tremaining: 12.1s\n",
      "758:\tlearn: 0.2240844\ttotal: 37.9s\tremaining: 12s\n",
      "759:\tlearn: 0.2240154\ttotal: 38s\tremaining: 12s\n",
      "760:\tlearn: 0.2238799\ttotal: 38s\tremaining: 11.9s\n",
      "761:\tlearn: 0.2236964\ttotal: 38s\tremaining: 11.9s\n",
      "762:\tlearn: 0.2232835\ttotal: 38.1s\tremaining: 11.8s\n",
      "763:\tlearn: 0.2230095\ttotal: 38.2s\tremaining: 11.8s\n",
      "764:\tlearn: 0.2226972\ttotal: 38.2s\tremaining: 11.7s\n",
      "765:\tlearn: 0.2224950\ttotal: 38.3s\tremaining: 11.7s\n",
      "766:\tlearn: 0.2223543\ttotal: 38.3s\tremaining: 11.6s\n",
      "767:\tlearn: 0.2222452\ttotal: 38.4s\tremaining: 11.6s\n",
      "768:\tlearn: 0.2221735\ttotal: 38.4s\tremaining: 11.5s\n",
      "769:\tlearn: 0.2219268\ttotal: 38.5s\tremaining: 11.5s\n",
      "770:\tlearn: 0.2217107\ttotal: 38.5s\tremaining: 11.4s\n",
      "771:\tlearn: 0.2215613\ttotal: 38.6s\tremaining: 11.4s\n",
      "772:\tlearn: 0.2213601\ttotal: 38.6s\tremaining: 11.3s\n",
      "773:\tlearn: 0.2212285\ttotal: 38.7s\tremaining: 11.3s\n",
      "774:\tlearn: 0.2210166\ttotal: 38.7s\tremaining: 11.2s\n",
      "775:\tlearn: 0.2209306\ttotal: 38.8s\tremaining: 11.2s\n",
      "776:\tlearn: 0.2204654\ttotal: 38.8s\tremaining: 11.1s\n",
      "777:\tlearn: 0.2203878\ttotal: 38.9s\tremaining: 11.1s\n",
      "778:\tlearn: 0.2203485\ttotal: 38.9s\tremaining: 11s\n",
      "779:\tlearn: 0.2203091\ttotal: 39s\tremaining: 11s\n",
      "780:\tlearn: 0.2201380\ttotal: 39s\tremaining: 10.9s\n",
      "781:\tlearn: 0.2198404\ttotal: 39.1s\tremaining: 10.9s\n",
      "782:\tlearn: 0.2196419\ttotal: 39.1s\tremaining: 10.8s\n",
      "783:\tlearn: 0.2194586\ttotal: 39.2s\tremaining: 10.8s\n",
      "784:\tlearn: 0.2192717\ttotal: 39.2s\tremaining: 10.7s\n",
      "785:\tlearn: 0.2190735\ttotal: 39.2s\tremaining: 10.7s\n",
      "786:\tlearn: 0.2188097\ttotal: 39.3s\tremaining: 10.6s\n",
      "787:\tlearn: 0.2186252\ttotal: 39.3s\tremaining: 10.6s\n",
      "788:\tlearn: 0.2185041\ttotal: 39.4s\tremaining: 10.5s\n",
      "789:\tlearn: 0.2182618\ttotal: 39.4s\tremaining: 10.5s\n",
      "790:\tlearn: 0.2181339\ttotal: 39.5s\tremaining: 10.4s\n",
      "791:\tlearn: 0.2178070\ttotal: 39.5s\tremaining: 10.4s\n",
      "792:\tlearn: 0.2175745\ttotal: 39.6s\tremaining: 10.3s\n",
      "793:\tlearn: 0.2172120\ttotal: 39.6s\tremaining: 10.3s\n",
      "794:\tlearn: 0.2171106\ttotal: 39.7s\tremaining: 10.2s\n",
      "795:\tlearn: 0.2169425\ttotal: 39.7s\tremaining: 10.2s\n",
      "796:\tlearn: 0.2167276\ttotal: 39.8s\tremaining: 10.1s\n",
      "797:\tlearn: 0.2162196\ttotal: 39.8s\tremaining: 10.1s\n",
      "798:\tlearn: 0.2160129\ttotal: 39.9s\tremaining: 10s\n",
      "799:\tlearn: 0.2157542\ttotal: 40s\tremaining: 9.99s\n",
      "800:\tlearn: 0.2155810\ttotal: 40s\tremaining: 9.94s\n",
      "801:\tlearn: 0.2155338\ttotal: 40.1s\tremaining: 9.89s\n",
      "802:\tlearn: 0.2154176\ttotal: 40.1s\tremaining: 9.84s\n",
      "803:\tlearn: 0.2153310\ttotal: 40.2s\tremaining: 9.79s\n",
      "804:\tlearn: 0.2152432\ttotal: 40.2s\tremaining: 9.74s\n",
      "805:\tlearn: 0.2149868\ttotal: 40.3s\tremaining: 9.69s\n",
      "806:\tlearn: 0.2146015\ttotal: 40.3s\tremaining: 9.64s\n",
      "807:\tlearn: 0.2144041\ttotal: 40.4s\tremaining: 9.59s\n",
      "808:\tlearn: 0.2143361\ttotal: 40.4s\tremaining: 9.54s\n",
      "809:\tlearn: 0.2140967\ttotal: 40.5s\tremaining: 9.49s\n",
      "810:\tlearn: 0.2139428\ttotal: 40.5s\tremaining: 9.44s\n",
      "811:\tlearn: 0.2138839\ttotal: 40.6s\tremaining: 9.39s\n"
     ]
    },
    {
     "name": "stdout",
     "output_type": "stream",
     "text": [
      "812:\tlearn: 0.2136286\ttotal: 40.6s\tremaining: 9.34s\n",
      "813:\tlearn: 0.2135627\ttotal: 40.7s\tremaining: 9.29s\n",
      "814:\tlearn: 0.2134599\ttotal: 40.7s\tremaining: 9.24s\n",
      "815:\tlearn: 0.2133069\ttotal: 40.8s\tremaining: 9.19s\n",
      "816:\tlearn: 0.2131285\ttotal: 40.8s\tremaining: 9.14s\n",
      "817:\tlearn: 0.2130458\ttotal: 40.9s\tremaining: 9.1s\n",
      "818:\tlearn: 0.2128910\ttotal: 40.9s\tremaining: 9.04s\n",
      "819:\tlearn: 0.2125656\ttotal: 41s\tremaining: 8.99s\n",
      "820:\tlearn: 0.2124054\ttotal: 41s\tremaining: 8.94s\n",
      "821:\tlearn: 0.2123411\ttotal: 41.1s\tremaining: 8.89s\n",
      "822:\tlearn: 0.2123030\ttotal: 41.1s\tremaining: 8.84s\n",
      "823:\tlearn: 0.2119946\ttotal: 41.2s\tremaining: 8.79s\n",
      "824:\tlearn: 0.2117832\ttotal: 41.2s\tremaining: 8.74s\n",
      "825:\tlearn: 0.2116037\ttotal: 41.3s\tremaining: 8.69s\n",
      "826:\tlearn: 0.2114213\ttotal: 41.3s\tremaining: 8.64s\n",
      "827:\tlearn: 0.2111945\ttotal: 41.4s\tremaining: 8.59s\n",
      "828:\tlearn: 0.2109388\ttotal: 41.4s\tremaining: 8.54s\n",
      "829:\tlearn: 0.2107535\ttotal: 41.5s\tremaining: 8.49s\n",
      "830:\tlearn: 0.2104771\ttotal: 41.5s\tremaining: 8.45s\n",
      "831:\tlearn: 0.2101942\ttotal: 41.6s\tremaining: 8.39s\n",
      "832:\tlearn: 0.2100824\ttotal: 41.6s\tremaining: 8.34s\n",
      "833:\tlearn: 0.2099041\ttotal: 41.7s\tremaining: 8.3s\n",
      "834:\tlearn: 0.2097765\ttotal: 41.7s\tremaining: 8.24s\n",
      "835:\tlearn: 0.2096463\ttotal: 41.8s\tremaining: 8.19s\n",
      "836:\tlearn: 0.2095563\ttotal: 41.8s\tremaining: 8.14s\n",
      "837:\tlearn: 0.2094423\ttotal: 41.9s\tremaining: 8.1s\n",
      "838:\tlearn: 0.2089332\ttotal: 41.9s\tremaining: 8.05s\n",
      "839:\tlearn: 0.2087765\ttotal: 42s\tremaining: 8s\n",
      "840:\tlearn: 0.2086915\ttotal: 42s\tremaining: 7.94s\n",
      "841:\tlearn: 0.2086454\ttotal: 42.1s\tremaining: 7.89s\n",
      "842:\tlearn: 0.2085494\ttotal: 42.1s\tremaining: 7.84s\n",
      "843:\tlearn: 0.2084215\ttotal: 42.2s\tremaining: 7.79s\n",
      "844:\tlearn: 0.2082871\ttotal: 42.2s\tremaining: 7.74s\n",
      "845:\tlearn: 0.2081413\ttotal: 42.3s\tremaining: 7.69s\n",
      "846:\tlearn: 0.2078980\ttotal: 42.3s\tremaining: 7.64s\n",
      "847:\tlearn: 0.2076961\ttotal: 42.3s\tremaining: 7.59s\n",
      "848:\tlearn: 0.2075360\ttotal: 42.4s\tremaining: 7.54s\n",
      "849:\tlearn: 0.2073739\ttotal: 42.5s\tremaining: 7.49s\n",
      "850:\tlearn: 0.2072803\ttotal: 42.5s\tremaining: 7.44s\n",
      "851:\tlearn: 0.2071346\ttotal: 42.5s\tremaining: 7.39s\n",
      "852:\tlearn: 0.2069676\ttotal: 42.6s\tremaining: 7.34s\n",
      "853:\tlearn: 0.2066946\ttotal: 42.7s\tremaining: 7.29s\n",
      "854:\tlearn: 0.2063774\ttotal: 42.7s\tremaining: 7.24s\n",
      "855:\tlearn: 0.2062388\ttotal: 42.8s\tremaining: 7.19s\n",
      "856:\tlearn: 0.2060983\ttotal: 42.8s\tremaining: 7.14s\n",
      "857:\tlearn: 0.2058041\ttotal: 42.9s\tremaining: 7.09s\n",
      "858:\tlearn: 0.2056506\ttotal: 42.9s\tremaining: 7.04s\n",
      "859:\tlearn: 0.2055235\ttotal: 43s\tremaining: 6.99s\n",
      "860:\tlearn: 0.2054642\ttotal: 43s\tremaining: 6.94s\n",
      "861:\tlearn: 0.2052710\ttotal: 43.1s\tremaining: 6.89s\n",
      "862:\tlearn: 0.2050134\ttotal: 43.1s\tremaining: 6.84s\n",
      "863:\tlearn: 0.2048488\ttotal: 43.2s\tremaining: 6.79s\n",
      "864:\tlearn: 0.2045874\ttotal: 43.2s\tremaining: 6.74s\n",
      "865:\tlearn: 0.2044630\ttotal: 43.3s\tremaining: 6.7s\n",
      "866:\tlearn: 0.2043367\ttotal: 43.3s\tremaining: 6.64s\n",
      "867:\tlearn: 0.2041175\ttotal: 43.4s\tremaining: 6.59s\n",
      "868:\tlearn: 0.2040301\ttotal: 43.4s\tremaining: 6.54s\n",
      "869:\tlearn: 0.2037978\ttotal: 43.5s\tremaining: 6.5s\n",
      "870:\tlearn: 0.2036658\ttotal: 43.5s\tremaining: 6.45s\n",
      "871:\tlearn: 0.2033977\ttotal: 43.6s\tremaining: 6.4s\n",
      "872:\tlearn: 0.2033500\ttotal: 43.6s\tremaining: 6.35s\n",
      "873:\tlearn: 0.2032974\ttotal: 43.7s\tremaining: 6.3s\n",
      "874:\tlearn: 0.2029932\ttotal: 43.7s\tremaining: 6.25s\n",
      "875:\tlearn: 0.2028537\ttotal: 43.8s\tremaining: 6.2s\n",
      "876:\tlearn: 0.2026524\ttotal: 43.8s\tremaining: 6.15s\n",
      "877:\tlearn: 0.2024277\ttotal: 43.9s\tremaining: 6.1s\n",
      "878:\tlearn: 0.2021528\ttotal: 44s\tremaining: 6.05s\n",
      "879:\tlearn: 0.2018573\ttotal: 44s\tremaining: 6s\n",
      "880:\tlearn: 0.2016271\ttotal: 44s\tremaining: 5.95s\n",
      "881:\tlearn: 0.2015383\ttotal: 44.1s\tremaining: 5.9s\n",
      "882:\tlearn: 0.2014788\ttotal: 44.1s\tremaining: 5.85s\n",
      "883:\tlearn: 0.2012739\ttotal: 44.2s\tremaining: 5.8s\n",
      "884:\tlearn: 0.2011496\ttotal: 44.2s\tremaining: 5.75s\n",
      "885:\tlearn: 0.2010364\ttotal: 44.3s\tremaining: 5.7s\n",
      "886:\tlearn: 0.2009598\ttotal: 44.3s\tremaining: 5.65s\n",
      "887:\tlearn: 0.2007042\ttotal: 44.4s\tremaining: 5.6s\n",
      "888:\tlearn: 0.2005616\ttotal: 44.4s\tremaining: 5.54s\n",
      "889:\tlearn: 0.2003863\ttotal: 44.5s\tremaining: 5.5s\n",
      "890:\tlearn: 0.2001890\ttotal: 44.5s\tremaining: 5.44s\n",
      "891:\tlearn: 0.1997731\ttotal: 44.6s\tremaining: 5.39s\n",
      "892:\tlearn: 0.1994855\ttotal: 44.6s\tremaining: 5.34s\n",
      "893:\tlearn: 0.1994347\ttotal: 44.6s\tremaining: 5.29s\n",
      "894:\tlearn: 0.1993454\ttotal: 44.7s\tremaining: 5.24s\n",
      "895:\tlearn: 0.1992265\ttotal: 44.8s\tremaining: 5.19s\n",
      "896:\tlearn: 0.1990303\ttotal: 44.8s\tremaining: 5.14s\n",
      "897:\tlearn: 0.1987665\ttotal: 44.9s\tremaining: 5.09s\n",
      "898:\tlearn: 0.1986976\ttotal: 44.9s\tremaining: 5.04s\n",
      "899:\tlearn: 0.1985495\ttotal: 44.9s\tremaining: 4.99s\n",
      "900:\tlearn: 0.1983945\ttotal: 45s\tremaining: 4.94s\n",
      "901:\tlearn: 0.1982779\ttotal: 45.1s\tremaining: 4.89s\n",
      "902:\tlearn: 0.1981130\ttotal: 45.1s\tremaining: 4.84s\n",
      "903:\tlearn: 0.1980153\ttotal: 45.2s\tremaining: 4.79s\n",
      "904:\tlearn: 0.1978954\ttotal: 45.2s\tremaining: 4.74s\n",
      "905:\tlearn: 0.1978110\ttotal: 45.3s\tremaining: 4.7s\n",
      "906:\tlearn: 0.1975782\ttotal: 45.3s\tremaining: 4.65s\n",
      "907:\tlearn: 0.1975530\ttotal: 45.4s\tremaining: 4.6s\n",
      "908:\tlearn: 0.1972481\ttotal: 45.4s\tremaining: 4.55s\n",
      "909:\tlearn: 0.1972241\ttotal: 45.5s\tremaining: 4.5s\n",
      "910:\tlearn: 0.1971700\ttotal: 45.5s\tremaining: 4.45s\n",
      "911:\tlearn: 0.1969391\ttotal: 45.6s\tremaining: 4.4s\n",
      "912:\tlearn: 0.1965790\ttotal: 45.6s\tremaining: 4.35s\n",
      "913:\tlearn: 0.1964535\ttotal: 45.7s\tremaining: 4.3s\n",
      "914:\tlearn: 0.1963081\ttotal: 45.7s\tremaining: 4.25s\n",
      "915:\tlearn: 0.1961285\ttotal: 45.8s\tremaining: 4.2s\n",
      "916:\tlearn: 0.1960651\ttotal: 45.8s\tremaining: 4.14s\n",
      "917:\tlearn: 0.1957586\ttotal: 45.9s\tremaining: 4.1s\n",
      "918:\tlearn: 0.1956749\ttotal: 45.9s\tremaining: 4.04s\n",
      "919:\tlearn: 0.1956130\ttotal: 45.9s\tremaining: 3.99s\n",
      "920:\tlearn: 0.1953005\ttotal: 46s\tremaining: 3.94s\n",
      "921:\tlearn: 0.1950933\ttotal: 46s\tremaining: 3.89s\n",
      "922:\tlearn: 0.1950302\ttotal: 46.1s\tremaining: 3.85s\n",
      "923:\tlearn: 0.1948246\ttotal: 46.1s\tremaining: 3.79s\n",
      "924:\tlearn: 0.1944692\ttotal: 46.2s\tremaining: 3.75s\n",
      "925:\tlearn: 0.1944322\ttotal: 46.3s\tremaining: 3.7s\n",
      "926:\tlearn: 0.1943748\ttotal: 46.3s\tremaining: 3.65s\n",
      "927:\tlearn: 0.1942643\ttotal: 46.4s\tremaining: 3.6s\n",
      "928:\tlearn: 0.1938563\ttotal: 46.4s\tremaining: 3.55s\n",
      "929:\tlearn: 0.1936434\ttotal: 46.5s\tremaining: 3.5s\n",
      "930:\tlearn: 0.1932788\ttotal: 46.5s\tremaining: 3.45s\n",
      "931:\tlearn: 0.1930772\ttotal: 46.6s\tremaining: 3.4s\n",
      "932:\tlearn: 0.1929684\ttotal: 46.6s\tremaining: 3.35s\n",
      "933:\tlearn: 0.1929143\ttotal: 46.7s\tremaining: 3.3s\n",
      "934:\tlearn: 0.1927066\ttotal: 46.7s\tremaining: 3.25s\n",
      "935:\tlearn: 0.1925583\ttotal: 46.8s\tremaining: 3.2s\n",
      "936:\tlearn: 0.1921144\ttotal: 46.8s\tremaining: 3.15s\n",
      "937:\tlearn: 0.1920524\ttotal: 46.9s\tremaining: 3.1s\n",
      "938:\tlearn: 0.1918787\ttotal: 46.9s\tremaining: 3.05s\n",
      "939:\tlearn: 0.1918213\ttotal: 46.9s\tremaining: 3s\n",
      "940:\tlearn: 0.1915496\ttotal: 47s\tremaining: 2.95s\n",
      "941:\tlearn: 0.1912729\ttotal: 47s\tremaining: 2.9s\n",
      "942:\tlearn: 0.1909818\ttotal: 47.1s\tremaining: 2.85s\n",
      "943:\tlearn: 0.1907653\ttotal: 47.1s\tremaining: 2.79s\n",
      "944:\tlearn: 0.1907198\ttotal: 47.2s\tremaining: 2.75s\n",
      "945:\tlearn: 0.1906775\ttotal: 47.2s\tremaining: 2.7s\n",
      "946:\tlearn: 0.1906149\ttotal: 47.3s\tremaining: 2.65s\n",
      "947:\tlearn: 0.1904191\ttotal: 47.3s\tremaining: 2.6s\n",
      "948:\tlearn: 0.1903132\ttotal: 47.4s\tremaining: 2.54s\n",
      "949:\tlearn: 0.1902737\ttotal: 47.4s\tremaining: 2.5s\n",
      "950:\tlearn: 0.1900734\ttotal: 47.5s\tremaining: 2.44s\n",
      "951:\tlearn: 0.1898790\ttotal: 47.5s\tremaining: 2.4s\n",
      "952:\tlearn: 0.1896017\ttotal: 47.6s\tremaining: 2.35s\n",
      "953:\tlearn: 0.1894303\ttotal: 47.6s\tremaining: 2.29s\n",
      "954:\tlearn: 0.1894023\ttotal: 47.7s\tremaining: 2.25s\n",
      "955:\tlearn: 0.1893172\ttotal: 47.7s\tremaining: 2.19s\n",
      "956:\tlearn: 0.1891629\ttotal: 47.7s\tremaining: 2.15s\n",
      "957:\tlearn: 0.1890251\ttotal: 47.8s\tremaining: 2.1s\n",
      "958:\tlearn: 0.1888811\ttotal: 47.9s\tremaining: 2.05s\n",
      "959:\tlearn: 0.1885472\ttotal: 47.9s\tremaining: 2s\n",
      "960:\tlearn: 0.1884381\ttotal: 48s\tremaining: 1.95s\n",
      "961:\tlearn: 0.1881111\ttotal: 48s\tremaining: 1.9s\n",
      "962:\tlearn: 0.1878851\ttotal: 48.1s\tremaining: 1.85s\n",
      "963:\tlearn: 0.1877537\ttotal: 48.1s\tremaining: 1.8s\n",
      "964:\tlearn: 0.1876206\ttotal: 48.2s\tremaining: 1.75s\n",
      "965:\tlearn: 0.1871903\ttotal: 48.2s\tremaining: 1.7s\n",
      "966:\tlearn: 0.1869431\ttotal: 48.3s\tremaining: 1.65s\n",
      "967:\tlearn: 0.1867480\ttotal: 48.3s\tremaining: 1.6s\n",
      "968:\tlearn: 0.1865760\ttotal: 48.4s\tremaining: 1.55s\n",
      "969:\tlearn: 0.1863268\ttotal: 48.5s\tremaining: 1.5s\n",
      "970:\tlearn: 0.1862252\ttotal: 48.5s\tremaining: 1.45s\n",
      "971:\tlearn: 0.1861371\ttotal: 48.5s\tremaining: 1.4s\n"
     ]
    },
    {
     "name": "stdout",
     "output_type": "stream",
     "text": [
      "972:\tlearn: 0.1859764\ttotal: 48.6s\tremaining: 1.35s\n",
      "973:\tlearn: 0.1859214\ttotal: 48.6s\tremaining: 1.3s\n",
      "974:\tlearn: 0.1857735\ttotal: 48.7s\tremaining: 1.25s\n",
      "975:\tlearn: 0.1856541\ttotal: 48.8s\tremaining: 1.2s\n",
      "976:\tlearn: 0.1855031\ttotal: 48.8s\tremaining: 1.15s\n",
      "977:\tlearn: 0.1853774\ttotal: 48.9s\tremaining: 1.1s\n",
      "978:\tlearn: 0.1853325\ttotal: 48.9s\tremaining: 1.05s\n",
      "979:\tlearn: 0.1852128\ttotal: 49s\tremaining: 1000ms\n",
      "980:\tlearn: 0.1850878\ttotal: 49s\tremaining: 950ms\n",
      "981:\tlearn: 0.1850531\ttotal: 49.1s\tremaining: 900ms\n",
      "982:\tlearn: 0.1850112\ttotal: 49.1s\tremaining: 850ms\n",
      "983:\tlearn: 0.1847584\ttotal: 49.2s\tremaining: 800ms\n",
      "984:\tlearn: 0.1847223\ttotal: 49.2s\tremaining: 750ms\n",
      "985:\tlearn: 0.1846446\ttotal: 49.3s\tremaining: 700ms\n",
      "986:\tlearn: 0.1845925\ttotal: 49.3s\tremaining: 650ms\n",
      "987:\tlearn: 0.1843092\ttotal: 49.4s\tremaining: 600ms\n",
      "988:\tlearn: 0.1839380\ttotal: 49.4s\tremaining: 550ms\n",
      "989:\tlearn: 0.1837689\ttotal: 49.5s\tremaining: 500ms\n",
      "990:\tlearn: 0.1835816\ttotal: 49.5s\tremaining: 450ms\n",
      "991:\tlearn: 0.1835244\ttotal: 49.6s\tremaining: 400ms\n",
      "992:\tlearn: 0.1833567\ttotal: 49.6s\tremaining: 350ms\n",
      "993:\tlearn: 0.1830290\ttotal: 49.7s\tremaining: 300ms\n",
      "994:\tlearn: 0.1828341\ttotal: 49.7s\tremaining: 250ms\n",
      "995:\tlearn: 0.1826986\ttotal: 49.7s\tremaining: 200ms\n",
      "996:\tlearn: 0.1826040\ttotal: 49.8s\tremaining: 150ms\n",
      "997:\tlearn: 0.1824440\ttotal: 49.8s\tremaining: 99.9ms\n",
      "998:\tlearn: 0.1824011\ttotal: 49.9s\tremaining: 49.9ms\n",
      "999:\tlearn: 0.1819475\ttotal: 49.9s\tremaining: 0us\n"
     ]
    },
    {
     "data": {
      "text/plain": [
       "<catboost.core.CatBoostClassifier at 0x24e96e642b0>"
      ]
     },
     "execution_count": 65,
     "metadata": {},
     "output_type": "execute_result"
    }
   ],
   "source": [
    "model_CB.fit(xtrain,ytrain)"
   ]
  },
  {
   "cell_type": "code",
   "execution_count": 70,
   "metadata": {},
   "outputs": [
    {
     "data": {
      "text/plain": [
       "array([0., 0., 0., 1., 0., 0., 0., 0., 0., 0., 0., 0., 0., 0., 0., 1., 0.,\n",
       "       0., 1., 0., 1., 0., 1., 0., 0., 0., 0., 1., 0., 0., 0., 0., 0., 0.,\n",
       "       0., 0., 0., 1., 0., 0., 0., 0., 0., 1., 0., 1., 0., 1., 0., 0., 0.,\n",
       "       0., 0., 0., 0., 0., 0., 0., 0., 0., 1., 0., 0., 0., 1., 0., 1., 0.,\n",
       "       0., 0., 1., 1., 0., 0., 0., 1., 0., 0., 1., 0., 0., 0., 0., 0., 0.,\n",
       "       1., 0., 0., 0., 1., 0., 1., 0., 0., 0., 0., 1., 0., 1., 0., 0., 0.,\n",
       "       0., 1., 0., 0., 0., 0., 0., 1., 0., 1., 1., 1., 1., 0., 0., 0., 0.,\n",
       "       0., 0., 0., 0., 0., 0., 0., 0., 1., 0., 0., 1., 0., 0., 0., 0., 1.,\n",
       "       1., 0., 0., 0., 0., 0., 1., 0., 0., 0., 1., 0., 0., 0., 1., 0., 1.,\n",
       "       1., 0., 1., 0., 0., 0., 0., 1., 0., 0., 0., 1., 0., 0., 0., 0., 1.,\n",
       "       0., 0., 0., 0., 0., 1., 0., 1., 0., 1., 0., 0., 0., 1., 1., 1., 0.,\n",
       "       0., 0., 0., 1., 1., 0., 0., 0., 0., 0., 0., 0., 0., 1., 0., 0., 0.,\n",
       "       1., 0., 0., 0., 0., 1., 0., 1., 1., 0., 0., 0., 0., 0., 0., 1., 0.,\n",
       "       0., 1., 0., 0., 0., 0., 0., 0., 0., 0., 0., 0., 0., 0., 0., 0., 0.,\n",
       "       0., 0., 0., 0., 0., 1., 1., 0., 0., 1., 0., 0., 1., 0., 0., 1., 1.,\n",
       "       0., 0., 0., 0., 0., 0., 0., 0., 1., 1., 0., 0., 0., 0., 1., 0., 0.,\n",
       "       0., 0., 0., 1., 0., 0., 0., 1., 1., 0., 0., 0., 1., 0., 0., 0., 0.,\n",
       "       0., 0., 0., 0., 0., 0., 0., 1., 0., 0., 0.])"
      ]
     },
     "execution_count": 70,
     "metadata": {},
     "output_type": "execute_result"
    }
   ],
   "source": [
    "ypred_CB = model_CB.predict(xtest)\n",
    "ypred_CB"
   ]
  },
  {
   "cell_type": "code",
   "execution_count": 68,
   "metadata": {},
   "outputs": [
    {
     "name": "stdout",
     "output_type": "stream",
     "text": [
      "              precision    recall  f1-score   support\n",
      "\n",
      "         0.0       0.00      0.00      0.00         0\n",
      "         1.0       0.33      0.11      0.17       202\n",
      "         2.0       0.00      0.00      0.00        98\n",
      "\n",
      "   micro avg       0.08      0.08      0.08       300\n",
      "   macro avg       0.11      0.04      0.06       300\n",
      "weighted avg       0.22      0.08      0.11       300\n",
      "\n"
     ]
    },
    {
     "name": "stderr",
     "output_type": "stream",
     "text": [
      "C:\\Users\\Alwin\\Anaconda3\\lib\\site-packages\\sklearn\\metrics\\classification.py:1143: UndefinedMetricWarning: Precision and F-score are ill-defined and being set to 0.0 in labels with no predicted samples.\n",
      "  'precision', 'predicted', average, warn_for)\n",
      "C:\\Users\\Alwin\\Anaconda3\\lib\\site-packages\\sklearn\\metrics\\classification.py:1145: UndefinedMetricWarning: Recall and F-score are ill-defined and being set to 0.0 in labels with no true samples.\n",
      "  'recall', 'true', average, warn_for)\n"
     ]
    }
   ],
   "source": [
    "print(classification_report(ytest,ypred_CB))"
   ]
  },
  {
   "cell_type": "code",
   "execution_count": null,
   "metadata": {},
   "outputs": [],
   "source": []
  },
  {
   "cell_type": "code",
   "execution_count": 147,
   "metadata": {},
   "outputs": [],
   "source": [
    "#Applying Ada Boost Classifier"
   ]
  },
  {
   "cell_type": "code",
   "execution_count": 86,
   "metadata": {},
   "outputs": [],
   "source": [
    "from sklearn.ensemble import AdaBoostClassifier"
   ]
  },
  {
   "cell_type": "code",
   "execution_count": 87,
   "metadata": {},
   "outputs": [],
   "source": [
    "model_AD = AdaBoostClassifier()"
   ]
  },
  {
   "cell_type": "code",
   "execution_count": 88,
   "metadata": {},
   "outputs": [
    {
     "data": {
      "text/plain": [
       "AdaBoostClassifier(algorithm='SAMME.R', base_estimator=None,\n",
       "          learning_rate=1.0, n_estimators=50, random_state=None)"
      ]
     },
     "execution_count": 88,
     "metadata": {},
     "output_type": "execute_result"
    }
   ],
   "source": [
    "model_AD.fit(xtrain,ytrain)"
   ]
  },
  {
   "cell_type": "code",
   "execution_count": 89,
   "metadata": {},
   "outputs": [],
   "source": [
    "ypred_AD = model_AD.predict(xtest)"
   ]
  },
  {
   "cell_type": "code",
   "execution_count": 90,
   "metadata": {},
   "outputs": [
    {
     "data": {
      "text/plain": [
       "array([2, 2, 1, 1, 2, 1, 1, 1, 2, 2, 1, 2, 1, 2, 2, 2, 1, 1, 2, 1, 1, 2,\n",
       "       1, 1, 1, 2, 1, 1, 1, 1, 1, 1, 2, 1, 1, 2, 2, 1, 1, 2, 1, 2, 2, 1,\n",
       "       1, 2, 1, 2, 1, 1, 1, 1, 2, 2, 1, 1, 2, 1, 1, 1, 1, 1, 1, 1, 1, 1,\n",
       "       1, 1, 1, 1, 2, 1, 2, 1, 1, 1, 1, 1, 1, 1, 2, 1, 2, 1, 1, 1, 1, 2,\n",
       "       1, 2, 1, 1, 1, 1, 2, 1, 1, 1, 1, 2, 1, 1, 1, 1, 1, 1, 2, 1, 1, 1,\n",
       "       1, 1, 2, 1, 1, 1, 1, 1, 1, 1, 1, 1, 1, 1, 1, 2, 1, 1, 1, 1, 1, 2,\n",
       "       1, 1, 1, 1, 1, 1, 1, 1, 1, 1, 1, 1, 2, 1, 1, 1, 1, 1, 1, 2, 1, 2,\n",
       "       1, 1, 1, 1, 2, 1, 1, 2, 2, 1, 1, 2, 1, 1, 1, 1, 1, 1, 1, 1, 1, 1,\n",
       "       1, 2, 1, 1, 1, 2, 1, 1, 2, 1, 1, 1, 2, 1, 1, 1, 1, 1, 2, 2, 1, 2,\n",
       "       1, 1, 1, 1, 1, 1, 1, 1, 1, 1, 2, 1, 2, 1, 1, 2, 2, 1, 2, 1, 1, 2,\n",
       "       1, 2, 2, 1, 2, 1, 1, 1, 1, 2, 1, 2, 1, 1, 1, 1, 1, 2, 1, 1, 1, 1,\n",
       "       1, 1, 1, 1, 2, 1, 1, 1, 1, 2, 2, 1, 1, 2, 1, 1, 2, 1, 2, 1, 1, 2,\n",
       "       2, 1, 2, 1, 1, 1, 1, 1, 1, 1, 1, 1, 1, 1, 1, 1, 1, 1, 2, 1, 1, 1,\n",
       "       1, 1, 1, 2, 2, 1, 1, 1, 2, 1, 1, 1, 2, 1], dtype=int64)"
      ]
     },
     "execution_count": 90,
     "metadata": {},
     "output_type": "execute_result"
    }
   ],
   "source": [
    "ypred_AD"
   ]
  },
  {
   "cell_type": "code",
   "execution_count": 91,
   "metadata": {},
   "outputs": [
    {
     "name": "stdout",
     "output_type": "stream",
     "text": [
      "              precision    recall  f1-score   support\n",
      "\n",
      "           1       0.81      0.83      0.82       219\n",
      "           2       0.51      0.47      0.49        81\n",
      "\n",
      "   micro avg       0.73      0.73      0.73       300\n",
      "   macro avg       0.66      0.65      0.65       300\n",
      "weighted avg       0.73      0.73      0.73       300\n",
      "\n"
     ]
    }
   ],
   "source": [
    "print(classification_report(ytest,ypred_AD))"
   ]
  },
  {
   "cell_type": "code",
   "execution_count": 148,
   "metadata": {},
   "outputs": [],
   "source": [
    "#Hyper parametric tuning"
   ]
  },
  {
   "cell_type": "code",
   "execution_count": 92,
   "metadata": {
    "scrolled": true
   },
   "outputs": [
    {
     "data": {
      "text/plain": [
       "GridSearchCV(cv=KFold(n_splits=5, random_state=100, shuffle=True),\n",
       "       error_score='raise-deprecating',\n",
       "       estimator=AdaBoostClassifier(algorithm='SAMME.R', base_estimator=None,\n",
       "          learning_rate=1.0, n_estimators=50, random_state=None),\n",
       "       fit_params=None, iid='warn', n_jobs=None,\n",
       "       param_grid=[{'algorithm': ['SAMME', 'SAMME.R'], 'n_estimators': [30, 40, 50, 20], 'learning_rate': [1, 0.8, 0.9, 1.5], 'random_state': [100]}],\n",
       "       pre_dispatch='2*n_jobs', refit=True, return_train_score='warn',\n",
       "       scoring='f1', verbose=0)"
      ]
     },
     "execution_count": 92,
     "metadata": {},
     "output_type": "execute_result"
    }
   ],
   "source": [
    "from sklearn.model_selection import GridSearchCV\n",
    "from sklearn.model_selection import KFold\n",
    "\n",
    "folds = KFold(n_splits = 5,shuffle = True, random_state =100)\n",
    "hyper_params = [{\"algorithm\" : [\"SAMME\",\"SAMME.R\"], 'n_estimators': [30,40,50,20],'learning_rate':[1,0.8,0.9,1.5],'random_state' :[100]}]\n",
    "model_ADH = GridSearchCV(model_AD,param_grid=hyper_params,scoring = 'f1', cv = folds)\n",
    "model_ADH.fit(xtrain,ytrain)"
   ]
  },
  {
   "cell_type": "code",
   "execution_count": 93,
   "metadata": {},
   "outputs": [],
   "source": [
    "ypred_ADH = model_ADH.predict(xtest)"
   ]
  },
  {
   "cell_type": "code",
   "execution_count": 94,
   "metadata": {},
   "outputs": [
    {
     "name": "stdout",
     "output_type": "stream",
     "text": [
      "              precision    recall  f1-score   support\n",
      "\n",
      "           1       0.82      0.83      0.82       219\n",
      "           2       0.52      0.51      0.51        81\n",
      "\n",
      "   micro avg       0.74      0.74      0.74       300\n",
      "   macro avg       0.67      0.67      0.67       300\n",
      "weighted avg       0.74      0.74      0.74       300\n",
      "\n"
     ]
    }
   ],
   "source": [
    "print(classification_report(ytest,ypred_ADH))"
   ]
  },
  {
   "cell_type": "code",
   "execution_count": 95,
   "metadata": {},
   "outputs": [
    {
     "data": {
      "text/plain": [
       "{'algorithm': 'SAMME',\n",
       " 'learning_rate': 1.5,\n",
       " 'n_estimators': 40,\n",
       " 'random_state': 100}"
      ]
     },
     "execution_count": 95,
     "metadata": {},
     "output_type": "execute_result"
    }
   ],
   "source": [
    "model_ADH.best_params_"
   ]
  },
  {
   "cell_type": "code",
   "execution_count": 96,
   "metadata": {},
   "outputs": [
    {
     "data": {
      "text/plain": [
       "array([[0.5244704 , 0.4755296 ],\n",
       "       [0.48986107, 0.51013893],\n",
       "       [0.50163162, 0.49836838],\n",
       "       [0.50230328, 0.49769672],\n",
       "       [0.49500873, 0.50499127],\n",
       "       [0.49816185, 0.50183815],\n",
       "       [0.52651017, 0.47348983],\n",
       "       [0.50143359, 0.49856641],\n",
       "       [0.49201437, 0.50798563],\n",
       "       [0.49226697, 0.50773303],\n",
       "       [0.52348186, 0.47651814],\n",
       "       [0.48582347, 0.51417653],\n",
       "       [0.49697016, 0.50302984],\n",
       "       [0.5064263 , 0.4935737 ],\n",
       "       [0.48745003, 0.51254997],\n",
       "       [0.48458139, 0.51541861],\n",
       "       [0.49943809, 0.50056191],\n",
       "       [0.49985405, 0.50014595],\n",
       "       [0.48788633, 0.51211367],\n",
       "       [0.52686305, 0.47313695],\n",
       "       [0.49925659, 0.50074341],\n",
       "       [0.49081061, 0.50918939],\n",
       "       [0.49256643, 0.50743357],\n",
       "       [0.49226994, 0.50773006],\n",
       "       [0.49222368, 0.50777632],\n",
       "       [0.48788315, 0.51211685],\n",
       "       [0.52662569, 0.47337431],\n",
       "       [0.5227525 , 0.4772475 ],\n",
       "       [0.49825321, 0.50174679],\n",
       "       [0.52201412, 0.47798588],\n",
       "       [0.52110354, 0.47889646],\n",
       "       [0.5255442 , 0.4744558 ],\n",
       "       [0.49463519, 0.50536481],\n",
       "       [0.52277819, 0.47722181],\n",
       "       [0.49824083, 0.50175917],\n",
       "       [0.48784051, 0.51215949],\n",
       "       [0.48852264, 0.51147736],\n",
       "       [0.5155893 , 0.4844107 ],\n",
       "       [0.51406537, 0.48593463],\n",
       "       [0.51332484, 0.48667516],\n",
       "       [0.52281123, 0.47718877],\n",
       "       [0.4949353 , 0.5050647 ],\n",
       "       [0.4882935 , 0.5117065 ],\n",
       "       [0.522247  , 0.477753  ],\n",
       "       [0.52598127, 0.47401873],\n",
       "       [0.48804681, 0.51195319],\n",
       "       [0.49502105, 0.50497895],\n",
       "       [0.49181793, 0.50818207],\n",
       "       [0.51374738, 0.48625262],\n",
       "       [0.50755251, 0.49244749],\n",
       "       [0.5027458 , 0.4972542 ],\n",
       "       [0.4945952 , 0.5054048 ],\n",
       "       [0.48164145, 0.51835855],\n",
       "       [0.48985264, 0.51014736],\n",
       "       [0.52061969, 0.47938031],\n",
       "       [0.49927614, 0.50072386],\n",
       "       [0.49446227, 0.50553773],\n",
       "       [0.48946189, 0.51053811],\n",
       "       [0.49769269, 0.50230731],\n",
       "       [0.52677455, 0.47322545],\n",
       "       [0.50973483, 0.49026517],\n",
       "       [0.50023061, 0.49976939],\n",
       "       [0.50517786, 0.49482214],\n",
       "       [0.53114193, 0.46885807],\n",
       "       [0.51788228, 0.48211772],\n",
       "       [0.51495573, 0.48504427],\n",
       "       [0.52085938, 0.47914062],\n",
       "       [0.50516522, 0.49483478],\n",
       "       [0.52477401, 0.47522599],\n",
       "       [0.50432819, 0.49567181],\n",
       "       [0.49313335, 0.50686665],\n",
       "       [0.49998001, 0.50001999],\n",
       "       [0.49198179, 0.50801821],\n",
       "       [0.5215093 , 0.4784907 ],\n",
       "       [0.50372651, 0.49627349],\n",
       "       [0.51454036, 0.48545964],\n",
       "       [0.52142899, 0.47857101],\n",
       "       [0.5256747 , 0.4743253 ],\n",
       "       [0.52515397, 0.47484603],\n",
       "       [0.51527645, 0.48472355],\n",
       "       [0.49408366, 0.50591634],\n",
       "       [0.50314892, 0.49685108],\n",
       "       [0.49226697, 0.50773303],\n",
       "       [0.51785957, 0.48214043],\n",
       "       [0.52430781, 0.47569219],\n",
       "       [0.49523308, 0.50476692],\n",
       "       [0.5240024 , 0.4759976 ],\n",
       "       [0.49108277, 0.50891723],\n",
       "       [0.51921691, 0.48078309],\n",
       "       [0.49800298, 0.50199702],\n",
       "       [0.4920274 , 0.5079726 ],\n",
       "       [0.50073683, 0.49926317],\n",
       "       [0.52082536, 0.47917464],\n",
       "       [0.49881626, 0.50118374],\n",
       "       [0.49298822, 0.50701178],\n",
       "       [0.50344146, 0.49655854],\n",
       "       [0.51348317, 0.48651683],\n",
       "       [0.49669059, 0.50330941],\n",
       "       [0.50182306, 0.49817694],\n",
       "       [0.49266909, 0.50733091],\n",
       "       [0.49385875, 0.50614125],\n",
       "       [0.52077314, 0.47922686],\n",
       "       [0.49469628, 0.50530372],\n",
       "       [0.51731594, 0.48268406],\n",
       "       [0.49755425, 0.50244575],\n",
       "       [0.49133961, 0.50866039],\n",
       "       [0.49332982, 0.50667018],\n",
       "       [0.53216557, 0.46783443],\n",
       "       [0.5177335 , 0.4822665 ],\n",
       "       [0.49919223, 0.50080777],\n",
       "       [0.49445581, 0.50554419],\n",
       "       [0.51633196, 0.48366804],\n",
       "       [0.48956481, 0.51043519],\n",
       "       [0.50847004, 0.49152996],\n",
       "       [0.52426665, 0.47573335],\n",
       "       [0.51306751, 0.48693249],\n",
       "       [0.49709257, 0.50290743],\n",
       "       [0.51381867, 0.48618133],\n",
       "       [0.49992847, 0.50007153],\n",
       "       [0.50712051, 0.49287949],\n",
       "       [0.52363671, 0.47636329],\n",
       "       [0.53382076, 0.46617924],\n",
       "       [0.50082658, 0.49917342],\n",
       "       [0.49310408, 0.50689592],\n",
       "       [0.50178934, 0.49821066],\n",
       "       [0.49753244, 0.50246756],\n",
       "       [0.52405145, 0.47594855],\n",
       "       [0.52146914, 0.47853086],\n",
       "       [0.52304029, 0.47695971],\n",
       "       [0.52234796, 0.47765204],\n",
       "       [0.50358871, 0.49641129],\n",
       "       [0.49436743, 0.50563257],\n",
       "       [0.50068905, 0.49931095],\n",
       "       [0.5001092 , 0.4998908 ],\n",
       "       [0.52318419, 0.47681581],\n",
       "       [0.5180215 , 0.4819785 ],\n",
       "       [0.50190006, 0.49809994],\n",
       "       [0.49386103, 0.50613897],\n",
       "       [0.51929258, 0.48070742],\n",
       "       [0.52208523, 0.47791477],\n",
       "       [0.52813665, 0.47186335],\n",
       "       [0.50351899, 0.49648101],\n",
       "       [0.50396958, 0.49603042],\n",
       "       [0.50632392, 0.49367608],\n",
       "       [0.49411998, 0.50588002],\n",
       "       [0.52097435, 0.47902565],\n",
       "       [0.51205343, 0.48794657],\n",
       "       [0.50023777, 0.49976223],\n",
       "       [0.51945963, 0.48054037],\n",
       "       [0.52268052, 0.47731948],\n",
       "       [0.52354173, 0.47645827],\n",
       "       [0.47863174, 0.52136826],\n",
       "       [0.49377648, 0.50622352],\n",
       "       [0.49251914, 0.50748086],\n",
       "       [0.521556  , 0.478444  ],\n",
       "       [0.51734193, 0.48265807],\n",
       "       [0.52235842, 0.47764158],\n",
       "       [0.52060734, 0.47939266],\n",
       "       [0.48721429, 0.51278571],\n",
       "       [0.49705124, 0.50294876],\n",
       "       [0.49668935, 0.50331065],\n",
       "       [0.4952199 , 0.5047801 ],\n",
       "       [0.48990631, 0.51009369],\n",
       "       [0.50422319, 0.49577681],\n",
       "       [0.52320798, 0.47679202],\n",
       "       [0.48168571, 0.51831429],\n",
       "       [0.52336472, 0.47663528],\n",
       "       [0.52184523, 0.47815477],\n",
       "       [0.52348186, 0.47651814],\n",
       "       [0.4991643 , 0.5008357 ],\n",
       "       [0.50284608, 0.49715392],\n",
       "       [0.50187354, 0.49812646],\n",
       "       [0.52757739, 0.47242261],\n",
       "       [0.49694831, 0.50305169],\n",
       "       [0.49862579, 0.50137421],\n",
       "       [0.49569349, 0.50430651],\n",
       "       [0.49808457, 0.50191543],\n",
       "       [0.49229947, 0.50770053],\n",
       "       [0.52135997, 0.47864003],\n",
       "       [0.4921576 , 0.5078424 ],\n",
       "       [0.52464472, 0.47535528],\n",
       "       [0.4884437 , 0.5115563 ],\n",
       "       [0.50054897, 0.49945103],\n",
       "       [0.50230575, 0.49769425],\n",
       "       [0.49279672, 0.50720328],\n",
       "       [0.50173231, 0.49826769],\n",
       "       [0.49837919, 0.50162081],\n",
       "       [0.49868914, 0.50131086],\n",
       "       [0.4868087 , 0.5131913 ],\n",
       "       [0.49938698, 0.50061302],\n",
       "       [0.51484423, 0.48515577],\n",
       "       [0.52275169, 0.47724831],\n",
       "       [0.5157797 , 0.4842203 ],\n",
       "       [0.52396053, 0.47603947],\n",
       "       [0.48951211, 0.51048789],\n",
       "       [0.49041401, 0.50958599],\n",
       "       [0.49913666, 0.50086334],\n",
       "       [0.49618948, 0.50381052],\n",
       "       [0.50464921, 0.49535079],\n",
       "       [0.49796291, 0.50203709],\n",
       "       [0.5182113 , 0.4817887 ],\n",
       "       [0.5234071 , 0.4765929 ],\n",
       "       [0.53252892, 0.46747108],\n",
       "       [0.52067096, 0.47932904],\n",
       "       [0.49107086, 0.50892914],\n",
       "       [0.49990283, 0.50009717],\n",
       "       [0.4979302 , 0.5020698 ],\n",
       "       [0.49619051, 0.50380949],\n",
       "       [0.49435208, 0.50564792],\n",
       "       [0.51937786, 0.48062214],\n",
       "       [0.4940984 , 0.5059016 ],\n",
       "       [0.50856801, 0.49143199],\n",
       "       [0.51407885, 0.48592115],\n",
       "       [0.49006653, 0.50993347],\n",
       "       [0.51119198, 0.48880802],\n",
       "       [0.52310871, 0.47689129],\n",
       "       [0.49399381, 0.50600619],\n",
       "       [0.52384158, 0.47615842],\n",
       "       [0.50277882, 0.49722118],\n",
       "       [0.49024146, 0.50975854],\n",
       "       [0.52147226, 0.47852774],\n",
       "       [0.49312508, 0.50687492],\n",
       "       [0.49607905, 0.50392095],\n",
       "       [0.49565941, 0.50434059],\n",
       "       [0.49034896, 0.50965104],\n",
       "       [0.49705434, 0.50294566],\n",
       "       [0.49381608, 0.50618392],\n",
       "       [0.50159059, 0.49840941],\n",
       "       [0.51921691, 0.48078309],\n",
       "       [0.49477413, 0.50522587],\n",
       "       [0.50378135, 0.49621865],\n",
       "       [0.4962564 , 0.5037436 ],\n",
       "       [0.49834153, 0.50165847],\n",
       "       [0.50396288, 0.49603712],\n",
       "       [0.50860778, 0.49139222],\n",
       "       [0.49873096, 0.50126904],\n",
       "       [0.51731594, 0.48268406],\n",
       "       [0.49418406, 0.50581594],\n",
       "       [0.53201721, 0.46798279],\n",
       "       [0.52649837, 0.47350163],\n",
       "       [0.51509457, 0.48490543],\n",
       "       [0.52249353, 0.47750647],\n",
       "       [0.52900311, 0.47099689],\n",
       "       [0.52764251, 0.47235749],\n",
       "       [0.52390305, 0.47609695],\n",
       "       [0.52223708, 0.47776292],\n",
       "       [0.49101906, 0.50898094],\n",
       "       [0.49825567, 0.50174433],\n",
       "       [0.48467878, 0.51532122],\n",
       "       [0.49560374, 0.50439626],\n",
       "       [0.51974598, 0.48025402],\n",
       "       [0.49169689, 0.50830311],\n",
       "       [0.49077774, 0.50922226],\n",
       "       [0.49323565, 0.50676435],\n",
       "       [0.52182626, 0.47817374],\n",
       "       [0.5147022 , 0.4852978 ],\n",
       "       [0.50175633, 0.49824367],\n",
       "       [0.51921434, 0.48078566],\n",
       "       [0.48989775, 0.51010225],\n",
       "       [0.4926425 , 0.5073575 ],\n",
       "       [0.49204129, 0.50795871],\n",
       "       [0.50014911, 0.49985089],\n",
       "       [0.49883797, 0.50116203],\n",
       "       [0.48422188, 0.51577812],\n",
       "       [0.48873818, 0.51126182],\n",
       "       [0.51993729, 0.48006271],\n",
       "       [0.49050773, 0.50949227],\n",
       "       [0.51476543, 0.48523457],\n",
       "       [0.49385961, 0.50614039],\n",
       "       [0.5106266 , 0.4893734 ],\n",
       "       [0.52453677, 0.47546323],\n",
       "       [0.50510523, 0.49489477],\n",
       "       [0.51749073, 0.48250927],\n",
       "       [0.49712509, 0.50287491],\n",
       "       [0.49659507, 0.50340493],\n",
       "       [0.5263982 , 0.4736018 ],\n",
       "       [0.52674719, 0.47325281],\n",
       "       [0.51767442, 0.48232558],\n",
       "       [0.49975348, 0.50024652],\n",
       "       [0.5064576 , 0.4935424 ],\n",
       "       [0.52587638, 0.47412362],\n",
       "       [0.52649517, 0.47350483],\n",
       "       [0.48572   , 0.51428   ],\n",
       "       [0.51531971, 0.48468029],\n",
       "       [0.52486252, 0.47513748],\n",
       "       [0.52903581, 0.47096419],\n",
       "       [0.51906498, 0.48093502],\n",
       "       [0.48998522, 0.51001478],\n",
       "       [0.50294951, 0.49705049],\n",
       "       [0.49185803, 0.50814197],\n",
       "       [0.50752895, 0.49247105],\n",
       "       [0.49494911, 0.50505089],\n",
       "       [0.49939113, 0.50060887],\n",
       "       [0.50770144, 0.49229856],\n",
       "       [0.48983602, 0.51016398],\n",
       "       [0.52881683, 0.47118317],\n",
       "       [0.50263994, 0.49736006],\n",
       "       [0.51994047, 0.48005953],\n",
       "       [0.49700248, 0.50299752],\n",
       "       [0.50233988, 0.49766012]])"
      ]
     },
     "execution_count": 96,
     "metadata": {},
     "output_type": "execute_result"
    }
   ],
   "source": [
    "model_ADH.predict_proba(xtest)"
   ]
  },
  {
   "cell_type": "code",
   "execution_count": 97,
   "metadata": {},
   "outputs": [
    {
     "data": {
      "text/plain": [
       "array([[181,  38],\n",
       "       [ 40,  41]], dtype=int64)"
      ]
     },
     "execution_count": 97,
     "metadata": {},
     "output_type": "execute_result"
    }
   ],
   "source": [
    "confusion_matrix(ytest,ypred_ADH)"
   ]
  },
  {
   "cell_type": "code",
   "execution_count": 98,
   "metadata": {},
   "outputs": [
    {
     "data": {
      "text/html": [
       "<div>\n",
       "<style scoped>\n",
       "    .dataframe tbody tr th:only-of-type {\n",
       "        vertical-align: middle;\n",
       "    }\n",
       "\n",
       "    .dataframe tbody tr th {\n",
       "        vertical-align: top;\n",
       "    }\n",
       "\n",
       "    .dataframe thead th {\n",
       "        text-align: right;\n",
       "    }\n",
       "</style>\n",
       "<table border=\"1\" class=\"dataframe\">\n",
       "  <thead>\n",
       "    <tr style=\"text-align: right;\">\n",
       "      <th></th>\n",
       "      <th>0</th>\n",
       "      <th>1</th>\n",
       "    </tr>\n",
       "  </thead>\n",
       "  <tbody>\n",
       "    <tr>\n",
       "      <th>0</th>\n",
       "      <td>0.524470</td>\n",
       "      <td>0.475530</td>\n",
       "    </tr>\n",
       "    <tr>\n",
       "      <th>1</th>\n",
       "      <td>0.489861</td>\n",
       "      <td>0.510139</td>\n",
       "    </tr>\n",
       "    <tr>\n",
       "      <th>2</th>\n",
       "      <td>0.501632</td>\n",
       "      <td>0.498368</td>\n",
       "    </tr>\n",
       "    <tr>\n",
       "      <th>3</th>\n",
       "      <td>0.502303</td>\n",
       "      <td>0.497697</td>\n",
       "    </tr>\n",
       "    <tr>\n",
       "      <th>4</th>\n",
       "      <td>0.495009</td>\n",
       "      <td>0.504991</td>\n",
       "    </tr>\n",
       "  </tbody>\n",
       "</table>\n",
       "</div>"
      ],
      "text/plain": [
       "          0         1\n",
       "0  0.524470  0.475530\n",
       "1  0.489861  0.510139\n",
       "2  0.501632  0.498368\n",
       "3  0.502303  0.497697\n",
       "4  0.495009  0.504991"
      ]
     },
     "execution_count": 98,
     "metadata": {},
     "output_type": "execute_result"
    }
   ],
   "source": [
    "n_ad = model_ADH.predict_proba(xtest)\n",
    "n_ad = pd.DataFrame(n_ad)\n",
    "n_ad.head()"
   ]
  },
  {
   "cell_type": "code",
   "execution_count": 99,
   "metadata": {},
   "outputs": [],
   "source": [
    "lst = []\n",
    "for i in n_ad[0]:\n",
    "    if(i>0.5):\n",
    "        lst.append(1)\n",
    "    else:\n",
    "        lst.append(2)\n",
    "        \n",
    "n_ad[\"Values\"] = lst"
   ]
  },
  {
   "cell_type": "code",
   "execution_count": 100,
   "metadata": {},
   "outputs": [
    {
     "data": {
      "text/plain": [
       "1    165\n",
       "2    135\n",
       "Name: Values, dtype: int64"
      ]
     },
     "execution_count": 100,
     "metadata": {},
     "output_type": "execute_result"
    }
   ],
   "source": [
    "n_ad.Values.value_counts()"
   ]
  },
  {
   "cell_type": "code",
   "execution_count": 101,
   "metadata": {},
   "outputs": [
    {
     "name": "stdout",
     "output_type": "stream",
     "text": [
      "              precision    recall  f1-score   support\n",
      "\n",
      "           1       0.86      0.65      0.74       219\n",
      "           2       0.43      0.72      0.54        81\n",
      "\n",
      "   micro avg       0.67      0.67      0.67       300\n",
      "   macro avg       0.65      0.68      0.64       300\n",
      "weighted avg       0.74      0.67      0.68       300\n",
      "\n"
     ]
    }
   ],
   "source": [
    "print(classification_report(ytest,n_ad.Values))"
   ]
  },
  {
   "cell_type": "code",
   "execution_count": 102,
   "metadata": {},
   "outputs": [
    {
     "name": "stdout",
     "output_type": "stream",
     "text": [
      "[[142  77]\n",
      " [ 23  58]]\n",
      "0.6666666666666666\n",
      "0.6484018264840182\n",
      "0.7160493827160493\n"
     ]
    }
   ],
   "source": [
    "con_AD =confusion_matrix(ytest,n_ad.Values)\n",
    "print(con_AD)\n",
    "total_AD = sum(sum(con_AD))\n",
    "acc_AD = (con_AD[0,0]+con_AD[1,1])/total_AD\n",
    "print(acc_AD)\n",
    "sen_AD = con_AD[0,0]/(con_AD[0,0]+con_AD[0,1])\n",
    "print(sen_AD)\n",
    "spec_AD= con_AD[1,1]/(con_AD[1,0]+con_AD[1,1])\n",
    "print(spec_AD)"
   ]
  },
  {
   "cell_type": "code",
   "execution_count": 149,
   "metadata": {},
   "outputs": [],
   "source": [
    "#ROC curve for Ada boost"
   ]
  },
  {
   "cell_type": "code",
   "execution_count": 103,
   "metadata": {},
   "outputs": [
    {
     "data": {
      "image/png": "[encoded data removed]",
      "text/plain": [
       "<Figure size 432x288 with 1 Axes>"
      ]
     },
     "metadata": {
      "needs_background": "light"
     },
     "output_type": "display_data"
    }
   ],
   "source": [
    "import matplotlib.pyplot as plt\n",
    "%matplotlib inline\n",
    "fpr,tpr,threshold = roc_curve(ytest,ypred_ADH,pos_label =2)\n",
    "plt.plot(fpr,tpr)\n",
    "plt.xlim([0.0,1.0])\n",
    "plt.ylim([0.0,1.0])\n",
    "plt.xlabel(\"False Positive Rate\")\n",
    "plt.ylabel(\"True Positive Rate\")\n",
    "plt.show()"
   ]
  },
  {
   "cell_type": "code",
   "execution_count": 150,
   "metadata": {},
   "outputs": [],
   "source": [
    "#Applying KNN classifier"
   ]
  },
  {
   "cell_type": "code",
   "execution_count": 104,
   "metadata": {},
   "outputs": [],
   "source": [
    "from sklearn.neighbors import KNeighborsClassifier"
   ]
  },
  {
   "cell_type": "code",
   "execution_count": 105,
   "metadata": {},
   "outputs": [],
   "source": [
    "k_mod = KNeighborsClassifier(n_neighbors=1)"
   ]
  },
  {
   "cell_type": "code",
   "execution_count": 106,
   "metadata": {},
   "outputs": [
    {
     "data": {
      "text/plain": [
       "KNeighborsClassifier(algorithm='auto', leaf_size=30, metric='minkowski',\n",
       "           metric_params=None, n_jobs=None, n_neighbors=1, p=2,\n",
       "           weights='uniform')"
      ]
     },
     "execution_count": 106,
     "metadata": {},
     "output_type": "execute_result"
    }
   ],
   "source": [
    "k_mod.fit(xtrain,ytrain)"
   ]
  },
  {
   "cell_type": "code",
   "execution_count": 107,
   "metadata": {},
   "outputs": [],
   "source": [
    "ypred_KNN = k_mod.predict(xtest)"
   ]
  },
  {
   "cell_type": "code",
   "execution_count": 108,
   "metadata": {},
   "outputs": [
    {
     "name": "stdout",
     "output_type": "stream",
     "text": [
      "              precision    recall  f1-score   support\n",
      "\n",
      "           1       0.74      0.74      0.74       219\n",
      "           2       0.28      0.28      0.28        81\n",
      "\n",
      "   micro avg       0.61      0.61      0.61       300\n",
      "   macro avg       0.51      0.51      0.51       300\n",
      "weighted avg       0.61      0.61      0.61       300\n",
      "\n"
     ]
    }
   ],
   "source": [
    "print(classification_report(ytest,ypred_KNN))"
   ]
  },
  {
   "cell_type": "code",
   "execution_count": 109,
   "metadata": {},
   "outputs": [
    {
     "name": "stdout",
     "output_type": "stream",
     "text": [
      "[[161  58]\n",
      " [ 58  23]]\n"
     ]
    }
   ],
   "source": [
    "print(confusion_matrix(ytest,ypred_KNN))"
   ]
  },
  {
   "cell_type": "code",
   "execution_count": 151,
   "metadata": {},
   "outputs": [],
   "source": [
    "#Hyper parametric Tuning"
   ]
  },
  {
   "cell_type": "code",
   "execution_count": 110,
   "metadata": {},
   "outputs": [
    {
     "data": {
      "text/plain": [
       "GridSearchCV(cv=KFold(n_splits=5, random_state=100, shuffle=True),\n",
       "       error_score='raise-deprecating',\n",
       "       estimator=KNeighborsClassifier(algorithm='auto', leaf_size=30, metric='minkowski',\n",
       "           metric_params=None, n_jobs=None, n_neighbors=1, p=2,\n",
       "           weights='uniform'),\n",
       "       fit_params=None, iid='warn', n_jobs=None,\n",
       "       param_grid=[{'n_neighbors': [5, 10, 8, 13], 'algorithm': ['auto', 'ball_tree', 'kd_tree', 'brute'], 'leaf_size': [20, 30, 40]}],\n",
       "       pre_dispatch='2*n_jobs', refit=True, return_train_score='warn',\n",
       "       scoring='f1', verbose=0)"
      ]
     },
     "execution_count": 110,
     "metadata": {},
     "output_type": "execute_result"
    }
   ],
   "source": [
    "from sklearn.model_selection import GridSearchCV\n",
    "from sklearn.model_selection import KFold\n",
    "\n",
    "folds = KFold(n_splits = 5,shuffle = True, random_state =100)\n",
    "hyper_params = [{\"n_neighbors\" : [5,10,8,13], 'algorithm': [\"auto\",\"ball_tree\",\"kd_tree\", \"brute\"],'leaf_size':[20,30,40]}]\n",
    "model_KNN = GridSearchCV(k_mod,param_grid=hyper_params,scoring = 'f1', cv = folds)\n",
    "model_KNN.fit(xtrain,ytrain)"
   ]
  },
  {
   "cell_type": "code",
   "execution_count": 111,
   "metadata": {},
   "outputs": [],
   "source": [
    "ypred_KNNH = model_KNN.predict(xtest)"
   ]
  },
  {
   "cell_type": "code",
   "execution_count": 112,
   "metadata": {},
   "outputs": [
    {
     "name": "stdout",
     "output_type": "stream",
     "text": [
      "              precision    recall  f1-score   support\n",
      "\n",
      "           1       0.74      0.93      0.83       219\n",
      "           2       0.40      0.12      0.19        81\n",
      "\n",
      "   micro avg       0.71      0.71      0.71       300\n",
      "   macro avg       0.57      0.53      0.51       300\n",
      "weighted avg       0.65      0.71      0.65       300\n",
      "\n"
     ]
    }
   ],
   "source": [
    "print(classification_report(ytest,ypred_KNNH))"
   ]
  },
  {
   "cell_type": "code",
   "execution_count": 113,
   "metadata": {},
   "outputs": [
    {
     "name": "stdout",
     "output_type": "stream",
     "text": [
      "{'algorithm': 'auto', 'leaf_size': 20, 'n_neighbors': 8}\n"
     ]
    }
   ],
   "source": [
    "print(model_KNN.best_params_)"
   ]
  },
  {
   "cell_type": "code",
   "execution_count": 114,
   "metadata": {
    "scrolled": true
   },
   "outputs": [
    {
     "name": "stdout",
     "output_type": "stream",
     "text": [
      "[[204  15]\n",
      " [ 71  10]]\n"
     ]
    }
   ],
   "source": [
    "print(confusion_matrix(ytest,ypred_KNNH))"
   ]
  },
  {
   "cell_type": "code",
   "execution_count": 115,
   "metadata": {},
   "outputs": [
    {
     "data": {
      "text/html": [
       "<div>\n",
       "<style scoped>\n",
       "    .dataframe tbody tr th:only-of-type {\n",
       "        vertical-align: middle;\n",
       "    }\n",
       "\n",
       "    .dataframe tbody tr th {\n",
       "        vertical-align: top;\n",
       "    }\n",
       "\n",
       "    .dataframe thead th {\n",
       "        text-align: right;\n",
       "    }\n",
       "</style>\n",
       "<table border=\"1\" class=\"dataframe\">\n",
       "  <thead>\n",
       "    <tr style=\"text-align: right;\">\n",
       "      <th></th>\n",
       "      <th>0</th>\n",
       "      <th>1</th>\n",
       "    </tr>\n",
       "  </thead>\n",
       "  <tbody>\n",
       "    <tr>\n",
       "      <th>0</th>\n",
       "      <td>0.750</td>\n",
       "      <td>0.250</td>\n",
       "    </tr>\n",
       "    <tr>\n",
       "      <th>1</th>\n",
       "      <td>0.625</td>\n",
       "      <td>0.375</td>\n",
       "    </tr>\n",
       "    <tr>\n",
       "      <th>2</th>\n",
       "      <td>1.000</td>\n",
       "      <td>0.000</td>\n",
       "    </tr>\n",
       "    <tr>\n",
       "      <th>3</th>\n",
       "      <td>0.750</td>\n",
       "      <td>0.250</td>\n",
       "    </tr>\n",
       "    <tr>\n",
       "      <th>4</th>\n",
       "      <td>0.750</td>\n",
       "      <td>0.250</td>\n",
       "    </tr>\n",
       "  </tbody>\n",
       "</table>\n",
       "</div>"
      ],
      "text/plain": [
       "       0      1\n",
       "0  0.750  0.250\n",
       "1  0.625  0.375\n",
       "2  1.000  0.000\n",
       "3  0.750  0.250\n",
       "4  0.750  0.250"
      ]
     },
     "execution_count": 115,
     "metadata": {},
     "output_type": "execute_result"
    }
   ],
   "source": [
    "n_KNN = model_KNN.predict_proba(xtest)\n",
    "n_KNN = pd.DataFrame(n_KNN)\n",
    "n_KNN.head()"
   ]
  },
  {
   "cell_type": "code",
   "execution_count": 116,
   "metadata": {},
   "outputs": [],
   "source": [
    "lst = []\n",
    "for i in n_KNN[0]:\n",
    "    if(i>0.5):\n",
    "        lst.append(1)\n",
    "    else:\n",
    "        lst.append(2)\n",
    "        \n",
    "n_KNN[\"Values\"] = lst"
   ]
  },
  {
   "cell_type": "code",
   "execution_count": 117,
   "metadata": {},
   "outputs": [
    {
     "data": {
      "text/plain": [
       "1    233\n",
       "2     67\n",
       "Name: Values, dtype: int64"
      ]
     },
     "execution_count": 117,
     "metadata": {},
     "output_type": "execute_result"
    }
   ],
   "source": [
    "n_KNN.Values.value_counts()"
   ]
  },
  {
   "cell_type": "code",
   "execution_count": 118,
   "metadata": {},
   "outputs": [
    {
     "name": "stdout",
     "output_type": "stream",
     "text": [
      "              precision    recall  f1-score   support\n",
      "\n",
      "           1       0.75      0.80      0.77       219\n",
      "           2       0.34      0.28      0.31        81\n",
      "\n",
      "   micro avg       0.66      0.66      0.66       300\n",
      "   macro avg       0.55      0.54      0.54       300\n",
      "weighted avg       0.64      0.66      0.65       300\n",
      "\n"
     ]
    }
   ],
   "source": [
    "print(classification_report(ytest,n_KNN.Values))"
   ]
  },
  {
   "cell_type": "code",
   "execution_count": 121,
   "metadata": {},
   "outputs": [
    {
     "name": "stdout",
     "output_type": "stream",
     "text": [
      "[[204  15]\n",
      " [ 71  10]]\n",
      "0.7133333333333334\n",
      "0.9315068493150684\n",
      "0.12345679012345678\n"
     ]
    }
   ],
   "source": [
    "con_KNN =confusion_matrix(ytest,ypred_KNNH)\n",
    "print(con_KNN)\n",
    "total_KNN = sum(sum(con_KNN))\n",
    "acc_KNN = (con_KNN[0,0]+con_KNN[1,1])/total_KNN\n",
    "print(acc_KNN)\n",
    "sen_KNN = con_KNN[0,0]/(con_KNN[0,0]+con_KNN[0,1])\n",
    "print(sen_KNN)\n",
    "spec_KNN = con_KNN[1,1]/(con_KNN[1,0]+con_KNN[1,1])\n",
    "print(spec_KNN)"
   ]
  },
  {
   "cell_type": "code",
   "execution_count": 152,
   "metadata": {},
   "outputs": [],
   "source": [
    "#ROC curve for the model"
   ]
  },
  {
   "cell_type": "code",
   "execution_count": 122,
   "metadata": {},
   "outputs": [
    {
     "data": {
      "image/png": "[encoded data removed]",
      "text/plain": [
       "<Figure size 432x288 with 1 Axes>"
      ]
     },
     "metadata": {
      "needs_background": "light"
     },
     "output_type": "display_data"
    }
   ],
   "source": [
    "import matplotlib.pyplot as plt\n",
    "%matplotlib inline\n",
    "fpr,tpr,threshold = roc_curve(ytest,ypred_KNNH,pos_label =2)\n",
    "plt.plot(fpr,tpr)\n",
    "plt.xlim([0.0,1.0])\n",
    "plt.ylim([0.0,1.0])\n",
    "plt.xlabel(\"False Positive Rate\")\n",
    "plt.ylabel(\"True Positive Rate\")\n",
    "plt.show()"
   ]
  },
  {
   "cell_type": "code",
   "execution_count": 153,
   "metadata": {},
   "outputs": [],
   "source": [
    "#Applying Naives Bayes Algorithm"
   ]
  },
  {
   "cell_type": "code",
   "execution_count": 124,
   "metadata": {},
   "outputs": [],
   "source": [
    "from sklearn.naive_bayes import GaussianNB"
   ]
  },
  {
   "cell_type": "code",
   "execution_count": 125,
   "metadata": {},
   "outputs": [],
   "source": [
    "nv = GaussianNB()"
   ]
  },
  {
   "cell_type": "code",
   "execution_count": 126,
   "metadata": {},
   "outputs": [
    {
     "data": {
      "text/plain": [
       "GaussianNB(priors=None, var_smoothing=1e-09)"
      ]
     },
     "execution_count": 126,
     "metadata": {},
     "output_type": "execute_result"
    }
   ],
   "source": [
    "nv.fit(xtrain,ytrain)"
   ]
  },
  {
   "cell_type": "code",
   "execution_count": 127,
   "metadata": {},
   "outputs": [],
   "source": [
    "yped_NB=nv.predict(xtest)"
   ]
  },
  {
   "cell_type": "code",
   "execution_count": 128,
   "metadata": {},
   "outputs": [
    {
     "name": "stdout",
     "output_type": "stream",
     "text": [
      "              precision    recall  f1-score   support\n",
      "\n",
      "           1       0.81      0.74      0.77       219\n",
      "           2       0.43      0.54      0.48        81\n",
      "\n",
      "   micro avg       0.68      0.68      0.68       300\n",
      "   macro avg       0.62      0.64      0.63       300\n",
      "weighted avg       0.71      0.68      0.69       300\n",
      "\n"
     ]
    }
   ],
   "source": [
    "print(classification_report(ytest,yped_NB))"
   ]
  },
  {
   "cell_type": "code",
   "execution_count": 129,
   "metadata": {},
   "outputs": [],
   "source": [
    "con =confusion_matrix(ytest,yped_NB)"
   ]
  },
  {
   "cell_type": "code",
   "execution_count": 130,
   "metadata": {},
   "outputs": [],
   "source": [
    "total_NB = sum(sum(con))"
   ]
  },
  {
   "cell_type": "code",
   "execution_count": 131,
   "metadata": {},
   "outputs": [
    {
     "data": {
      "text/plain": [
       "0.6833333333333333"
      ]
     },
     "execution_count": 131,
     "metadata": {},
     "output_type": "execute_result"
    }
   ],
   "source": [
    "acc_NB = (con[0,0]+con[1,1])/total_NB\n",
    "acc_NB"
   ]
  },
  {
   "cell_type": "code",
   "execution_count": 132,
   "metadata": {},
   "outputs": [
    {
     "data": {
      "text/plain": [
       "0.7351598173515982"
      ]
     },
     "execution_count": 132,
     "metadata": {},
     "output_type": "execute_result"
    }
   ],
   "source": [
    "sen_NB = con[0,0]/(con[0,0]+con[0,1])\n",
    "sen_NB"
   ]
  },
  {
   "cell_type": "code",
   "execution_count": 133,
   "metadata": {},
   "outputs": [
    {
     "data": {
      "text/plain": [
       "0.5432098765432098"
      ]
     },
     "execution_count": 133,
     "metadata": {},
     "output_type": "execute_result"
    }
   ],
   "source": [
    "spec_NB = con[1,1]/(con[1,0]+con[1,1])\n",
    "spec_NB"
   ]
  },
  {
   "cell_type": "code",
   "execution_count": 134,
   "metadata": {},
   "outputs": [
    {
     "data": {
      "text/plain": [
       "0.5432098765432098"
      ]
     },
     "execution_count": 134,
     "metadata": {},
     "output_type": "execute_result"
    }
   ],
   "source": [
    "con =confusion_matrix(ytest,yped_NB)\n",
    "total_NB = sum(sum(con))\n",
    "acc_NB = (con[0,0]+con[1,1])/total_NB\n",
    "acc_NB\n",
    "sen_NB = con[0,0]/(con[0,0]+con[0,1])\n",
    "sen_NB\n",
    "spec_NB = con[1,1]/(con[1,0]+con[1,1])\n",
    "spec_NB"
   ]
  },
  {
   "cell_type": "code",
   "execution_count": 154,
   "metadata": {},
   "outputs": [],
   "source": [
    "#ROC Curve"
   ]
  },
  {
   "cell_type": "code",
   "execution_count": 135,
   "metadata": {},
   "outputs": [
    {
     "data": {
      "image/png": "[encoded data removed]",
      "text/plain": [
       "<Figure size 432x288 with 1 Axes>"
      ]
     },
     "metadata": {
      "needs_background": "light"
     },
     "output_type": "display_data"
    }
   ],
   "source": [
    "import matplotlib.pyplot as plt\n",
    "%matplotlib inline\n",
    "fpr,tpr,threshold = roc_curve(ytest,yped_NB,pos_label =2)\n",
    "plt.plot(fpr,tpr)\n",
    "plt.xlim([0.0,1.0])\n",
    "plt.ylim([0.0,1.0])\n",
    "plt.xlabel(\"False Positive Rate\")\n",
    "plt.ylabel(\"True Positive Rate\")\n",
    "plt.show()"
   ]
  },
  {
   "cell_type": "code",
   "execution_count": 155,
   "metadata": {
    "scrolled": true
   },
   "outputs": [],
   "source": [
    "#ROC Curve for the model together"
   ]
  },
  {
   "cell_type": "code",
   "execution_count": 158,
   "metadata": {},
   "outputs": [
    {
     "data": {
      "text/plain": [
       "<matplotlib.legend.Legend at 0x21de728c400>"
      ]
     },
     "execution_count": 158,
     "metadata": {},
     "output_type": "execute_result"
    },
    {
     "data": {
      "image/png": "[encoded data removed]",
      "text/plain": [
       "<Figure size 432x288 with 1 Axes>"
      ]
     },
     "metadata": {
      "needs_background": "light"
     },
     "output_type": "display_data"
    }
   ],
   "source": [
    "fpr,tpr,threshold = roc_curve(ytest,n.Values,pos_label =2)\n",
    "plt.plot(fpr,tpr)\n",
    "plt.xlim([0.0,1.0])\n",
    "plt.ylim([0.0,1.0])\n",
    "fpr,tpr,threshold = roc_curve(ytest,ypred_RDH,pos_label =2)\n",
    "plt.plot(fpr,tpr)\n",
    "plt.xlim([0.0,1.0])\n",
    "plt.ylim([0.0,1.0])\n",
    "fpr,tpr,threshold = roc_curve(ytest,ypred_ADH,pos_label =2)\n",
    "plt.plot(fpr,tpr)\n",
    "plt.xlim([0.0,1.0])\n",
    "plt.ylim([0.0,1.0])\n",
    "fpr,tpr,threshold = roc_curve(ytest,ypred_KNNH,pos_label =2)\n",
    "plt.plot(fpr,tpr)\n",
    "plt.xlim([0.0,1.0])\n",
    "plt.ylim([0.0,1.0])\n",
    "fpr,tpr,threshold = roc_curve(ytest,yped_NB,pos_label =2)\n",
    "plt.plot(fpr,tpr)\n",
    "plt.xlim([0.0,1.0])\n",
    "plt.ylim([0.0,1.0])\n",
    "plt.xlabel(\"False Positive Rate\")\n",
    "plt.ylabel(\"True Positive Rate\")\n",
    "plt.legend([\"Decision Tree\", \"Random Forest\", \"Ada Boost\", \"KNN\", \"Naives Bayes\"])"
   ]
  },
  {
   "cell_type": "code",
   "execution_count": null,
   "metadata": {},
   "outputs": [],
   "source": []
  }
 ],
 "metadata": {
  "kernelspec": {
   "display_name": "Python 3",
   "language": "python",
   "name": "python3"
  },
  "language_info": {
   "codemirror_mode": {
    "name": "ipython",
    "version": 3
   },
   "file_extension": ".py",
   "mimetype": "text/x-python",
   "name": "python",
   "nbconvert_exporter": "python",
   "pygments_lexer": "ipython3",
   "version": "3.7.3"
  }
 },
 "nbformat": 4,
 "nbformat_minor": 2
}
